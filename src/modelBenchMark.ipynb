{
 "cells": [
  {
   "cell_type": "code",
   "execution_count": null,
   "id": "fdd26df4",
   "metadata": {},
   "outputs": [],
   "source": [
    "from ultralytics import YOLO\n",
    "import pandas as pd\n",
    "import matplotlib.pyplot as plt"
   ]
  },
  {
   "cell_type": "code",
   "execution_count": 14,
   "id": "b4a9598f",
   "metadata": {},
   "outputs": [],
   "source": [
    "models = {\n",
    "    \"YOLOv8_Birmania_1\": \"../results/yolo_train/exp/weights/best.pt\",\n",
    "    \"YOLOv8_Birmania_2\": \"../results/yolo_train/exp2/weights/best.pt\",\n",
    "    \"YOLOv8_Birmania_3\": \"../results/yolo_train/expUltimaVersion/weights/best.pt\",\n",
    "    \"YOLOv8_Medellin_finetune\": \"../results/yolo_train/expFinetuneMedellin/weights/best.pt\"\n",
    "}"
   ]
  },
  {
   "cell_type": "code",
   "execution_count": 15,
   "id": "0ae797a5",
   "metadata": {},
   "outputs": [],
   "source": [
    "test_images_path = \"../dataset/images/test\"\n",
    "test_labels_path = \"../dataset/labels/test\"\n",
    "data_yaml = \"../dataset/dataFineTuningMDELocal.yaml\"  # asegúrate que este YAML esté correctamente configurado"
   ]
  },
  {
   "cell_type": "code",
   "execution_count": 16,
   "id": "2f719596",
   "metadata": {},
   "outputs": [
    {
     "name": "stdout",
     "output_type": "stream",
     "text": [
      "Evaluando YOLOv8_Birmania_1...\n",
      "Ultralytics YOLOv8.2.103  Python-3.9.20 torch-2.7.0+cpu CPU (Intel Core(TM) i7-9750H 2.60GHz)\n",
      "Model summary (fused): 168 layers, 3,012,668 parameters, 0 gradients, 8.1 GFLOPs\n"
     ]
    },
    {
     "name": "stderr",
     "output_type": "stream",
     "text": [
      "\u001b[34m\u001b[1mval: \u001b[0mScanning D:\\GIT\\NoHelmetNet\\dataset\\labels\\test... 38 images, 0 backgrounds, 0 corrupt: 100%|██████████| 38/38 [00:00<00:00, 290.04it/s]"
     ]
    },
    {
     "name": "stdout",
     "output_type": "stream",
     "text": [
      "\u001b[34m\u001b[1mval: \u001b[0mWARNING  D:\\GIT\\NoHelmetNet\\dataset\\images\\test\\frame_0000.jpg: 10 duplicate labels removed\n",
      "\u001b[34m\u001b[1mval: \u001b[0mWARNING  D:\\GIT\\NoHelmetNet\\dataset\\images\\test\\frame_0094.jpg: 3 duplicate labels removed\n",
      "\u001b[34m\u001b[1mval: \u001b[0mNew cache created: D:\\GIT\\NoHelmetNet\\dataset\\labels\\test.cache\n"
     ]
    },
    {
     "name": "stderr",
     "output_type": "stream",
     "text": [
      "\n",
      "c:\\Users\\123\\anaconda3\\envs\\ema\\lib\\site-packages\\torch\\utils\\data\\dataloader.py:665: UserWarning: 'pin_memory' argument is set as true but no accelerator is found, then device pinned memory won't be used.\n",
      "  warnings.warn(warn_msg)\n",
      "                 Class     Images  Instances      Box(P          R      mAP50  mAP50-95): 100%|██████████| 5/5 [00:03<00:00,  1.50it/s]\n"
     ]
    },
    {
     "name": "stdout",
     "output_type": "stream",
     "text": [
      "                   all         38        235     0.0761      0.372     0.0649     0.0436\n",
      "   DNoHelmetP1NoHelmet         13         13     0.0504      0.462     0.0514       0.04\n",
      "       DHelmetP1Helmet         34        139      0.235      0.223      0.167      0.107\n",
      "               DHelmet         30         75     0.0793      0.347     0.0912     0.0571\n",
      "             DNoHelmet          1          1          0          0          0          0\n",
      "     DHelmetP1NoHelmet          2          2     0.0253          1     0.0311     0.0129\n",
      "DHelmetP0NoHelmetP1NoHelmet          5          5     0.0667        0.2     0.0487     0.0438\n",
      "Speed: 1.5ms preprocess, 73.8ms inference, 0.0ms loss, 0.5ms postprocess per image\n",
      "Results saved to \u001b[1mruns\\detect\\val9\u001b[0m\n",
      "Evaluando YOLOv8_Birmania_2...\n",
      "Ultralytics YOLOv8.2.103  Python-3.9.20 torch-2.7.0+cpu CPU (Intel Core(TM) i7-9750H 2.60GHz)\n",
      "Model summary (fused): 168 layers, 3,012,668 parameters, 0 gradients, 8.1 GFLOPs\n"
     ]
    },
    {
     "name": "stderr",
     "output_type": "stream",
     "text": [
      "\u001b[34m\u001b[1mval: \u001b[0mScanning D:\\GIT\\NoHelmetNet\\dataset\\labels\\test.cache... 38 images, 0 backgrounds, 0 corrupt: 100%|██████████| 38/38 [00:00<?, ?it/s]"
     ]
    },
    {
     "name": "stdout",
     "output_type": "stream",
     "text": [
      "\u001b[34m\u001b[1mval: \u001b[0mWARNING  D:\\GIT\\NoHelmetNet\\dataset\\images\\test\\frame_0000.jpg: 10 duplicate labels removed\n",
      "\u001b[34m\u001b[1mval: \u001b[0mWARNING  D:\\GIT\\NoHelmetNet\\dataset\\images\\test\\frame_0094.jpg: 3 duplicate labels removed\n"
     ]
    },
    {
     "name": "stderr",
     "output_type": "stream",
     "text": [
      "\n",
      "c:\\Users\\123\\anaconda3\\envs\\ema\\lib\\site-packages\\torch\\utils\\data\\dataloader.py:665: UserWarning: 'pin_memory' argument is set as true but no accelerator is found, then device pinned memory won't be used.\n",
      "  warnings.warn(warn_msg)\n",
      "                 Class     Images  Instances      Box(P          R      mAP50  mAP50-95): 100%|██████████| 5/5 [00:03<00:00,  1.45it/s]\n"
     ]
    },
    {
     "name": "stdout",
     "output_type": "stream",
     "text": [
      "                   all         38        235     0.0456    0.00342     0.0236    0.00995\n",
      "   DNoHelmetP1NoHelmet         13         13          0          0          0          0\n",
      "       DHelmetP1Helmet         34        139       0.25    0.00719      0.127     0.0509\n",
      "               DHelmet         30         75     0.0238     0.0133     0.0147    0.00882\n",
      "             DNoHelmet          1          1          0          0          0          0\n",
      "     DHelmetP1NoHelmet          2          2          0          0          0          0\n",
      "DHelmetP0NoHelmetP1NoHelmet          5          5          0          0          0          0\n",
      "Speed: 1.5ms preprocess, 77.4ms inference, 0.0ms loss, 0.4ms postprocess per image\n",
      "Results saved to \u001b[1mruns\\detect\\val10\u001b[0m\n",
      "Evaluando YOLOv8_Birmania_3...\n",
      "Ultralytics YOLOv8.2.103  Python-3.9.20 torch-2.7.0+cpu CPU (Intel Core(TM) i7-9750H 2.60GHz)\n",
      "Model summary (fused): 168 layers, 3,012,668 parameters, 0 gradients, 8.1 GFLOPs\n"
     ]
    },
    {
     "name": "stderr",
     "output_type": "stream",
     "text": [
      "\u001b[34m\u001b[1mval: \u001b[0mScanning D:\\GIT\\NoHelmetNet\\dataset\\labels\\test.cache... 38 images, 0 backgrounds, 0 corrupt: 100%|██████████| 38/38 [00:00<?, ?it/s]"
     ]
    },
    {
     "name": "stdout",
     "output_type": "stream",
     "text": [
      "\u001b[34m\u001b[1mval: \u001b[0mWARNING  D:\\GIT\\NoHelmetNet\\dataset\\images\\test\\frame_0000.jpg: 10 duplicate labels removed\n",
      "\u001b[34m\u001b[1mval: \u001b[0mWARNING  D:\\GIT\\NoHelmetNet\\dataset\\images\\test\\frame_0094.jpg: 3 duplicate labels removed\n"
     ]
    },
    {
     "name": "stderr",
     "output_type": "stream",
     "text": [
      "\n",
      "c:\\Users\\123\\anaconda3\\envs\\ema\\lib\\site-packages\\torch\\utils\\data\\dataloader.py:665: UserWarning: 'pin_memory' argument is set as true but no accelerator is found, then device pinned memory won't be used.\n",
      "  warnings.warn(warn_msg)\n",
      "                 Class     Images  Instances      Box(P          R      mAP50  mAP50-95): 100%|██████████| 5/5 [00:03<00:00,  1.56it/s]\n"
     ]
    },
    {
     "name": "stdout",
     "output_type": "stream",
     "text": [
      "                   all         38        235      0.111     0.0303      0.061     0.0245\n",
      "   DNoHelmetP1NoHelmet         13         13      0.125      0.154     0.0721     0.0274\n",
      "       DHelmetP1Helmet         34        139        0.5     0.0144      0.258     0.0903\n",
      "               DHelmet         30         75     0.0435     0.0133     0.0364     0.0291\n",
      "             DNoHelmet          1          1          0          0          0          0\n",
      "     DHelmetP1NoHelmet          2          2          0          0          0          0\n",
      "DHelmetP0NoHelmetP1NoHelmet          5          5          0          0          0          0\n",
      "Speed: 1.2ms preprocess, 72.8ms inference, 0.0ms loss, 0.5ms postprocess per image\n",
      "Results saved to \u001b[1mruns\\detect\\val11\u001b[0m\n",
      "Evaluando YOLOv8_Medellin_finetune...\n",
      "Ultralytics YOLOv8.2.103  Python-3.9.20 torch-2.7.0+cpu CPU (Intel Core(TM) i7-9750H 2.60GHz)\n",
      "Model summary (fused): 168 layers, 3,007,013 parameters, 0 gradients, 8.1 GFLOPs\n"
     ]
    },
    {
     "name": "stderr",
     "output_type": "stream",
     "text": [
      "\u001b[34m\u001b[1mval: \u001b[0mScanning D:\\GIT\\NoHelmetNet\\dataset\\labels\\test.cache... 38 images, 0 backgrounds, 0 corrupt: 100%|██████████| 38/38 [00:00<?, ?it/s]"
     ]
    },
    {
     "name": "stdout",
     "output_type": "stream",
     "text": [
      "\u001b[34m\u001b[1mval: \u001b[0mWARNING  D:\\GIT\\NoHelmetNet\\dataset\\images\\test\\frame_0000.jpg: 10 duplicate labels removed\n",
      "\u001b[34m\u001b[1mval: \u001b[0mWARNING  D:\\GIT\\NoHelmetNet\\dataset\\images\\test\\frame_0094.jpg: 3 duplicate labels removed\n"
     ]
    },
    {
     "name": "stderr",
     "output_type": "stream",
     "text": [
      "\n",
      "c:\\Users\\123\\anaconda3\\envs\\ema\\lib\\site-packages\\torch\\utils\\data\\dataloader.py:665: UserWarning: 'pin_memory' argument is set as true but no accelerator is found, then device pinned memory won't be used.\n",
      "  warnings.warn(warn_msg)\n",
      "                 Class     Images  Instances      Box(P          R      mAP50  mAP50-95): 100%|██████████| 5/5 [00:03<00:00,  1.41it/s]\n"
     ]
    },
    {
     "name": "stdout",
     "output_type": "stream",
     "text": [
      "                   all         38        235      0.904      0.722       0.83      0.662\n",
      "             DNoHelmet         13         13      0.928      0.769      0.852       0.68\n",
      "               DHelmet         34        139      0.961      0.895      0.971      0.769\n",
      "       DHelmetP1Helmet         30         75      0.956      0.868      0.973      0.767\n",
      "DNoHelmetP1NoHelmetP2NoHelmet          1          1      0.808          1      0.995      0.796\n",
      "     DHelmetP1NoHelmet          2          2          1          0      0.249      0.171\n",
      "   DNoHelmetP1NoHelmet          5          5       0.77        0.8      0.938       0.79\n",
      "Speed: 2.1ms preprocess, 70.8ms inference, 0.0ms loss, 0.6ms postprocess per image\n",
      "Results saved to \u001b[1mruns\\detect\\val12\u001b[0m\n"
     ]
    }
   ],
   "source": [
    "results_list = []\n",
    "\n",
    "# Evaluar cada modelo\n",
    "for name, model_path in models.items():\n",
    "    print(f\"Evaluando {name}...\")\n",
    "    model = YOLO(model_path)\n",
    "\n",
    "    results = model.val(\n",
    "        data=data_yaml,\n",
    "        split='val',  # no importa aquí si no hay split, se usa el path en el YAML\n",
    "        imgsz=640,\n",
    "        batch=8,\n",
    "        conf=0.001\n",
    "    )\n",
    "\n",
    "    metrics = results.results_dict\n",
    "    results_list.append({\n",
    "        \"Model\": name,\n",
    "        \"Precision\": metrics[\"metrics/precision(B)\"],\n",
    "        \"Recall\": metrics[\"metrics/recall(B)\"],\n",
    "        \"mAP@0.5\": metrics[\"metrics/mAP50(B)\"],\n",
    "        \"mAP@0.5:0.95\": metrics[\"metrics/mAP50-95(B)\"]\n",
    "    })\n"
   ]
  },
  {
   "cell_type": "code",
   "execution_count": 17,
   "id": "f6127bff",
   "metadata": {},
   "outputs": [
    {
     "name": "stdout",
     "output_type": "stream",
     "text": [
      "                      Model  Precision    Recall   mAP@0.5  mAP@0.5:0.95\n",
      "0         YOLOv8_Birmania_1   0.076087  0.371871  0.064918      0.043551\n",
      "1         YOLOv8_Birmania_2   0.045635  0.003421  0.023642      0.009947\n",
      "2         YOLOv8_Birmania_3   0.111413  0.030261  0.061041      0.024466\n",
      "3  YOLOv8_Medellin_finetune   0.904015  0.722040  0.829766      0.662203\n"
     ]
    }
   ],
   "source": [
    "df_metrics = pd.DataFrame(results_list)\n",
    "print(df_metrics)"
   ]
  }
 ],
 "metadata": {
  "kernelspec": {
   "display_name": "ema",
   "language": "python",
   "name": "ema"
  },
  "language_info": {
   "codemirror_mode": {
    "name": "ipython",
    "version": 3
   },
   "file_extension": ".py",
   "mimetype": "text/x-python",
   "name": "python",
   "nbconvert_exporter": "python",
   "pygments_lexer": "ipython3",
   "version": "3.9.20"
  }
 },
 "nbformat": 4,
 "nbformat_minor": 5
}
