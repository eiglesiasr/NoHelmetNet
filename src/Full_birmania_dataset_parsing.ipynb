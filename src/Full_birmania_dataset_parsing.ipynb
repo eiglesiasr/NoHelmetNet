{
  "cells": [
    {
      "cell_type": "markdown",
      "metadata": {
        "colab_type": "text",
        "id": "view-in-github"
      },
      "source": [
        "<a href=\"https://colab.research.google.com/github/eiglesiasr/NoHelmetNet/blob/main/src/Full_birmania_dataset_parsing.ipynb\" target=\"_parent\"><img src=\"https://colab.research.google.com/assets/colab-badge.svg\" alt=\"Open In Colab\"/></a>"
      ]
    },
    {
      "cell_type": "code",
      "execution_count": null,
      "metadata": {
        "colab": {
          "base_uri": "https://localhost:8080/"
        },
        "id": "qECDwuyO6Cb0",
        "outputId": "820f04ba-1373-4918-8922-4e4f6708da8b"
      },
      "outputs": [
        {
          "name": "stdout",
          "output_type": "stream",
          "text": [
            "Cloning into 'NoHelmetNet'...\n",
            "remote: Enumerating objects: 559, done.\u001b[K\n",
            "remote: Counting objects: 100% (133/133), done.\u001b[K\n",
            "remote: Compressing objects: 100% (102/102), done.\u001b[K\n",
            "remote: Total 559 (delta 60), reused 86 (delta 30), pack-reused 426 (from 1)\u001b[K\n",
            "Receiving objects: 100% (559/559), 60.22 MiB | 14.80 MiB/s, done.\n",
            "Resolving deltas: 100% (63/63), done.\n"
          ]
        }
      ],
      "source": [
        "#solo al correr en colab\n",
        "#!git clone https://token@github.com/eiglesiasr/NoHelmetNet.git"
      ]
    },
    {
      "cell_type": "code",
      "execution_count": 1,
      "metadata": {
        "id": "6G2vs1aJ6mWR"
      },
      "outputs": [],
      "source": [
        "from PIL import Image\n",
        "import pandas as pd\n",
        "import os\n",
        "import shutil\n",
        "import json\n",
        "from sklearn.model_selection import train_test_split\n",
        "\n",
        "seed = 42"
      ]
    },
    {
      "cell_type": "code",
      "execution_count": 7,
      "metadata": {
        "id": "SHsN8D4Q6moY"
      },
      "outputs": [],
      "source": [
        "\n",
        "#cargando json con el encoding de labels a un diccionario\n",
        "ruta_json='../dataset/labels.json'\n",
        "with open(ruta_json, 'r') as f:\n",
        "      labels_dict = json.load(f)"
      ]
    },
    {
      "cell_type": "code",
      "execution_count": 14,
      "metadata": {
        "colab": {
          "base_uri": "https://localhost:8080/",
          "height": 206
        },
        "id": "PhSJVLAm67vs",
        "outputId": "2b3ebf57-c623-4b32-b630-6af5cb9aa4e1"
      },
      "outputs": [
        {
          "data": {
            "text/html": [
              "<div>\n",
              "<style scoped>\n",
              "    .dataframe tbody tr th:only-of-type {\n",
              "        vertical-align: middle;\n",
              "    }\n",
              "\n",
              "    .dataframe tbody tr th {\n",
              "        vertical-align: top;\n",
              "    }\n",
              "\n",
              "    .dataframe thead th {\n",
              "        text-align: right;\n",
              "    }\n",
              "</style>\n",
              "<table border=\"1\" class=\"dataframe\">\n",
              "  <thead>\n",
              "    <tr style=\"text-align: right;\">\n",
              "      <th></th>\n",
              "      <th>track_id</th>\n",
              "      <th>frame_id</th>\n",
              "      <th>x</th>\n",
              "      <th>y</th>\n",
              "      <th>w</th>\n",
              "      <th>h</th>\n",
              "      <th>label</th>\n",
              "      <th>nombre_carpeta</th>\n",
              "      <th>frame</th>\n",
              "    </tr>\n",
              "  </thead>\n",
              "  <tbody>\n",
              "    <tr>\n",
              "      <th>0</th>\n",
              "      <td>_x4f29hsem</td>\n",
              "      <td>1</td>\n",
              "      <td>843</td>\n",
              "      <td>637</td>\n",
              "      <td>163</td>\n",
              "      <td>220</td>\n",
              "      <td>DNoHelmetP1NoHelmetP2NoHelmet</td>\n",
              "      <td>Bago_highway_1</td>\n",
              "      <td>01.jpg</td>\n",
              "    </tr>\n",
              "    <tr>\n",
              "      <th>1</th>\n",
              "      <td>_x4f29hsem</td>\n",
              "      <td>2</td>\n",
              "      <td>771</td>\n",
              "      <td>641</td>\n",
              "      <td>173</td>\n",
              "      <td>231</td>\n",
              "      <td>DNoHelmetP1NoHelmetP2NoHelmet</td>\n",
              "      <td>Bago_highway_1</td>\n",
              "      <td>02.jpg</td>\n",
              "    </tr>\n",
              "    <tr>\n",
              "      <th>2</th>\n",
              "      <td>_x4f29hsem</td>\n",
              "      <td>3</td>\n",
              "      <td>698</td>\n",
              "      <td>646</td>\n",
              "      <td>185</td>\n",
              "      <td>240</td>\n",
              "      <td>DNoHelmetP1NoHelmetP2NoHelmet</td>\n",
              "      <td>Bago_highway_1</td>\n",
              "      <td>03.jpg</td>\n",
              "    </tr>\n",
              "    <tr>\n",
              "      <th>3</th>\n",
              "      <td>_x4f29hsem</td>\n",
              "      <td>4</td>\n",
              "      <td>612</td>\n",
              "      <td>647</td>\n",
              "      <td>195</td>\n",
              "      <td>251</td>\n",
              "      <td>DNoHelmetP1NoHelmetP2NoHelmet</td>\n",
              "      <td>Bago_highway_1</td>\n",
              "      <td>04.jpg</td>\n",
              "    </tr>\n",
              "    <tr>\n",
              "      <th>4</th>\n",
              "      <td>_x4f29hsem</td>\n",
              "      <td>5</td>\n",
              "      <td>525</td>\n",
              "      <td>649</td>\n",
              "      <td>206</td>\n",
              "      <td>261</td>\n",
              "      <td>DNoHelmetP1NoHelmetP2NoHelmet</td>\n",
              "      <td>Bago_highway_1</td>\n",
              "      <td>05.jpg</td>\n",
              "    </tr>\n",
              "  </tbody>\n",
              "</table>\n",
              "</div>"
            ],
            "text/plain": [
              "     track_id  frame_id    x    y    w    h                          label  \\\n",
              "0  _x4f29hsem         1  843  637  163  220  DNoHelmetP1NoHelmetP2NoHelmet   \n",
              "1  _x4f29hsem         2  771  641  173  231  DNoHelmetP1NoHelmetP2NoHelmet   \n",
              "2  _x4f29hsem         3  698  646  185  240  DNoHelmetP1NoHelmetP2NoHelmet   \n",
              "3  _x4f29hsem         4  612  647  195  251  DNoHelmetP1NoHelmetP2NoHelmet   \n",
              "4  _x4f29hsem         5  525  649  206  261  DNoHelmetP1NoHelmetP2NoHelmet   \n",
              "\n",
              "   nombre_carpeta   frame  \n",
              "0  Bago_highway_1  01.jpg  \n",
              "1  Bago_highway_1  02.jpg  \n",
              "2  Bago_highway_1  03.jpg  \n",
              "3  Bago_highway_1  04.jpg  \n",
              "4  Bago_highway_1  05.jpg  "
            ]
          },
          "execution_count": 14,
          "metadata": {},
          "output_type": "execute_result"
        }
      ],
      "source": [
        "# leyendo todos los csv con las anotaciones de las predicciones en un dataframe\n",
        "carpeta_csv = '../raw/Birmania/'\n",
        "\n",
        "lista_dfs = []\n",
        "\n",
        "for archivo in os.listdir(carpeta_csv):\n",
        "    if archivo.endswith('.csv'):\n",
        "        ruta_archivo = os.path.join(carpeta_csv, archivo)\n",
        "        df = pd.read_csv(ruta_archivo)\n",
        "        nombre_base = os.path.splitext(archivo)[0]\n",
        "        df['nombre_carpeta'] = nombre_base\n",
        "        df['frame'] = df['frame_id'].apply(lambda x: f'{x:02d}.jpg')\n",
        "        lista_dfs.append(df)\n",
        "\n",
        "# Concatena todos los DataFrames en uno solo\n",
        "df_final = pd.concat(lista_dfs, ignore_index=True)\n",
        "df_final.head()"
      ]
    },
    {
      "cell_type": "code",
      "execution_count": 15,
      "metadata": {
        "colab": {
          "base_uri": "https://localhost:8080/"
        },
        "id": "JMxqLu2b7Wlp",
        "outputId": "30dce459-7e48-4f9c-f08f-1bb70b26e5ae"
      },
      "outputs": [
        {
          "name": "stdout",
          "output_type": "stream",
          "text": [
            "Imagenes unicas: 81374\n",
            "Número de imágenes para entrenamiento: 56961\n",
            "Número de imágenes para prueba: 24413\n"
          ]
        }
      ],
      "source": [
        "# generando un dataframe que contenga un registro unico por imagen para\n",
        "# particionar en train y test y luego parsear a formato yolov8\n",
        "df_imagenes_unicas = df_final[['nombre_carpeta', 'frame']].drop_duplicates().reset_index(drop=True)\n",
        "print(f\"Imagenes unicas: {len(df_imagenes_unicas)}\")\n",
        "\n",
        "indices_imagenes = df_imagenes_unicas.index\n",
        "\n",
        "train_indices, test_indices = train_test_split(\n",
        "    indices_imagenes,\n",
        "    test_size=0.3,\n",
        "    random_state=seed\n",
        ")\n",
        "\n",
        "df_imagenes_train = df_imagenes_unicas.loc[train_indices].reset_index(drop=True)\n",
        "df_imagenes_test = df_imagenes_unicas.loc[test_indices].reset_index(drop=True)\n",
        "\n",
        "print(f\"Número de imágenes para entrenamiento: {len(df_imagenes_train)}\")\n",
        "print(f\"Número de imágenes para prueba: {len(df_imagenes_test)}\")\n"
      ]
    },
    {
      "cell_type": "code",
      "execution_count": 16,
      "metadata": {
        "id": "j-sSu7ZN9uFM"
      },
      "outputs": [],
      "source": [
        "# funcion que dado un df de imagenes y carpeta genera tanto las imagenes como\n",
        "# anotaciones en formato yolov8 en la carpeta dataset:\n",
        "\n",
        "def create_dataset_yolo_from_raw(ruta_origen,ruta_destino_imagenes,ruta_destino_anotaciones,df_imagenes,df_anotaciones,image_width,image_height,target_size,labels_dict):\n",
        "  for index, row in df_imagenes.iterrows():\n",
        "    #copiando imagen\n",
        "    nombre_carpeta = row['nombre_carpeta']\n",
        "    frame_jpg = row['frame']\n",
        "    frame = int(row['frame'].split('.')[0])\n",
        "    ruta_imagen_origen = os.path.join(ruta_origen, nombre_carpeta, frame_jpg)\n",
        "    ruta_imagen_destino = os.path.join(ruta_destino_imagenes, f'{nombre_carpeta.lower()}_{frame:03d}.jpg')\n",
        "    #shutil.copy(ruta_imagen_origen, ruta_imagen_destino)\n",
        "\n",
        "    try:\n",
        "            img = Image.open(ruta_imagen_origen)\n",
        "            img_resized = img.resize(target_size)\n",
        "            img_resized.save(ruta_imagen_destino)\n",
        "    except FileNotFoundError:\n",
        "        print(f\"Warning: Image not found at {ruta_imagen_origen}. Skipping.\")\n",
        "        continue # Saltar a la siguiente imagen si no se encuentra\n",
        "\n",
        "    #generando anotaciones\n",
        "    txt_filename = f\"{nombre_carpeta.lower()}_{frame:03d}.txt\"\n",
        "    txt_filepath = os.path.join(ruta_destino_anotaciones, txt_filename)\n",
        "    for index, row in df_anotaciones[(df_anotaciones.nombre_carpeta==nombre_carpeta) & (df_anotaciones.frame==frame_jpg)].iterrows():\n",
        "      class_id=labels_dict[row['label']]\n",
        "      x_center = int(row['x']+row['w']/2)\n",
        "      y_center = int(row['y']+row['h']/2)\n",
        "\n",
        "      x_center_norm = x_center / image_width\n",
        "      y_center_norm = y_center / image_height\n",
        "      width_norm = row['w'] / image_width\n",
        "      height_norm = row['h'] / image_height\n",
        "\n",
        "      yolov8_annotation=f\"{class_id} {x_center_norm:.6f} {y_center_norm:.6f} {width_norm:.6f} {height_norm:.6f}\\n\"\n",
        "\n",
        "      with open(txt_filepath, 'a') as f:\n",
        "          f.write(yolov8_annotation)\n"
      ]
    },
    {
      "cell_type": "code",
      "execution_count": null,
      "metadata": {
        "id": "nDUussAmCNLh"
      },
      "outputs": [
        {
          "name": "stderr",
          "output_type": "stream",
          "text": [
            "'rm' is not recognized as an internal or external command,\n",
            "operable program or batch file.\n",
            "'rm' is not recognized as an internal or external command,\n",
            "operable program or batch file.\n",
            "'rm' is not recognized as an internal or external command,\n",
            "operable program or batch file.\n",
            "'rm' is not recognized as an internal or external command,\n",
            "operable program or batch file.\n"
          ]
        }
      ],
      "source": [
        "#eliminando dataset de train y de test si existieran\n",
        "#!rm -rf ../dataset/images/train/*\n",
        "#!rm -rf ../dataset/labels/train/*\n",
        "#!rm -rf ../dataset/images/val/*\n",
        "#!rm -rf ../dataset/labels/val/*"
      ]
    },
    {
      "cell_type": "code",
      "execution_count": 17,
      "metadata": {
        "id": "qihfi9nE_xfN"
      },
      "outputs": [],
      "source": [
        "#generando dataset de entrenamiento\n",
        "create_dataset_yolo_from_raw(\n",
        "    ruta_origen='../raw/Birmania',\n",
        "    ruta_destino_imagenes='../dataset/images/train',\n",
        "    ruta_destino_anotaciones='../dataset/labels/train',\n",
        "    df_imagenes=df_imagenes_train,\n",
        "    df_anotaciones=df_final,\n",
        "    image_width=1920,\n",
        "    image_height=1080,\n",
        "    target_size=(640, 640),\n",
        "    labels_dict=labels_dict,\n",
        ")"
      ]
    },
    {
      "cell_type": "code",
      "execution_count": 18,
      "metadata": {
        "id": "3s8CLzbkCnyg"
      },
      "outputs": [],
      "source": [
        "#generando dataset de entrenamiento\n",
        "create_dataset_yolo_from_raw(\n",
        "    ruta_origen='../raw/Birmania',\n",
        "    ruta_destino_imagenes='../dataset/images/val',\n",
        "    ruta_destino_anotaciones='../dataset/labels/val',\n",
        "    df_imagenes=df_imagenes_test,\n",
        "    df_anotaciones=df_final,\n",
        "    image_width=1920,\n",
        "    image_height=1080,\n",
        "    target_size=(640, 640),\n",
        "    labels_dict=labels_dict,\n",
        ")"
      ]
    }
  ],
  "metadata": {
    "colab": {
      "authorship_tag": "ABX9TyOWpVEM4oj8G8q1hIC1vP8K",
      "include_colab_link": true,
      "provenance": []
    },
    "kernelspec": {
      "display_name": "ema",
      "language": "python",
      "name": "python3"
    },
    "language_info": {
      "codemirror_mode": {
        "name": "ipython",
        "version": 3
      },
      "file_extension": ".py",
      "mimetype": "text/x-python",
      "name": "python",
      "nbconvert_exporter": "python",
      "pygments_lexer": "ipython3",
      "version": "3.9.20"
    }
  },
  "nbformat": 4,
  "nbformat_minor": 0
}
