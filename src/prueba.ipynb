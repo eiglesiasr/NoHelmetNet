{
 "cells": [
  {
   "cell_type": "code",
   "execution_count": 2,
   "id": "38de8e88",
   "metadata": {},
   "outputs": [
    {
     "name": "stdout",
     "output_type": "stream",
     "text": [
      "prueba de repositorio\n"
     ]
    }
   ],
   "source": [
    "print('prueba de repositorio')"
   ]
  },
  {
   "cell_type": "code",
   "execution_count": 1,
   "id": "c5924892",
   "metadata": {},
   "outputs": [
    {
     "name": "stdout",
     "output_type": "stream",
     "text": [
      "prueba de repositorio modificando archivo existente\n"
     ]
    }
   ],
   "source": [
    "print('prueba de repositorio modificando archivo existente')"
   ]
  }
 ],
 "metadata": {
  "kernelspec": {
   "display_name": "ema",
   "language": "python",
   "name": "python3"
  },
  "language_info": {
   "codemirror_mode": {
    "name": "ipython",
    "version": 3
   },
   "file_extension": ".py",
   "mimetype": "text/x-python",
   "name": "python",
   "nbconvert_exporter": "python",
   "pygments_lexer": "ipython3",
   "version": "3.9.20"
  }
 },
 "nbformat": 4,
 "nbformat_minor": 5
}
