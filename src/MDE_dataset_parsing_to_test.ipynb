{
  "cells": [
    {
      "cell_type": "code",
      "execution_count": 35,
      "metadata": {
        "id": "6G2vs1aJ6mWR"
      },
      "outputs": [],
      "source": [
        "from PIL import Image\n",
        "import pandas as pd\n",
        "import os\n",
        "import glob\n",
        "import shutil\n",
        "import json\n",
        "import re\n",
        "from sklearn.model_selection import train_test_split"
      ]
    },
    {
      "cell_type": "code",
      "execution_count": 36,
      "metadata": {},
      "outputs": [],
      "source": [
        "#cargando json con el encoding de labels a un diccionario\n",
        "ruta_json='../dataset/labels.json'\n",
        "with open(ruta_json, 'r') as f:\n",
        "      labels_dict = json.load(f)"
      ]
    },
    {
      "cell_type": "code",
      "execution_count": 37,
      "metadata": {
        "id": "SHsN8D4Q6moY"
      },
      "outputs": [],
      "source": [
        "ruta_json='../raw/Medellin2/anotaciones/'\n",
        "rows = []\n",
        "\n",
        "for archivo in os.listdir(ruta_json):\n",
        "      if archivo.endswith('.json'):\n",
        "            ruta_archivo = os.path.join(ruta_json, archivo)\n",
        "            with open(ruta_archivo, 'r', encoding='utf-8') as f:\n",
        "                  data = json.load(f)\n",
        "                  image_key = data.get(\"key\")\n",
        "                  img_width = data.get(\"width\")\n",
        "                  img_height = data.get(\"height\")\n",
        "\n",
        "                  match = re.search(r'_(\\d+)\\.', image_key)\n",
        "                  frame = int(match.group(1)) if match else None\n",
        "\n",
        "\n",
        "                  for box in data.get(\"boxes\", []):\n",
        "                        row = {\n",
        "                              \"file\": image_key,\n",
        "                              \"frame\": frame,\n",
        "                              \"image_width\": img_width,\n",
        "                              \"image_height\": img_height,\n",
        "                              \"id\": box.get(\"id\"),\n",
        "                              \"label\": box.get(\"label\"),\n",
        "                              \"x\": float(box.get(\"x\")),\n",
        "                              \"y\": float(box.get(\"y\")),\n",
        "                              \"w\": float(box.get(\"width\")),\n",
        "                              \"h\": float(box.get(\"height\")),\n",
        "                              \"confidence\": box.get(\"confidence\")\n",
        "                        }\n",
        "                        rows.append(row)\n",
        "\n",
        "# Convert to DataFrame\n",
        "df = pd.DataFrame(rows)"
      ]
    },
    {
      "cell_type": "code",
      "execution_count": 38,
      "metadata": {},
      "outputs": [
        {
          "data": {
            "text/html": [
              "<div>\n",
              "<style scoped>\n",
              "    .dataframe tbody tr th:only-of-type {\n",
              "        vertical-align: middle;\n",
              "    }\n",
              "\n",
              "    .dataframe tbody tr th {\n",
              "        vertical-align: top;\n",
              "    }\n",
              "\n",
              "    .dataframe thead th {\n",
              "        text-align: right;\n",
              "    }\n",
              "</style>\n",
              "<table border=\"1\" class=\"dataframe\">\n",
              "  <thead>\n",
              "    <tr style=\"text-align: right;\">\n",
              "      <th></th>\n",
              "      <th>file</th>\n",
              "      <th>frame</th>\n",
              "      <th>image_width</th>\n",
              "      <th>image_height</th>\n",
              "      <th>id</th>\n",
              "      <th>label</th>\n",
              "      <th>x</th>\n",
              "      <th>y</th>\n",
              "      <th>w</th>\n",
              "      <th>h</th>\n",
              "      <th>confidence</th>\n",
              "    </tr>\n",
              "  </thead>\n",
              "  <tbody>\n",
              "    <tr>\n",
              "      <th>0</th>\n",
              "      <td>frame_0000.jpg</td>\n",
              "      <td>0</td>\n",
              "      <td>1920</td>\n",
              "      <td>1080</td>\n",
              "      <td>1</td>\n",
              "      <td>DHelmet</td>\n",
              "      <td>251.45</td>\n",
              "      <td>568.60</td>\n",
              "      <td>66.99</td>\n",
              "      <td>87.08</td>\n",
              "      <td>None</td>\n",
              "    </tr>\n",
              "    <tr>\n",
              "      <th>1</th>\n",
              "      <td>frame_0000.jpg</td>\n",
              "      <td>0</td>\n",
              "      <td>1920</td>\n",
              "      <td>1080</td>\n",
              "      <td>2</td>\n",
              "      <td>DHelmetP1Helmet</td>\n",
              "      <td>402.17</td>\n",
              "      <td>616.78</td>\n",
              "      <td>72.65</td>\n",
              "      <td>89.66</td>\n",
              "      <td>None</td>\n",
              "    </tr>\n",
              "    <tr>\n",
              "      <th>2</th>\n",
              "      <td>frame_0000.jpg</td>\n",
              "      <td>0</td>\n",
              "      <td>1920</td>\n",
              "      <td>1080</td>\n",
              "      <td>3</td>\n",
              "      <td>DHelmet</td>\n",
              "      <td>737.61</td>\n",
              "      <td>800.47</td>\n",
              "      <td>82.96</td>\n",
              "      <td>99.45</td>\n",
              "      <td>None</td>\n",
              "    </tr>\n",
              "    <tr>\n",
              "      <th>3</th>\n",
              "      <td>frame_0000.jpg</td>\n",
              "      <td>0</td>\n",
              "      <td>1920</td>\n",
              "      <td>1080</td>\n",
              "      <td>4</td>\n",
              "      <td>DHelmet</td>\n",
              "      <td>1137.46</td>\n",
              "      <td>936.25</td>\n",
              "      <td>85.02</td>\n",
              "      <td>99.96</td>\n",
              "      <td>None</td>\n",
              "    </tr>\n",
              "    <tr>\n",
              "      <th>4</th>\n",
              "      <td>frame_0000.jpg</td>\n",
              "      <td>0</td>\n",
              "      <td>1920</td>\n",
              "      <td>1080</td>\n",
              "      <td>5</td>\n",
              "      <td>DHelmet</td>\n",
              "      <td>1309.82</td>\n",
              "      <td>1007.87</td>\n",
              "      <td>93.78</td>\n",
              "      <td>113.36</td>\n",
              "      <td>None</td>\n",
              "    </tr>\n",
              "  </tbody>\n",
              "</table>\n",
              "</div>"
            ],
            "text/plain": [
              "             file  frame  image_width  image_height id            label  \\\n",
              "0  frame_0000.jpg      0         1920          1080  1          DHelmet   \n",
              "1  frame_0000.jpg      0         1920          1080  2  DHelmetP1Helmet   \n",
              "2  frame_0000.jpg      0         1920          1080  3          DHelmet   \n",
              "3  frame_0000.jpg      0         1920          1080  4          DHelmet   \n",
              "4  frame_0000.jpg      0         1920          1080  5          DHelmet   \n",
              "\n",
              "         x        y      w       h confidence  \n",
              "0   251.45   568.60  66.99   87.08       None  \n",
              "1   402.17   616.78  72.65   89.66       None  \n",
              "2   737.61   800.47  82.96   99.45       None  \n",
              "3  1137.46   936.25  85.02   99.96       None  \n",
              "4  1309.82  1007.87  93.78  113.36       None  "
            ]
          },
          "execution_count": 38,
          "metadata": {},
          "output_type": "execute_result"
        }
      ],
      "source": [
        "df.head()"
      ]
    },
    {
      "cell_type": "code",
      "execution_count": 39,
      "metadata": {},
      "outputs": [
        {
          "name": "stdout",
          "output_type": "stream",
          "text": [
            "Images width: 1920, Images height: 1080\n"
          ]
        }
      ],
      "source": [
        "img_width = df[\"image_width\"].max()\n",
        "img_height = df[\"image_height\"].max()\n",
        "print(f\"Images width: {img_width}, Images height: {img_height}\")"
      ]
    },
    {
      "cell_type": "code",
      "execution_count": 40,
      "metadata": {},
      "outputs": [
        {
          "name": "stdout",
          "output_type": "stream",
          "text": [
            "Imagenes unicas: 22\n"
          ]
        }
      ],
      "source": [
        "df_imagenes_unicas = df[['file', 'frame']].drop_duplicates().reset_index(drop=True)\n",
        "print(f\"Imagenes unicas: {len(df_imagenes_unicas)}\")"
      ]
    },
    {
      "cell_type": "code",
      "execution_count": 41,
      "metadata": {},
      "outputs": [
        {
          "data": {
            "text/html": [
              "<div>\n",
              "<style scoped>\n",
              "    .dataframe tbody tr th:only-of-type {\n",
              "        vertical-align: middle;\n",
              "    }\n",
              "\n",
              "    .dataframe tbody tr th {\n",
              "        vertical-align: top;\n",
              "    }\n",
              "\n",
              "    .dataframe thead th {\n",
              "        text-align: right;\n",
              "    }\n",
              "</style>\n",
              "<table border=\"1\" class=\"dataframe\">\n",
              "  <thead>\n",
              "    <tr style=\"text-align: right;\">\n",
              "      <th></th>\n",
              "      <th>file</th>\n",
              "      <th>frame</th>\n",
              "    </tr>\n",
              "  </thead>\n",
              "  <tbody>\n",
              "    <tr>\n",
              "      <th>0</th>\n",
              "      <td>frame_0000.jpg</td>\n",
              "      <td>0</td>\n",
              "    </tr>\n",
              "    <tr>\n",
              "      <th>1</th>\n",
              "      <td>frame_0001.jpg</td>\n",
              "      <td>1</td>\n",
              "    </tr>\n",
              "    <tr>\n",
              "      <th>2</th>\n",
              "      <td>frame_0039.jpg</td>\n",
              "      <td>39</td>\n",
              "    </tr>\n",
              "    <tr>\n",
              "      <th>3</th>\n",
              "      <td>frame_0004.jpg</td>\n",
              "      <td>4</td>\n",
              "    </tr>\n",
              "    <tr>\n",
              "      <th>4</th>\n",
              "      <td>frame_0005.jpg</td>\n",
              "      <td>5</td>\n",
              "    </tr>\n",
              "  </tbody>\n",
              "</table>\n",
              "</div>"
            ],
            "text/plain": [
              "             file  frame\n",
              "0  frame_0000.jpg      0\n",
              "1  frame_0001.jpg      1\n",
              "2  frame_0039.jpg     39\n",
              "3  frame_0004.jpg      4\n",
              "4  frame_0005.jpg      5"
            ]
          },
          "execution_count": 41,
          "metadata": {},
          "output_type": "execute_result"
        }
      ],
      "source": [
        "df_imagenes_unicas.head()"
      ]
    },
    {
      "cell_type": "code",
      "execution_count": 42,
      "metadata": {},
      "outputs": [],
      "source": [
        "ruta_origen='../raw/Medellin2'\n",
        "ruta_destino_imagenes='../dataset/images/test'\n",
        "ruta_destino_anotaciones='../dataset/labels/test'\n",
        "image_width=img_width\n",
        "image_height=img_height\n",
        "target_size=(640, 640)\n",
        "\n",
        "\n",
        "for index, row in df_imagenes_unicas.iterrows():\n",
        "    #copiando imagen\n",
        "    file = row['file']\n",
        "    frame = row['frame']\n",
        "    frame_jpg = row['file'].split('.')[0]\n",
        "    ruta_imagen_origen = os.path.join(ruta_origen,'imagenes', f'{frame_jpg}.jpg')\n",
        "    ruta_imagen_destino = os.path.join(ruta_destino_imagenes, f'{frame_jpg}.jpg')\n",
        "    #shutil.copy(ruta_imagen_origen, ruta_imagen_destino)\n",
        "\n",
        "    try:\n",
        "            img = Image.open(ruta_imagen_origen)\n",
        "            img_resized = img.resize(target_size)\n",
        "            img_resized.save(ruta_imagen_destino)\n",
        "    except FileNotFoundError:\n",
        "        print(f\"Warning: Image not found at {ruta_imagen_origen}. Skipping.\")\n",
        "        continue # Saltar a la siguiente imagen si no se encuentra\n",
        "\n",
        "    #generando anotaciones\n",
        "    txt_filename = f\"{frame_jpg}.txt\"\n",
        "    txt_filepath = os.path.join(ruta_destino_anotaciones, txt_filename)\n",
        "    for index, row in df[(df.file==file) & (df.frame==frame)].iterrows():\n",
        "        class_id=labels_dict[row['label']]\n",
        "        #esto era si x y y estaban en esquina y no en centrol\n",
        "        #x_center = int(row['x']+row['w']/2)\n",
        "        #y_center = int(row['y']+row['h']/2)\n",
        "\n",
        "        x_center = row['x']\n",
        "        y_center = row['y']\n",
        "\n",
        "\n",
        "        x_center_norm = x_center / image_width\n",
        "        y_center_norm = y_center / image_height\n",
        "        width_norm = row['w'] / image_width\n",
        "        height_norm = row['h'] / image_height\n",
        "\n",
        "        yolov8_annotation=f\"{class_id} {x_center_norm:.6f} {y_center_norm:.6f} {width_norm:.6f} {height_norm:.6f}\\n\"\n",
        "\n",
        "        with open(txt_filepath, 'a') as f:\n",
        "            f.write(yolov8_annotation)\n"
      ]
    }
  ],
  "metadata": {
    "colab": {
      "authorship_tag": "ABX9TyOWpVEM4oj8G8q1hIC1vP8K",
      "include_colab_link": true,
      "provenance": []
    },
    "kernelspec": {
      "display_name": "ema",
      "language": "python",
      "name": "python3"
    },
    "language_info": {
      "codemirror_mode": {
        "name": "ipython",
        "version": 3
      },
      "file_extension": ".py",
      "mimetype": "text/x-python",
      "name": "python",
      "nbconvert_exporter": "python",
      "pygments_lexer": "ipython3",
      "version": "3.9.20"
    }
  },
  "nbformat": 4,
  "nbformat_minor": 0
}
