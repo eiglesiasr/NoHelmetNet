{
 "cells": [
  {
   "cell_type": "code",
   "execution_count": 1,
   "id": "e6afdf92",
   "metadata": {},
   "outputs": [],
   "source": [
    "import os\n",
    "import cv2\n",
    "import random\n",
    "import albumentations as A\n",
    "from tqdm import tqdm\n",
    "\n",
    "\n",
    "input_images_dir = \"../dataset/images/birmania\"\n",
    "input_labels_dir = \"../dataset/labels/birmania\"\n",
    "\n",
    "output_images_dir = \"../dataset/images/birmania_transformed\"\n",
    "output_labels_dir = \"../dataset/labels/birmania_transformed\"\n",
    "\n",
    "num_samples = 12000"
   ]
  },
  {
   "cell_type": "code",
   "execution_count": null,
   "id": "a1a55193",
   "metadata": {},
   "outputs": [],
   "source": [
    "transform = A.Compose([\n",
    "    A.Perspective(scale=(0.08, 0.12), keep_size=True, p=0.9),\n",
    "    A.RandomScale(scale_limit=(-0.2, -0.1), p=0.8),\n",
    "    A.RandomBrightnessContrast(brightness_limit=(-0.3, -0.1), contrast_limit=(-0.2, 0.1), p=0.6),\n",
    "    A.HueSaturationValue(sat_shift_limit=(-40, -20), val_shift_limit=(-25, -10), p=0.8),\n",
    "    A.RandomSizedBBoxSafeCrop(height=640, width=640, p=1.0)\n",
    "], bbox_params=A.BboxParams(format='yolo', label_fields=['class_labels']))"
   ]
  },
  {
   "cell_type": "code",
   "execution_count": 3,
   "id": "d191a0a4",
   "metadata": {},
   "outputs": [
    {
     "name": "stderr",
     "output_type": "stream",
     "text": [
      "Transformando imágenes:   0%|          | 12/12000 [00:00<05:49, 34.26it/s]"
     ]
    },
    {
     "name": "stdout",
     "output_type": "stream",
     "text": [
      "⚠️ Error al transformar mandalay_2_5_056.jpg: Expected x_min for bbox [-2.5999919e-04  6.2314850e-01  1.0234401e-01  9.3425947e-01\n",
      "  2.0000000e+00] to be in the range [0.0, 1.0], got -0.00025999918580055237.\n"
     ]
    },
    {
     "name": "stderr",
     "output_type": "stream",
     "text": [
      "Transformando imágenes:   0%|          | 41/12000 [00:01<05:20, 37.30it/s]"
     ]
    },
    {
     "name": "stdout",
     "output_type": "stream",
     "text": [
      "⚠️ Error al transformar mandalay_2_73_006.jpg: Expected x_min for bbox [-5.066395e-07  6.134255e-01  1.656245e-01  9.995365e-01  2.000000e+00] to be in the range [0.0, 1.0], got -5.066394805908203e-07.\n"
     ]
    },
    {
     "name": "stderr",
     "output_type": "stream",
     "text": [
      "Transformando imágenes:   1%|          | 66/12000 [00:02<05:35, 35.54it/s]"
     ]
    },
    {
     "name": "stdout",
     "output_type": "stream",
     "text": [
      "⚠️ Error al transformar mandalay_2_34_059.jpg: Expected x_min for bbox [-2.610013e-04  5.643525e-01  1.221350e-01  8.708335e-01  1.000000e+00] to be in the range [0.0, 1.0], got -0.0002610012888908386.\n"
     ]
    },
    {
     "name": "stderr",
     "output_type": "stream",
     "text": [
      "Transformando imágenes:   1%|▏         | 154/12000 [00:04<05:20, 36.93it/s]"
     ]
    },
    {
     "name": "stdout",
     "output_type": "stream",
     "text": [
      "⚠️ Error al transformar mandalay_2_21_087.jpg: Expected x_min for bbox [-2.60498375e-04  4.00000513e-01  1.11718506e-01  6.61111534e-01\n",
      "  2.00000000e+00] to be in the range [0.0, 1.0], got -0.00026049837470054626.\n"
     ]
    },
    {
     "name": "stderr",
     "output_type": "stream",
     "text": [
      "Transformando imágenes:   3%|▎         | 327/12000 [00:09<05:12, 37.37it/s]"
     ]
    },
    {
     "name": "stdout",
     "output_type": "stream",
     "text": [
      "⚠️ Error al transformar mandalay_2_19_086.jpg: Expected x_min for bbox [-2.6050210e-04  6.3518548e-01  1.5651050e-01  1.0000005e+00\n",
      "  2.0000000e+00] to be in the range [0.0, 1.0], got -0.0002605020999908447.\n"
     ]
    },
    {
     "name": "stderr",
     "output_type": "stream",
     "text": [
      "Transformando imágenes:   3%|▎         | 355/12000 [00:10<05:23, 36.02it/s]"
     ]
    },
    {
     "name": "stdout",
     "output_type": "stream",
     "text": [
      "⚠️ Error al transformar mandalay_2_21_052.jpg: Expected x_min for bbox [-2.6050024e-04  3.6111149e-01  2.9426500e-02  4.7407451e-01\n",
      "  2.0000000e+00] to be in the range [0.0, 1.0], got -0.0002605002373456955.\n",
      "⚠️ Error al transformar mandalay_2_57_026.jpg: Expected x_min for bbox [-4.9918890e-07  6.5509248e-01  1.5416649e-01  9.8749948e-01\n",
      "  1.0000000e+00] to be in the range [0.0, 1.0], got -4.991888999938965e-07.\n"
     ]
    },
    {
     "name": "stderr",
     "output_type": "stream",
     "text": [
      "Transformando imágenes:   6%|▋         | 771/12000 [00:22<05:46, 32.39it/s]"
     ]
    },
    {
     "name": "stdout",
     "output_type": "stream",
     "text": [
      "⚠️ Error al transformar pakokku_urban_74_079.jpg: Expected x_min for bbox [-2.599992e-04  4.791665e-01  8.255200e-02  8.189815e-01  1.000000e+00] to be in the range [0.0, 1.0], got -0.00025999918580055237.\n"
     ]
    },
    {
     "name": "stderr",
     "output_type": "stream",
     "text": [
      "Transformando imágenes:   7%|▋         | 796/12000 [00:23<05:52, 31.77it/s]"
     ]
    },
    {
     "name": "stdout",
     "output_type": "stream",
     "text": [
      "⚠️ Error al transformar mandalay_1_121_097.jpg: Expected x_min for bbox [-4.9918890e-07  3.4953752e-01  5.4166500e-02  5.0972253e-01\n",
      "  4.0000000e+00] to be in the range [0.0, 1.0], got -4.991888999938965e-07.\n",
      "⚠️ Error al transformar mandalay_2_45_026.jpg: Expected x_min for bbox [-2.5999546e-04  6.8009305e-01  1.6380200e-01  9.9953699e-01\n",
      "  2.0000000e+00] to be in the range [0.0, 1.0], got -0.0002599954605102539.\n"
     ]
    },
    {
     "name": "stderr",
     "output_type": "stream",
     "text": [
      "Transformando imágenes:   7%|▋         | 842/12000 [00:24<07:09, 26.01it/s]"
     ]
    },
    {
     "name": "stdout",
     "output_type": "stream",
     "text": [
      "⚠️ Error al transformar mandalay_1_131_014.jpg: Expected x_min for bbox [-2.6048720e-04  4.9074048e-01  3.4192652e-01  9.9999946e-01\n",
      "  1.0000000e+00] to be in the range [0.0, 1.0], got -0.0002604871988296509.\n"
     ]
    },
    {
     "name": "stderr",
     "output_type": "stream",
     "text": [
      "Transformando imágenes:   7%|▋         | 893/12000 [00:26<05:28, 33.81it/s]"
     ]
    },
    {
     "name": "stdout",
     "output_type": "stream",
     "text": [
      "⚠️ Error al transformar mandalay_2_64_064.jpg: Expected x_min for bbox [-4.9918890e-07  6.2824100e-01  1.0416650e-01  9.0879697e-01\n",
      "  2.0000000e+00] to be in the range [0.0, 1.0], got -4.991888999938965e-07.\n"
     ]
    },
    {
     "name": "stderr",
     "output_type": "stream",
     "text": [
      "Transformando imágenes:   8%|▊         | 924/12000 [00:26<04:56, 37.33it/s]"
     ]
    },
    {
     "name": "stdout",
     "output_type": "stream",
     "text": [
      "⚠️ Error al transformar mandalay_2_66_043.jpg: Expected x_min for bbox [-4.991889e-07  4.268520e-01  1.031245e-01  7.509260e-01  1.000000e+00] to be in the range [0.0, 1.0], got -4.991888999938965e-07.\n"
     ]
    },
    {
     "name": "stderr",
     "output_type": "stream",
     "text": [
      "Transformando imágenes:   8%|▊         | 966/12000 [00:28<04:45, 38.66it/s]"
     ]
    },
    {
     "name": "stdout",
     "output_type": "stream",
     "text": [
      "⚠️ Error al transformar bago_highway_7_072.jpg: Expected x_min for bbox [-2.6100129e-04  6.4212954e-01  1.1692700e-01  9.3194449e-01\n",
      "  3.0000000e+00] to be in the range [0.0, 1.0], got -0.0002610012888908386.\n"
     ]
    },
    {
     "name": "stderr",
     "output_type": "stream",
     "text": [
      "Transformando imágenes:   9%|▉         | 1094/12000 [00:31<04:53, 37.20it/s]"
     ]
    },
    {
     "name": "stdout",
     "output_type": "stream",
     "text": [
      "⚠️ Error al transformar mandalay_1_89_028.jpg: Expected x_min for bbox [-2.6050210e-04  5.0972253e-01  1.3776051e-01  9.9953753e-01\n",
      "  3.0000000e+00] to be in the range [0.0, 1.0], got -0.0002605020999908447.\n"
     ]
    },
    {
     "name": "stderr",
     "output_type": "stream",
     "text": [
      "Transformando imágenes:  10%|█         | 1216/12000 [00:35<05:16, 34.08it/s]"
     ]
    },
    {
     "name": "stdout",
     "output_type": "stream",
     "text": [
      "⚠️ Error al transformar mandalay_1_121_061.jpg: Expected x_min for bbox [-2.6099943e-04  3.4861150e-01  5.3384997e-02  5.1064849e-01\n",
      "  4.0000000e+00] to be in the range [0.0, 1.0], got -0.0002609994262456894.\n"
     ]
    },
    {
     "name": "stderr",
     "output_type": "stream",
     "text": [
      "Transformando imágenes:  10%|█         | 1238/12000 [00:36<04:53, 36.70it/s]"
     ]
    },
    {
     "name": "stdout",
     "output_type": "stream",
     "text": [
      "⚠️ Error al transformar bago_highway_7_077.jpg: Expected x_min for bbox [-2.6050210e-04  6.3379604e-01  7.6302499e-02  9.1435200e-01\n",
      "  4.0000000e+00] to be in the range [0.0, 1.0], got -0.0002605020999908447.\n"
     ]
    },
    {
     "name": "stderr",
     "output_type": "stream",
     "text": [
      "Transformando imágenes:  12%|█▏        | 1380/12000 [00:40<04:24, 40.13it/s]"
     ]
    },
    {
     "name": "stdout",
     "output_type": "stream",
     "text": [
      "⚠️ Error al transformar mandalay_2_5_049.jpg: Expected x_min for bbox [-2.6049837e-04  6.1249995e-01  1.0546850e-01  8.8564801e-01\n",
      "  2.0000000e+00] to be in the range [0.0, 1.0], got -0.00026049837470054626.\n",
      "⚠️ Error al transformar bago_urban_23_017.jpg: Expected x_min for bbox [-2.5999919e-04  5.4953700e-01  6.3802004e-02  7.4861103e-01\n",
      "  4.0000000e+00] to be in the range [0.0, 1.0], got -0.00025999918580055237.\n"
     ]
    },
    {
     "name": "stderr",
     "output_type": "stream",
     "text": [
      "Transformando imágenes:  12%|█▏        | 1390/12000 [00:40<04:30, 39.27it/s]"
     ]
    },
    {
     "name": "stdout",
     "output_type": "stream",
     "text": [
      "⚠️ Error al transformar mandalay_1_52_052.jpg: Expected x_min for bbox [-2.6050024e-04  5.2268553e-01  4.4010498e-02  7.6064849e-01\n",
      "  2.0000000e+00] to be in the range [0.0, 1.0], got -0.0002605002373456955.\n"
     ]
    },
    {
     "name": "stderr",
     "output_type": "stream",
     "text": [
      "Transformando imágenes:  12%|█▏        | 1403/12000 [00:40<05:10, 34.18it/s]"
     ]
    },
    {
     "name": "stdout",
     "output_type": "stream",
     "text": [
      "⚠️ Error al transformar mandalay_2_52_080.jpg: Expected x_min for bbox [-4.991889e-07  4.319445e-01  1.406245e-01  7.902775e-01  1.000000e+00] to be in the range [0.0, 1.0], got -4.991888999938965e-07.\n"
     ]
    },
    {
     "name": "stderr",
     "output_type": "stream",
     "text": [
      "Transformando imágenes:  12%|█▏        | 1440/12000 [00:41<04:45, 37.01it/s]"
     ]
    },
    {
     "name": "stdout",
     "output_type": "stream",
     "text": [
      "⚠️ Error al transformar mandalay_2_63_066.jpg: Expected x_min for bbox [-2.6099756e-04  3.8657349e-01  7.8384995e-02  5.5416650e-01\n",
      "  3.0000000e+00] to be in the range [0.0, 1.0], got -0.00026099756360054016.\n"
     ]
    },
    {
     "name": "stderr",
     "output_type": "stream",
     "text": [
      "Transformando imágenes:  12%|█▏        | 1456/12000 [00:42<05:28, 32.14it/s]"
     ]
    },
    {
     "name": "stdout",
     "output_type": "stream",
     "text": [
      "⚠️ Error al transformar mandalay_2_32_014.jpg: Expected x_min for bbox [-2.6099943e-04  6.0972202e-01  5.4426998e-02  8.5694396e-01\n",
      "  1.0000000e+00] to be in the range [0.0, 1.0], got -0.0002609994262456894.\n"
     ]
    },
    {
     "name": "stderr",
     "output_type": "stream",
     "text": [
      "Transformando imágenes:  12%|█▏        | 1494/12000 [00:43<04:14, 41.34it/s]"
     ]
    },
    {
     "name": "stdout",
     "output_type": "stream",
     "text": [
      "⚠️ Error al transformar mandalay_2_56_081.jpg: Expected x_min for bbox [-4.991889e-07  5.773150e-01  1.104165e-01  9.023150e-01  2.000000e+00] to be in the range [0.0, 1.0], got -4.991888999938965e-07.\n"
     ]
    },
    {
     "name": "stderr",
     "output_type": "stream",
     "text": [
      "Transformando imágenes:  13%|█▎        | 1590/12000 [00:46<04:21, 39.81it/s]"
     ]
    },
    {
     "name": "stdout",
     "output_type": "stream",
     "text": [
      "⚠️ Error al transformar mandalay_2_173_054.jpg: Expected x_min for bbox [-2.605021e-04  4.166665e-01  8.776050e-02  7.092595e-01  1.000000e+00] to be in the range [0.0, 1.0], got -0.0002605020999908447.\n"
     ]
    },
    {
     "name": "stderr",
     "output_type": "stream",
     "text": [
      "Transformando imágenes:  15%|█▍        | 1790/12000 [00:51<05:41, 29.91it/s]"
     ]
    },
    {
     "name": "stdout",
     "output_type": "stream",
     "text": [
      "⚠️ Error al transformar mandalay_2_57_019.jpg: Expected x_min for bbox [-2.6000291e-04  6.5925950e-01  1.5234399e-01  1.0000005e+00\n",
      "  2.0000000e+00] to be in the range [0.0, 1.0], got -0.00026000291109085083.\n"
     ]
    },
    {
     "name": "stderr",
     "output_type": "stream",
     "text": [
      "Transformando imágenes:  15%|█▌        | 1825/12000 [00:52<04:26, 38.23it/s]"
     ]
    },
    {
     "name": "stdout",
     "output_type": "stream",
     "text": [
      "⚠️ Error al transformar bago_urban_13_099.jpg: Expected x_min for bbox [-2.5999919e-04  5.3472203e-01  5.1302001e-02  7.0972198e-01\n",
      "  3.0000000e+00] to be in the range [0.0, 1.0], got -0.00025999918580055237.\n"
     ]
    },
    {
     "name": "stderr",
     "output_type": "stream",
     "text": [
      "Transformando imágenes:  16%|█▌        | 1935/12000 [00:55<04:14, 39.61it/s]"
     ]
    },
    {
     "name": "stdout",
     "output_type": "stream",
     "text": [
      "⚠️ Error al transformar mandalay_2_69_052.jpg: Expected x_min for bbox [-2.600029e-04  4.185180e-01  1.263020e-01  7.481480e-01  2.000000e+00] to be in the range [0.0, 1.0], got -0.00026000291109085083.\n"
     ]
    },
    {
     "name": "stderr",
     "output_type": "stream",
     "text": [
      "Transformando imágenes:  16%|█▌        | 1944/12000 [00:56<05:15, 31.91it/s]"
     ]
    },
    {
     "name": "stdout",
     "output_type": "stream",
     "text": [
      "⚠️ Error al transformar mandalay_2_6_003.jpg: Expected x_min for bbox [-2.6049837e-04  7.1898103e-01  1.0546850e-01  9.9953699e-01\n",
      "  2.0000000e+00] to be in the range [0.0, 1.0], got -0.00026049837470054626.\n"
     ]
    },
    {
     "name": "stderr",
     "output_type": "stream",
     "text": [
      "Transformando imágenes:  16%|█▋        | 1966/12000 [00:56<04:28, 37.38it/s]"
     ]
    },
    {
     "name": "stdout",
     "output_type": "stream",
     "text": [
      "⚠️ Error al transformar mandalay_2_21_092.jpg: Expected x_min for bbox [-2.6099384e-04  3.8703749e-01  1.2942700e-01  6.7037046e-01\n",
      "  2.0000000e+00] to be in the range [0.0, 1.0], got -0.0002609938383102417.\n"
     ]
    },
    {
     "name": "stderr",
     "output_type": "stream",
     "text": [
      "Transformando imágenes:  16%|█▋        | 1976/12000 [00:56<04:11, 39.82it/s]"
     ]
    },
    {
     "name": "stdout",
     "output_type": "stream",
     "text": [
      "⚠️ Error al transformar bago_highway_28_046.jpg: Expected x_min for bbox [-2.6000291e-04  6.3611150e-01  1.0859400e-01  8.9351845e-01\n",
      "  3.0000000e+00] to be in the range [0.0, 1.0], got -0.00026000291109085083.\n"
     ]
    },
    {
     "name": "stderr",
     "output_type": "stream",
     "text": [
      "Transformando imágenes:  17%|█▋        | 2004/12000 [00:57<04:24, 37.85it/s]"
     ]
    },
    {
     "name": "stdout",
     "output_type": "stream",
     "text": [
      "⚠️ Error al transformar mandalay_2_49_070.jpg: Expected x_min for bbox [-2.6000291e-04  5.6851900e-01  1.5234399e-01  9.1666698e-01\n",
      "  2.0000000e+00] to be in the range [0.0, 1.0], got -0.00026000291109085083.\n"
     ]
    },
    {
     "name": "stderr",
     "output_type": "stream",
     "text": [
      "Transformando imágenes:  18%|█▊        | 2107/12000 [01:00<04:07, 39.91it/s]"
     ]
    },
    {
     "name": "stdout",
     "output_type": "stream",
     "text": [
      "⚠️ Error al transformar mandalay_2_64_092.jpg: Expected x_min for bbox [-2.5999546e-04  6.5601850e-01  1.3984400e-01  9.9953747e-01\n",
      "  1.0000000e+00] to be in the range [0.0, 1.0], got -0.0002599954605102539.\n",
      "⚠️ Error al transformar mandalay_2_4_082.jpg: Expected x_min for bbox [-2.6049837e-04  6.2731451e-01  1.1067650e-01  9.1527754e-01\n",
      "  2.0000000e+00] to be in the range [0.0, 1.0], got -0.00026049837470054626.\n"
     ]
    },
    {
     "name": "stderr",
     "output_type": "stream",
     "text": [
      "Transformando imágenes:  18%|█▊        | 2180/12000 [01:02<04:31, 36.13it/s]"
     ]
    },
    {
     "name": "stdout",
     "output_type": "stream",
     "text": [
      "⚠️ Error al transformar mandalay_2_11_080.jpg: Expected x_min for bbox [-2.6100129e-04  4.0740746e-01  1.0442700e-01  7.2222251e-01\n",
      "  2.0000000e+00] to be in the range [0.0, 1.0], got -0.0002610012888908386.\n"
     ]
    },
    {
     "name": "stderr",
     "output_type": "stream",
     "text": [
      "Transformando imágenes:  19%|█▉        | 2296/12000 [01:05<04:24, 36.68it/s]"
     ]
    },
    {
     "name": "stdout",
     "output_type": "stream",
     "text": [
      "⚠️ Error al transformar mandalay_1_121_067.jpg: Expected x_min for bbox [-2.6099943e-04  3.4861150e-01  5.3384997e-02  5.1064849e-01\n",
      "  4.0000000e+00] to be in the range [0.0, 1.0], got -0.0002609994262456894.\n"
     ]
    },
    {
     "name": "stderr",
     "output_type": "stream",
     "text": [
      "Transformando imágenes:  19%|█▉        | 2337/12000 [01:07<04:31, 35.59it/s]"
     ]
    },
    {
     "name": "stdout",
     "output_type": "stream",
     "text": [
      "⚠️ Error al transformar mandalay_2_59_027.jpg: Expected x_min for bbox [-4.9918890e-07  5.6574047e-01  6.6666499e-02  7.0277750e-01\n",
      "  3.0000000e+00] to be in the range [0.0, 1.0], got -4.991888999938965e-07.\n",
      "⚠️ Error al transformar mandalay_2_27_070.jpg: Expected x_min for bbox [-2.610013e-04  4.981485e-01  7.317700e-02  6.870375e-01  2.000000e+00] to be in the range [0.0, 1.0], got -0.0002610012888908386.\n"
     ]
    },
    {
     "name": "stderr",
     "output_type": "stream",
     "text": [
      "Transformando imágenes:  20%|█▉        | 2397/12000 [01:08<04:24, 36.37it/s]"
     ]
    },
    {
     "name": "stdout",
     "output_type": "stream",
     "text": [
      "⚠️ Error al transformar mandalay_2_15_045.jpg: Expected x_min for bbox [-2.6100129e-04  4.1851848e-01  1.3463500e-01  7.0555550e-01\n",
      "  2.0000000e+00] to be in the range [0.0, 1.0], got -0.0002610012888908386.\n"
     ]
    },
    {
     "name": "stderr",
     "output_type": "stream",
     "text": [
      "Transformando imágenes:  20%|██        | 2410/12000 [01:08<04:07, 38.75it/s]"
     ]
    },
    {
     "name": "stdout",
     "output_type": "stream",
     "text": [
      "⚠️ Error al transformar mandalay_2_73_030.jpg: Expected x_min for bbox [-2.6049465e-04  6.1296248e-01  1.5546849e-01  9.9999952e-01\n",
      "  2.0000000e+00] to be in the range [0.0, 1.0], got -0.0002604946494102478.\n"
     ]
    },
    {
     "name": "stderr",
     "output_type": "stream",
     "text": [
      "Transformando imágenes:  20%|██        | 2419/12000 [01:09<04:05, 38.99it/s]"
     ]
    },
    {
     "name": "stdout",
     "output_type": "stream",
     "text": [
      "⚠️ Error al transformar mandalay_2_24_063.jpg: Expected x_min for bbox [-2.6100129e-04  5.3749949e-01  9.0884998e-02  7.2731453e-01\n",
      "  2.0000000e+00] to be in the range [0.0, 1.0], got -0.0002610012888908386.\n"
     ]
    },
    {
     "name": "stderr",
     "output_type": "stream",
     "text": [
      "Transformando imágenes:  20%|██        | 2443/12000 [01:10<05:32, 28.72it/s]"
     ]
    },
    {
     "name": "stdout",
     "output_type": "stream",
     "text": [
      "⚠️ Error al transformar mandalay_2_39_084.jpg: Expected x_min for bbox [-2.5999546e-04  4.9351901e-01  1.3255200e-01  8.8796300e-01\n",
      "  1.0000000e+00] to be in the range [0.0, 1.0], got -0.0002599954605102539.\n"
     ]
    },
    {
     "name": "stderr",
     "output_type": "stream",
     "text": [
      "Transformando imágenes:  20%|██        | 2460/12000 [01:10<04:38, 34.30it/s]"
     ]
    },
    {
     "name": "stdout",
     "output_type": "stream",
     "text": [
      "⚠️ Error al transformar mandalay_1_89_056.jpg: Expected x_min for bbox [-2.605021e-04  5.152775e-01  1.388025e-01  9.995365e-01  3.000000e+00] to be in the range [0.0, 1.0], got -0.0002605020999908447.\n"
     ]
    },
    {
     "name": "stderr",
     "output_type": "stream",
     "text": [
      "Transformando imágenes:  21%|██        | 2477/12000 [01:11<04:57, 32.00it/s]"
     ]
    },
    {
     "name": "stdout",
     "output_type": "stream",
     "text": [
      "⚠️ Error al transformar mandalay_1_121_049.jpg: Expected x_min for bbox [-2.6099943e-04  3.4861150e-01  5.3384997e-02  5.1064849e-01\n",
      "  4.0000000e+00] to be in the range [0.0, 1.0], got -0.0002609994262456894.\n"
     ]
    },
    {
     "name": "stderr",
     "output_type": "stream",
     "text": [
      "Transformando imágenes:  21%|██        | 2509/12000 [01:12<05:29, 28.81it/s]"
     ]
    },
    {
     "name": "stdout",
     "output_type": "stream",
     "text": [
      "⚠️ Error al transformar mandalay_1_52_034.jpg: Expected x_min for bbox [-2.6000012e-04  5.0972199e-01  2.8386001e-02  7.0694399e-01\n",
      "  2.0000000e+00] to be in the range [0.0, 1.0], got -0.000260000117123127.\n"
     ]
    },
    {
     "name": "stderr",
     "output_type": "stream",
     "text": [
      "Transformando imágenes:  21%|██        | 2518/12000 [01:12<04:50, 32.60it/s]"
     ]
    },
    {
     "name": "stdout",
     "output_type": "stream",
     "text": [
      "⚠️ Error al transformar mandalay_2_24_008.jpg: Expected x_min for bbox [-2.60498375e-04  5.40741026e-01  1.11718506e-01  8.14814985e-01\n",
      "  2.00000000e+00] to be in the range [0.0, 1.0], got -0.00026049837470054626.\n"
     ]
    },
    {
     "name": "stderr",
     "output_type": "stream",
     "text": [
      "Transformando imágenes:  21%|██        | 2541/12000 [01:13<04:09, 37.96it/s]"
     ]
    },
    {
     "name": "stdout",
     "output_type": "stream",
     "text": [
      "⚠️ Error al transformar mandalay_2_28_061.jpg: Expected x_min for bbox [-5.0105155e-07  5.6759250e-01  4.7916502e-02  6.7870355e-01\n",
      "  2.0000000e+00] to be in the range [0.0, 1.0], got -5.010515451431274e-07.\n"
     ]
    },
    {
     "name": "stderr",
     "output_type": "stream",
     "text": [
      "Transformando imágenes:  22%|██▏       | 2620/12000 [01:15<05:19, 29.38it/s]"
     ]
    },
    {
     "name": "stdout",
     "output_type": "stream",
     "text": [
      "⚠️ Error al transformar mandalay_1_121_047.jpg: Expected x_min for bbox [-2.6099943e-04  3.4768549e-01  5.3384997e-02  5.0972247e-01\n",
      "  4.0000000e+00] to be in the range [0.0, 1.0], got -0.0002609994262456894.\n"
     ]
    },
    {
     "name": "stderr",
     "output_type": "stream",
     "text": [
      "Transformando imágenes:  22%|██▏       | 2696/12000 [01:18<05:16, 29.42it/s]"
     ]
    },
    {
     "name": "stdout",
     "output_type": "stream",
     "text": [
      "⚠️ Error al transformar mandalay_1_89_002.jpg: Expected x_min for bbox [-2.6050210e-04  5.3703749e-01  1.3880250e-01  1.0000005e+00\n",
      "  3.0000000e+00] to be in the range [0.0, 1.0], got -0.0002605020999908447.\n"
     ]
    },
    {
     "name": "stderr",
     "output_type": "stream",
     "text": [
      "Transformando imágenes:  23%|██▎       | 2774/12000 [01:21<04:30, 34.14it/s]"
     ]
    },
    {
     "name": "stdout",
     "output_type": "stream",
     "text": [
      "⚠️ Error al transformar mandalay_2_29_074.jpg: Expected x_min for bbox [-4.9918890e-07  4.8935148e-01  5.4166500e-02  6.0694450e-01\n",
      "  1.0000000e+00] to be in the range [0.0, 1.0], got -4.991888999938965e-07.\n"
     ]
    },
    {
     "name": "stderr",
     "output_type": "stream",
     "text": [
      "Transformando imágenes:  23%|██▎       | 2807/12000 [01:22<04:27, 34.39it/s]"
     ]
    },
    {
     "name": "stdout",
     "output_type": "stream",
     "text": [
      "⚠️ Error al transformar mandalay_1_121_064.jpg: Expected x_min for bbox [-2.6099943e-04  3.4861150e-01  5.3384997e-02  5.1064849e-01\n",
      "  4.0000000e+00] to be in the range [0.0, 1.0], got -0.0002609994262456894.\n",
      "⚠️ Error al transformar mandalay_1_198_055.jpg: Expected x_min for bbox [-2.6050210e-04  4.1712952e-01  1.6276050e-01  7.7546251e-01\n",
      "  3.0000000e+00] to be in the range [0.0, 1.0], got -0.0002605020999908447.\n"
     ]
    },
    {
     "name": "stderr",
     "output_type": "stream",
     "text": [
      "Transformando imágenes:  24%|██▎       | 2827/12000 [01:23<06:06, 25.06it/s]"
     ]
    },
    {
     "name": "stdout",
     "output_type": "stream",
     "text": [
      "⚠️ Error al transformar mandalay_2_57_079.jpg: Expected x_min for bbox [-5.0291419e-07  6.3518500e-01  9.0624496e-02  9.5925903e-01\n",
      "  2.0000000e+00] to be in the range [0.0, 1.0], got -5.029141902923584e-07.\n"
     ]
    },
    {
     "name": "stderr",
     "output_type": "stream",
     "text": [
      "Transformando imágenes:  24%|██▍       | 2884/12000 [01:25<04:38, 32.74it/s]"
     ]
    },
    {
     "name": "stdout",
     "output_type": "stream",
     "text": [
      "⚠️ Error al transformar pakokku_urban_73_071.jpg: Expected x_min for bbox [-2.6049465e-04  4.1435200e-01  1.4505249e-01  7.6157397e-01\n",
      "  3.0000000e+00] to be in the range [0.0, 1.0], got -0.0002604946494102478.\n"
     ]
    },
    {
     "name": "stderr",
     "output_type": "stream",
     "text": [
      "Transformando imágenes:  24%|██▍       | 2934/12000 [01:26<04:41, 32.20it/s]"
     ]
    },
    {
     "name": "stdout",
     "output_type": "stream",
     "text": [
      "⚠️ Error al transformar nyaungu_urban_16_071.jpg: Expected x_min for bbox [-2.5999919e-04  5.7870352e-01  5.8594000e-02  8.4537053e-01\n",
      "  3.0000000e+00] to be in the range [0.0, 1.0], got -0.00025999918580055237.\n"
     ]
    },
    {
     "name": "stderr",
     "output_type": "stream",
     "text": [
      "Transformando imágenes:  25%|██▍       | 2998/12000 [01:29<04:44, 31.61it/s]"
     ]
    },
    {
     "name": "stdout",
     "output_type": "stream",
     "text": [
      "⚠️ Error al transformar mandalay_2_49_041.jpg: Expected x_min for bbox [-2.6000291e-04  5.5648196e-01  1.5234399e-01  9.0277803e-01\n",
      "  1.0000000e+00] to be in the range [0.0, 1.0], got -0.00026000291109085083.\n"
     ]
    },
    {
     "name": "stderr",
     "output_type": "stream",
     "text": [
      "Transformando imágenes:  25%|██▌       | 3016/12000 [01:29<04:08, 36.09it/s]"
     ]
    },
    {
     "name": "stdout",
     "output_type": "stream",
     "text": [
      "⚠️ Error al transformar mandalay_1_82_073.jpg: Expected x_min for bbox [-4.991889e-07  3.601850e-01  6.666650e-02  6.064810e-01  1.000000e+00] to be in the range [0.0, 1.0], got -4.991888999938965e-07.\n"
     ]
    },
    {
     "name": "stderr",
     "output_type": "stream",
     "text": [
      "Transformando imágenes:  26%|██▌       | 3079/12000 [01:31<04:59, 29.83it/s]"
     ]
    },
    {
     "name": "stdout",
     "output_type": "stream",
     "text": [
      "⚠️ Error al transformar mandalay_2_6_013.jpg: Expected x_min for bbox [-2.600029e-04  6.500000e-01  1.533860e-01  1.000000e+00  2.000000e+00] to be in the range [0.0, 1.0], got -0.00026000291109085083.\n"
     ]
    },
    {
     "name": "stderr",
     "output_type": "stream",
     "text": [
      "Transformando imágenes:  26%|██▌       | 3128/12000 [01:33<04:02, 36.61it/s]"
     ]
    },
    {
     "name": "stdout",
     "output_type": "stream",
     "text": [
      "⚠️ Error al transformar mandalay_2_25_076.jpg: Expected x_min for bbox [-2.5999919e-04  4.3472198e-01  9.7136006e-02  7.3379600e-01\n",
      "  1.0000000e+00] to be in the range [0.0, 1.0], got -0.00025999918580055237.\n"
     ]
    },
    {
     "name": "stderr",
     "output_type": "stream",
     "text": [
      "Transformando imágenes:  27%|██▋       | 3183/12000 [01:35<05:39, 25.94it/s]"
     ]
    },
    {
     "name": "stdout",
     "output_type": "stream",
     "text": [
      "⚠️ Error al transformar mandalay_2_71_032.jpg: Expected x_min for bbox [-2.6050210e-04  4.9537003e-01  8.7760501e-02  6.7129600e-01\n",
      "  1.0000000e+00] to be in the range [0.0, 1.0], got -0.0002605020999908447.\n"
     ]
    },
    {
     "name": "stderr",
     "output_type": "stream",
     "text": [
      "Transformando imágenes:  27%|██▋       | 3221/12000 [01:37<04:41, 31.22it/s]"
     ]
    },
    {
     "name": "stdout",
     "output_type": "stream",
     "text": [
      "⚠️ Error al transformar mandalay_2_21_091.jpg: Expected x_min for bbox [-2.6049837e-04  3.8888848e-01  7.4218497e-02  6.5740752e-01\n",
      "  2.0000000e+00] to be in the range [0.0, 1.0], got -0.00026049837470054626.\n"
     ]
    },
    {
     "name": "stderr",
     "output_type": "stream",
     "text": [
      "Transformando imágenes:  27%|██▋       | 3281/12000 [01:39<04:35, 31.59it/s]"
     ]
    },
    {
     "name": "stdout",
     "output_type": "stream",
     "text": [
      "⚠️ Error al transformar mandalay_2_29_061.jpg: Expected x_min for bbox [-4.991889e-07  4.875000e-01  5.937450e-02  6.069440e-01  1.000000e+00] to be in the range [0.0, 1.0], got -4.991888999938965e-07.\n"
     ]
    },
    {
     "name": "stderr",
     "output_type": "stream",
     "text": [
      "Transformando imágenes:  28%|██▊       | 3321/12000 [01:40<04:27, 32.41it/s]"
     ]
    },
    {
     "name": "stdout",
     "output_type": "stream",
     "text": [
      "⚠️ Error al transformar mandalay_2_63_029.jpg: Expected x_min for bbox [-2.6049931e-04  3.6851847e-01  3.0468501e-02  4.7592551e-01\n",
      "  2.0000000e+00] to be in the range [0.0, 1.0], got -0.0002604993060231209.\n"
     ]
    },
    {
     "name": "stderr",
     "output_type": "stream",
     "text": [
      "Transformando imágenes:  28%|██▊       | 3355/12000 [01:41<04:42, 30.56it/s]"
     ]
    },
    {
     "name": "stdout",
     "output_type": "stream",
     "text": [
      "⚠️ Error al transformar mandalay_1_52_051.jpg: Expected x_min for bbox [-2.6000105e-04  5.2175945e-01  3.9843999e-02  7.5787050e-01\n",
      "  2.0000000e+00] to be in the range [0.0, 1.0], got -0.0002600010484457016.\n"
     ]
    },
    {
     "name": "stderr",
     "output_type": "stream",
     "text": [
      "Transformando imágenes:  30%|██▉       | 3559/12000 [01:48<04:23, 32.07it/s]"
     ]
    },
    {
     "name": "stdout",
     "output_type": "stream",
     "text": [
      "⚠️ Error al transformar mandalay_2_73_023.jpg: Expected x_min for bbox [-4.991889e-07  5.287040e-01  1.041665e-01  8.064820e-01  1.000000e+00] to be in the range [0.0, 1.0], got -4.991888999938965e-07.\n"
     ]
    },
    {
     "name": "stderr",
     "output_type": "stream",
     "text": [
      "Transformando imágenes:  30%|███       | 3610/12000 [01:49<04:14, 32.97it/s]"
     ]
    },
    {
     "name": "stdout",
     "output_type": "stream",
     "text": [
      "⚠️ Error al transformar mandalay_2_41_097.jpg: Expected x_min for bbox [-5.066395e-07  5.569440e-01  1.656245e-01  9.375000e-01  2.000000e+00] to be in the range [0.0, 1.0], got -5.066394805908203e-07.\n"
     ]
    },
    {
     "name": "stderr",
     "output_type": "stream",
     "text": [
      "Transformando imágenes:  31%|███       | 3723/12000 [01:53<04:03, 33.93it/s]"
     ]
    },
    {
     "name": "stdout",
     "output_type": "stream",
     "text": [
      "⚠️ Error al transformar mandalay_2_46_083.jpg: Expected x_min for bbox [-2.6050210e-04  4.7777802e-01  1.3567650e-01  9.2407399e-01\n",
      "  1.0000000e+00] to be in the range [0.0, 1.0], got -0.0002605020999908447.\n"
     ]
    },
    {
     "name": "stderr",
     "output_type": "stream",
     "text": [
      "Transformando imágenes:  31%|███▏      | 3771/12000 [01:55<04:41, 29.27it/s]"
     ]
    },
    {
     "name": "stdout",
     "output_type": "stream",
     "text": [
      "⚠️ Error al transformar mandalay_2_57_099.jpg: Expected x_min for bbox [-2.6049837e-04  6.4675951e-01  9.8176494e-02  9.9027848e-01\n",
      "  2.0000000e+00] to be in the range [0.0, 1.0], got -0.00026049837470054626.\n"
     ]
    },
    {
     "name": "stderr",
     "output_type": "stream",
     "text": [
      "Transformando imágenes:  32%|███▏      | 3786/12000 [01:55<04:26, 30.82it/s]"
     ]
    },
    {
     "name": "stdout",
     "output_type": "stream",
     "text": [
      "⚠️ Error al transformar mandalay_2_4_037.jpg: Expected x_min for bbox [-2.610013e-04  6.175925e-01  1.221350e-01  9.083335e-01  1.000000e+00] to be in the range [0.0, 1.0], got -0.0002610012888908386.\n"
     ]
    },
    {
     "name": "stderr",
     "output_type": "stream",
     "text": [
      "Transformando imágenes:  32%|███▏      | 3850/12000 [01:57<04:00, 33.86it/s]"
     ]
    },
    {
     "name": "stdout",
     "output_type": "stream",
     "text": [
      "⚠️ Error al transformar mandalay_1_89_037.jpg: Expected x_min for bbox [-2.6050210e-04  5.1157451e-01  1.3671850e-01  9.9953747e-01\n",
      "  3.0000000e+00] to be in the range [0.0, 1.0], got -0.0002605020999908447.\n"
     ]
    },
    {
     "name": "stderr",
     "output_type": "stream",
     "text": [
      "Transformando imágenes:  32%|███▏      | 3886/12000 [01:58<04:21, 30.97it/s]"
     ]
    },
    {
     "name": "stdout",
     "output_type": "stream",
     "text": [
      "⚠️ Error al transformar mandalay_2_47_015.jpg: Expected x_min for bbox [-2.5999919e-04  5.4166651e-01  1.2109400e-01  7.9907346e-01\n",
      "  1.0000000e+00] to be in the range [0.0, 1.0], got -0.00025999918580055237.\n"
     ]
    },
    {
     "name": "stderr",
     "output_type": "stream",
     "text": [
      "Transformando imágenes:  33%|███▎      | 3923/12000 [02:00<04:36, 29.25it/s]"
     ]
    },
    {
     "name": "stdout",
     "output_type": "stream",
     "text": [
      "⚠️ Error al transformar mandalay_1_121_066.jpg: Expected x_min for bbox [-2.6099943e-04  3.4861150e-01  5.3384997e-02  5.1064849e-01\n",
      "  4.0000000e+00] to be in the range [0.0, 1.0], got -0.0002609994262456894.\n",
      "⚠️ Error al transformar mandalay_2_66_061.jpg: Expected x_min for bbox [-4.9918890e-07  4.0972254e-01  1.0312450e-01  6.9212949e-01\n",
      "  2.0000000e+00] to be in the range [0.0, 1.0], got -4.991888999938965e-07.\n"
     ]
    },
    {
     "name": "stderr",
     "output_type": "stream",
     "text": [
      "Transformando imágenes:  34%|███▍      | 4081/12000 [02:05<03:48, 34.58it/s]"
     ]
    },
    {
     "name": "stdout",
     "output_type": "stream",
     "text": [
      "⚠️ Error al transformar mandalay_2_51_048.jpg: Expected x_min for bbox [-2.6100129e-04  6.8333352e-01  1.4817700e-01  1.0000005e+00\n",
      "  1.0000000e+00] to be in the range [0.0, 1.0], got -0.0002610012888908386.\n"
     ]
    },
    {
     "name": "stderr",
     "output_type": "stream",
     "text": [
      "Transformando imágenes:  34%|███▍      | 4124/12000 [02:06<03:21, 39.04it/s]"
     ]
    },
    {
     "name": "stdout",
     "output_type": "stream",
     "text": [
      "⚠️ Error al transformar mandalay_1_121_050.jpg: Expected x_min for bbox [-2.6099943e-04  3.4861150e-01  5.3384997e-02  5.1064849e-01\n",
      "  4.0000000e+00] to be in the range [0.0, 1.0], got -0.0002609994262456894.\n"
     ]
    },
    {
     "name": "stderr",
     "output_type": "stream",
     "text": [
      "Transformando imágenes:  36%|███▋      | 4377/12000 [02:15<07:12, 17.62it/s]"
     ]
    },
    {
     "name": "stdout",
     "output_type": "stream",
     "text": [
      "⚠️ Error al transformar bago_highway_33_003.jpg: Expected x_min for bbox [-2.5999546e-04  6.8750048e-01  1.8984400e-01  9.9953747e-01\n",
      "  3.0000000e+00] to be in the range [0.0, 1.0], got -0.0002599954605102539.\n"
     ]
    },
    {
     "name": "stderr",
     "output_type": "stream",
     "text": [
      "Transformando imágenes:  37%|███▋      | 4396/12000 [02:16<04:57, 25.59it/s]"
     ]
    },
    {
     "name": "stdout",
     "output_type": "stream",
     "text": [
      "⚠️ Error al transformar mandalay_2_141_048.jpg: Expected x_min for bbox [-4.991889e-07  6.967590e-01  1.281245e-01  9.995370e-01  2.000000e+00] to be in the range [0.0, 1.0], got -4.991888999938965e-07.\n"
     ]
    },
    {
     "name": "stderr",
     "output_type": "stream",
     "text": [
      "Transformando imágenes:  38%|███▊      | 4529/12000 [02:21<03:27, 35.99it/s]"
     ]
    },
    {
     "name": "stdout",
     "output_type": "stream",
     "text": [
      "⚠️ Error al transformar naypyitaw_2_5_013.jpg: Expected x_min for bbox [-2.6099943e-04  3.2685199e-01  4.1927002e-02  4.9722198e-01\n",
      "  2.0000000e+00] to be in the range [0.0, 1.0], got -0.0002609994262456894.\n"
     ]
    },
    {
     "name": "stderr",
     "output_type": "stream",
     "text": [
      "Transformando imágenes:  38%|███▊      | 4583/12000 [02:23<04:28, 27.59it/s]"
     ]
    },
    {
     "name": "stdout",
     "output_type": "stream",
     "text": [
      "⚠️ Error al transformar mandalay_1_121_037.jpg: Expected x_min for bbox [-2.6099943e-04  3.4814849e-01  5.3384997e-02  5.0925946e-01\n",
      "  4.0000000e+00] to be in the range [0.0, 1.0], got -0.0002609994262456894.\n"
     ]
    },
    {
     "name": "stderr",
     "output_type": "stream",
     "text": [
      "Transformando imágenes:  39%|███▊      | 4630/12000 [02:25<04:36, 26.64it/s]"
     ]
    },
    {
     "name": "stdout",
     "output_type": "stream",
     "text": [
      "⚠️ Error al transformar bago_urban_44_037.jpg: Expected x_min for bbox [-2.6049837e-04  5.6712949e-01  9.8176494e-02  7.7916646e-01\n",
      "  2.0000000e+00] to be in the range [0.0, 1.0], got -0.00026049837470054626.\n"
     ]
    },
    {
     "name": "stderr",
     "output_type": "stream",
     "text": [
      "Transformando imágenes:  39%|███▉      | 4700/12000 [02:27<04:06, 29.56it/s]"
     ]
    },
    {
     "name": "stdout",
     "output_type": "stream",
     "text": [
      "⚠️ Error al transformar mandalay_1_89_055.jpg: Expected x_min for bbox [-2.605021e-04  5.152775e-01  1.419265e-01  9.995365e-01  3.000000e+00] to be in the range [0.0, 1.0], got -0.0002605020999908447.\n"
     ]
    },
    {
     "name": "stderr",
     "output_type": "stream",
     "text": [
      "Transformando imágenes:  40%|████      | 4805/12000 [02:31<03:21, 35.74it/s]"
     ]
    },
    {
     "name": "stdout",
     "output_type": "stream",
     "text": [
      "⚠️ Error al transformar mandalay_2_41_019.jpg: Expected x_min for bbox [-2.6099384e-04  5.6157446e-01  1.2942700e-01  8.9768553e-01\n",
      "  2.0000000e+00] to be in the range [0.0, 1.0], got -0.0002609938383102417.\n"
     ]
    },
    {
     "name": "stderr",
     "output_type": "stream",
     "text": [
      "Transformando imágenes:  40%|████      | 4827/12000 [02:31<03:25, 34.94it/s]"
     ]
    },
    {
     "name": "stdout",
     "output_type": "stream",
     "text": [
      "⚠️ Error al transformar nyaungu_rural_5_068.jpg: Expected x_min for bbox [-2.6050210e-04  4.6203697e-01  1.3151050e-01  8.3240700e-01\n",
      "  3.0000000e+00] to be in the range [0.0, 1.0], got -0.0002605020999908447.\n",
      "⚠️ Error al transformar mandalay_2_54_033.jpg: Expected x_min for bbox [-4.9918890e-07  6.0231501e-01  1.8541649e-01  9.9953705e-01\n",
      "  1.0000000e+00] to be in the range [0.0, 1.0], got -4.991888999938965e-07.\n"
     ]
    },
    {
     "name": "stderr",
     "output_type": "stream",
     "text": [
      "Transformando imágenes:  41%|████      | 4870/12000 [02:33<03:16, 36.33it/s]"
     ]
    },
    {
     "name": "stdout",
     "output_type": "stream",
     "text": [
      "⚠️ Error al transformar mandalay_2_4_076.jpg: Expected x_min for bbox [-2.6050210e-04  6.1898148e-01  1.3046850e-01  9.0879655e-01\n",
      "  2.0000000e+00] to be in the range [0.0, 1.0], got -0.0002605020999908447.\n"
     ]
    },
    {
     "name": "stderr",
     "output_type": "stream",
     "text": [
      "Transformando imágenes:  41%|████      | 4878/12000 [02:33<03:28, 34.23it/s]"
     ]
    },
    {
     "name": "stdout",
     "output_type": "stream",
     "text": [
      "⚠️ Error al transformar mandalay_2_26_072.jpg: Expected x_min for bbox [-2.605021e-04  5.458330e-01  8.671850e-02  8.171290e-01  1.000000e+00] to be in the range [0.0, 1.0], got -0.0002605020999908447.\n"
     ]
    },
    {
     "name": "stderr",
     "output_type": "stream",
     "text": [
      "Transformando imágenes:  41%|████      | 4937/12000 [02:35<04:35, 25.64it/s]"
     ]
    },
    {
     "name": "stdout",
     "output_type": "stream",
     "text": [
      "⚠️ Error al transformar mandalay_1_121_036.jpg: Expected x_min for bbox [-2.6099943e-04  3.4675950e-01  5.3384997e-02  5.0879651e-01\n",
      "  4.0000000e+00] to be in the range [0.0, 1.0], got -0.0002609994262456894.\n"
     ]
    },
    {
     "name": "stderr",
     "output_type": "stream",
     "text": [
      "Transformando imágenes:  41%|████▏     | 4969/12000 [02:36<03:25, 34.27it/s]"
     ]
    },
    {
     "name": "stdout",
     "output_type": "stream",
     "text": [
      "⚠️ Error al transformar mandalay_2_48_096.jpg: Expected x_min for bbox [-5.0291419e-07  6.2916648e-01  9.0624496e-02  9.1898155e-01\n",
      "  2.0000000e+00] to be in the range [0.0, 1.0], got -5.029141902923584e-07.\n"
     ]
    },
    {
     "name": "stderr",
     "output_type": "stream",
     "text": [
      "Transformando imágenes:  42%|████▏     | 4992/12000 [02:37<03:34, 32.66it/s]"
     ]
    },
    {
     "name": "stdout",
     "output_type": "stream",
     "text": [
      "⚠️ Error al transformar mandalay_2_64_058.jpg: Expected x_min for bbox [-2.6099943e-04  5.7546306e-01  5.9634998e-02  7.5601900e-01\n",
      "  1.0000000e+00] to be in the range [0.0, 1.0], got -0.0002609994262456894.\n"
     ]
    },
    {
     "name": "stderr",
     "output_type": "stream",
     "text": [
      "Transformando imágenes:  42%|████▏     | 5025/12000 [02:38<03:35, 32.34it/s]"
     ]
    },
    {
     "name": "stdout",
     "output_type": "stream",
     "text": [
      "⚠️ Error al transformar mandalay_2_155_001.jpg: Expected x_min for bbox [-2.6049837e-04  5.6759304e-01  1.1067650e-01  8.8796300e-01\n",
      "  2.0000000e+00] to be in the range [0.0, 1.0], got -0.00026049837470054626.\n"
     ]
    },
    {
     "name": "stderr",
     "output_type": "stream",
     "text": [
      "Transformando imágenes:  42%|████▏     | 5066/12000 [02:39<03:31, 32.76it/s]"
     ]
    },
    {
     "name": "stdout",
     "output_type": "stream",
     "text": [
      "⚠️ Error al transformar mandalay_2_34_037.jpg: Expected x_min for bbox [-2.5999919e-04  5.4074049e-01  9.5052004e-02  8.0740750e-01\n",
      "  1.0000000e+00] to be in the range [0.0, 1.0], got -0.00025999918580055237.\n",
      "⚠️ Error al transformar mandalay_1_101_025.jpg: Expected x_min for bbox [-2.5999919e-04  4.6666652e-01  4.5051999e-02  6.2777752e-01\n",
      "  2.0000000e+00] to be in the range [0.0, 1.0], got -0.00025999918580055237.\n"
     ]
    },
    {
     "name": "stderr",
     "output_type": "stream",
     "text": [
      "Transformando imágenes:  42%|████▏     | 5096/12000 [02:40<03:02, 37.78it/s]"
     ]
    },
    {
     "name": "stdout",
     "output_type": "stream",
     "text": [
      "⚠️ Error al transformar mandalay_1_52_054.jpg: Expected x_min for bbox [-2.6050024e-04  5.2083349e-01  5.6510501e-02  7.5879645e-01\n",
      "  2.0000000e+00] to be in the range [0.0, 1.0], got -0.0002605002373456955.\n"
     ]
    },
    {
     "name": "stderr",
     "output_type": "stream",
     "text": [
      "Transformando imágenes:  43%|████▎     | 5187/12000 [02:43<05:21, 21.17it/s]"
     ]
    },
    {
     "name": "stdout",
     "output_type": "stream",
     "text": [
      "⚠️ Error al transformar mandalay_2_6_029.jpg: Expected x_min for bbox [-4.9918890e-07  6.2407398e-01  1.0312450e-01  9.2592597e-01\n",
      "  2.0000000e+00] to be in the range [0.0, 1.0], got -4.991888999938965e-07.\n"
     ]
    },
    {
     "name": "stderr",
     "output_type": "stream",
     "text": [
      "Transformando imágenes:  44%|████▍     | 5337/12000 [02:49<03:28, 32.00it/s]"
     ]
    },
    {
     "name": "stdout",
     "output_type": "stream",
     "text": [
      "⚠️ Error al transformar mandalay_2_52_090.jpg: Expected x_min for bbox [-4.9918890e-07  4.3240696e-01  1.4166650e-01  7.6203698e-01\n",
      "  2.0000000e+00] to be in the range [0.0, 1.0], got -4.991888999938965e-07.\n"
     ]
    },
    {
     "name": "stderr",
     "output_type": "stream",
     "text": [
      "Transformando imágenes:  45%|████▍     | 5375/12000 [02:51<03:13, 34.31it/s]"
     ]
    },
    {
     "name": "stdout",
     "output_type": "stream",
     "text": [
      "⚠️ Error al transformar mandalay_2_114_036.jpg: Expected x_min for bbox [-4.9918890e-07  4.8981553e-01  4.1666500e-02  5.9722251e-01\n",
      "  4.0000000e+00] to be in the range [0.0, 1.0], got -4.991888999938965e-07.\n"
     ]
    },
    {
     "name": "stderr",
     "output_type": "stream",
     "text": [
      "Transformando imágenes:  45%|████▍     | 5383/12000 [02:51<03:11, 34.59it/s]"
     ]
    },
    {
     "name": "stdout",
     "output_type": "stream",
     "text": [
      "⚠️ Error al transformar mandalay_2_73_014.jpg: Expected x_min for bbox [-4.9918890e-07  5.9907448e-01  1.5416649e-01  9.8611152e-01\n",
      "  1.0000000e+00] to be in the range [0.0, 1.0], got -4.991888999938965e-07.\n"
     ]
    },
    {
     "name": "stderr",
     "output_type": "stream",
     "text": [
      "Transformando imágenes:  46%|████▌     | 5508/12000 [02:55<02:46, 38.89it/s]"
     ]
    },
    {
     "name": "stdout",
     "output_type": "stream",
     "text": [
      "⚠️ Error al transformar mandalay_2_60_010.jpg: Expected x_min for bbox [-2.6000105e-04  4.8240751e-01  4.7136001e-02  5.9722251e-01\n",
      "  2.0000000e+00] to be in the range [0.0, 1.0], got -0.0002600010484457016.\n",
      "⚠️ Error al transformar mandalay_2_7_080.jpg: Expected x_min for bbox [-2.605021e-04  6.708330e-01  1.190105e-01  9.995370e-01  1.000000e+00] to be in the range [0.0, 1.0], got -0.0002605020999908447.\n"
     ]
    },
    {
     "name": "stderr",
     "output_type": "stream",
     "text": [
      "Transformando imágenes:  46%|████▌     | 5522/12000 [02:56<04:25, 24.43it/s]"
     ]
    },
    {
     "name": "stdout",
     "output_type": "stream",
     "text": [
      "⚠️ Error al transformar mandalay_1_121_065.jpg: Expected x_min for bbox [-2.6099943e-04  3.4861150e-01  5.3384997e-02  5.1064849e-01\n",
      "  4.0000000e+00] to be in the range [0.0, 1.0], got -0.0002609994262456894.\n"
     ]
    },
    {
     "name": "stderr",
     "output_type": "stream",
     "text": [
      "Transformando imágenes:  46%|████▋     | 5555/12000 [02:57<04:03, 26.48it/s]"
     ]
    },
    {
     "name": "stdout",
     "output_type": "stream",
     "text": [
      "⚠️ Error al transformar mandalay_2_4_080.jpg: Expected x_min for bbox [-2.610013e-04  6.518520e-01  1.481770e-01  1.000000e+00  2.000000e+00] to be in the range [0.0, 1.0], got -0.0002610012888908386.\n"
     ]
    },
    {
     "name": "stderr",
     "output_type": "stream",
     "text": [
      "Transformando imágenes:  47%|████▋     | 5624/12000 [02:59<02:45, 38.42it/s]"
     ]
    },
    {
     "name": "stdout",
     "output_type": "stream",
     "text": [
      "⚠️ Error al transformar mandalay_2_18_028.jpg: Expected x_min for bbox [-2.6100129e-04  3.8888898e-01  9.1926999e-02  6.6851902e-01\n",
      "  1.0000000e+00] to be in the range [0.0, 1.0], got -0.0002610012888908386.\n"
     ]
    },
    {
     "name": "stderr",
     "output_type": "stream",
     "text": [
      "Transformando imágenes:  47%|████▋     | 5664/12000 [03:01<03:40, 28.73it/s]"
     ]
    },
    {
     "name": "stdout",
     "output_type": "stream",
     "text": [
      "⚠️ Error al transformar mandalay_2_28_052.jpg: Expected x_min for bbox [-4.9918890e-07  6.1620396e-01  7.1874499e-02  8.8749999e-01\n",
      "  2.0000000e+00] to be in the range [0.0, 1.0], got -4.991888999938965e-07.\n"
     ]
    },
    {
     "name": "stderr",
     "output_type": "stream",
     "text": [
      "Transformando imágenes:  48%|████▊     | 5761/12000 [03:04<03:37, 28.74it/s]"
     ]
    },
    {
     "name": "stdout",
     "output_type": "stream",
     "text": [
      "⚠️ Error al transformar mandalay_1_52_031.jpg: Expected x_min for bbox [-2.6050024e-04  5.0879598e-01  3.6718503e-02  7.0601797e-01\n",
      "  2.0000000e+00] to be in the range [0.0, 1.0], got -0.0002605002373456955.\n"
     ]
    },
    {
     "name": "stderr",
     "output_type": "stream",
     "text": [
      "Transformando imágenes:  48%|████▊     | 5773/12000 [03:04<03:27, 30.05it/s]"
     ]
    },
    {
     "name": "stdout",
     "output_type": "stream",
     "text": [
      "⚠️ Error al transformar mandalay_2_38_055.jpg: Expected x_min for bbox [-2.6100129e-04  4.8749998e-01  1.4817700e-01  9.5879602e-01\n",
      "  1.0000000e+00] to be in the range [0.0, 1.0], got -0.0002610012888908386.\n"
     ]
    },
    {
     "name": "stderr",
     "output_type": "stream",
     "text": [
      "Transformando imágenes:  48%|████▊     | 5787/12000 [03:05<05:04, 20.41it/s]"
     ]
    },
    {
     "name": "stdout",
     "output_type": "stream",
     "text": [
      "⚠️ Error al transformar mandalay_2_4_087.jpg: Expected x_min for bbox [-2.610013e-04  6.185185e-01  1.044270e-01  8.851855e-01  2.000000e+00] to be in the range [0.0, 1.0], got -0.0002610012888908386.\n"
     ]
    },
    {
     "name": "stderr",
     "output_type": "stream",
     "text": [
      "Transformando imágenes:  49%|████▉     | 5937/12000 [03:11<03:59, 25.32it/s]"
     ]
    },
    {
     "name": "stdout",
     "output_type": "stream",
     "text": [
      "⚠️ Error al transformar mandalay_2_139_047.jpg: Expected x_min for bbox [-2.6050024e-04  5.6342602e-01  5.0260499e-02  6.8657398e-01\n",
      "  2.0000000e+00] to be in the range [0.0, 1.0], got -0.0002605002373456955.\n"
     ]
    },
    {
     "name": "stderr",
     "output_type": "stream",
     "text": [
      "Transformando imágenes:  50%|████▉     | 5961/12000 [03:11<03:05, 32.58it/s]"
     ]
    },
    {
     "name": "stdout",
     "output_type": "stream",
     "text": [
      "⚠️ Error al transformar mandalay_1_66_028.jpg: Expected x_min for bbox [-2.6049837e-04  2.8796351e-01  7.5260505e-02  6.2129647e-01\n",
      "  2.0000000e+00] to be in the range [0.0, 1.0], got -0.00026049837470054626.\n"
     ]
    },
    {
     "name": "stderr",
     "output_type": "stream",
     "text": [
      "Transformando imágenes:  50%|████▉     | 5992/12000 [03:12<03:06, 32.16it/s]"
     ]
    },
    {
     "name": "stdout",
     "output_type": "stream",
     "text": [
      "⚠️ Error al transformar mandalay_2_38_020.jpg: Expected x_min for bbox [-2.6050024e-04  3.5972250e-01  3.6718503e-02  4.7546351e-01\n",
      "  2.0000000e+00] to be in the range [0.0, 1.0], got -0.0002605002373456955.\n"
     ]
    },
    {
     "name": "stderr",
     "output_type": "stream",
     "text": [
      "Transformando imágenes:  50%|█████     | 6023/12000 [03:14<03:25, 29.08it/s]"
     ]
    },
    {
     "name": "stdout",
     "output_type": "stream",
     "text": [
      "⚠️ Error al transformar mandalay_2_44_004.jpg: Expected x_min for bbox [-2.5999546e-04  5.6203651e-01  1.3984400e-01  8.8055551e-01\n",
      "  4.0000000e+00] to be in the range [0.0, 1.0], got -0.0002599954605102539.\n"
     ]
    },
    {
     "name": "stderr",
     "output_type": "stream",
     "text": [
      "Transformando imágenes:  50%|█████     | 6039/12000 [03:14<03:08, 31.71it/s]"
     ]
    },
    {
     "name": "stdout",
     "output_type": "stream",
     "text": [
      "⚠️ Error al transformar mandalay_2_21_005.jpg: Expected x_min for bbox [-2.610013e-04  4.439815e-01  1.044270e-01  8.060185e-01  1.000000e+00] to be in the range [0.0, 1.0], got -0.0002610012888908386.\n"
     ]
    },
    {
     "name": "stderr",
     "output_type": "stream",
     "text": [
      "Transformando imágenes:  51%|█████     | 6099/12000 [03:16<03:48, 25.84it/s]"
     ]
    },
    {
     "name": "stdout",
     "output_type": "stream",
     "text": [
      "⚠️ Error al transformar naypyitaw_2_9_076.jpg: Expected x_min for bbox [-2.5999919e-04  3.6481500e-01  4.0886000e-02  6.1666703e-01\n",
      "  3.0000000e+00] to be in the range [0.0, 1.0], got -0.00025999918580055237.\n"
     ]
    },
    {
     "name": "stderr",
     "output_type": "stream",
     "text": [
      "Transformando imágenes:  51%|█████▏    | 6172/12000 [03:19<04:13, 22.97it/s]"
     ]
    },
    {
     "name": "stdout",
     "output_type": "stream",
     "text": [
      "⚠️ Error al transformar mandalay_2_15_053.jpg: Expected x_min for bbox [-2.6049837e-04  4.1666704e-01  7.4218497e-02  7.1111101e-01\n",
      "  2.0000000e+00] to be in the range [0.0, 1.0], got -0.00026049837470054626.\n"
     ]
    },
    {
     "name": "stderr",
     "output_type": "stream",
     "text": [
      "Transformando imágenes:  52%|█████▏    | 6250/12000 [03:22<03:02, 31.47it/s]"
     ]
    },
    {
     "name": "stdout",
     "output_type": "stream",
     "text": [
      "⚠️ Error al transformar mandalay_1_121_048.jpg: Expected x_min for bbox [-2.6099943e-04  3.4861150e-01  5.3384997e-02  5.1064849e-01\n",
      "  4.0000000e+00] to be in the range [0.0, 1.0], got -0.0002609994262456894.\n",
      "⚠️ Error al transformar mandalay_2_19_078.jpg: Expected x_min for bbox [-2.6100129e-04  6.0786998e-01  1.0442700e-01  8.5509205e-01\n",
      "  1.0000000e+00] to be in the range [0.0, 1.0], got -0.0002610012888908386.\n"
     ]
    },
    {
     "name": "stderr",
     "output_type": "stream",
     "text": [
      "Transformando imágenes:  52%|█████▏    | 6254/12000 [03:22<02:52, 33.22it/s]"
     ]
    },
    {
     "name": "stdout",
     "output_type": "stream",
     "text": [
      "⚠️ Error al transformar mandalay_1_121_055.jpg: Expected x_min for bbox [-2.6099943e-04  3.4861150e-01  5.3384997e-02  5.1064849e-01\n",
      "  4.0000000e+00] to be in the range [0.0, 1.0], got -0.0002609994262456894.\n"
     ]
    },
    {
     "name": "stderr",
     "output_type": "stream",
     "text": [
      "Transformando imágenes:  52%|█████▏    | 6284/12000 [03:23<03:00, 31.72it/s]"
     ]
    },
    {
     "name": "stdout",
     "output_type": "stream",
     "text": [
      "⚠️ Error al transformar mandalay_2_121_070.jpg: Expected x_min for bbox [-4.991889e-07  5.611110e-01  1.041665e-01  9.111110e-01  2.000000e+00] to be in the range [0.0, 1.0], got -4.991888999938965e-07.\n"
     ]
    },
    {
     "name": "stderr",
     "output_type": "stream",
     "text": [
      "Transformando imágenes:  53%|█████▎    | 6358/12000 [03:26<02:50, 33.16it/s]"
     ]
    },
    {
     "name": "stdout",
     "output_type": "stream",
     "text": [
      "⚠️ Error al transformar bago_rural_8_023.jpg: Expected x_min for bbox [-2.6000105e-04  4.9027801e-01  3.9843999e-02  6.8935204e-01\n",
      "  2.0000000e+00] to be in the range [0.0, 1.0], got -0.0002600010484457016.\n"
     ]
    },
    {
     "name": "stderr",
     "output_type": "stream",
     "text": [
      "Transformando imágenes:  53%|█████▎    | 6373/12000 [03:27<03:59, 23.49it/s]"
     ]
    },
    {
     "name": "stdout",
     "output_type": "stream",
     "text": [
      "⚠️ Error al transformar mandalay_2_38_060.jpg: Expected x_min for bbox [-2.6049837e-04  4.1018498e-01  1.0546850e-01  7.1388900e-01\n",
      "  2.0000000e+00] to be in the range [0.0, 1.0], got -0.00026049837470054626.\n"
     ]
    },
    {
     "name": "stderr",
     "output_type": "stream",
     "text": [
      "Transformando imágenes:  53%|█████▎    | 6396/12000 [03:28<03:29, 26.78it/s]"
     ]
    },
    {
     "name": "stdout",
     "output_type": "stream",
     "text": [
      "⚠️ Error al transformar mandalay_2_18_026.jpg: Expected x_min for bbox [-2.6100129e-04  4.1250002e-01  1.3463500e-01  7.6713002e-01\n",
      "  1.0000000e+00] to be in the range [0.0, 1.0], got -0.0002610012888908386.\n"
     ]
    },
    {
     "name": "stderr",
     "output_type": "stream",
     "text": [
      "Transformando imágenes:  54%|█████▎    | 6444/12000 [03:31<03:58, 23.33it/s]"
     ]
    },
    {
     "name": "stdout",
     "output_type": "stream",
     "text": [
      "⚠️ Error al transformar mandalay_2_7_022.jpg: Expected x_min for bbox [-2.6049837e-04  5.6388855e-01  6.7968503e-02  7.2870350e-01\n",
      "  2.0000000e+00] to be in the range [0.0, 1.0], got -0.00026049837470054626.\n"
     ]
    },
    {
     "name": "stderr",
     "output_type": "stream",
     "text": [
      "Transformando imágenes:  54%|█████▍    | 6469/12000 [03:32<03:21, 27.49it/s]"
     ]
    },
    {
     "name": "stdout",
     "output_type": "stream",
     "text": [
      "⚠️ Error al transformar mandalay_2_188_008.jpg: Expected x_min for bbox [-5.0105155e-07  5.7407397e-01  5.3124502e-02  7.5185198e-01\n",
      "  4.0000000e+00] to be in the range [0.0, 1.0], got -5.010515451431274e-07.\n"
     ]
    },
    {
     "name": "stderr",
     "output_type": "stream",
     "text": [
      "Transformando imágenes:  55%|█████▍    | 6549/12000 [03:34<02:37, 34.54it/s]"
     ]
    },
    {
     "name": "stdout",
     "output_type": "stream",
     "text": [
      "⚠️ Error al transformar bago_urban_12_083.jpg: Expected x_min for bbox [-2.6000105e-04  5.3518546e-01  5.2344002e-02  7.1851850e-01\n",
      "  4.0000000e+00] to be in the range [0.0, 1.0], got -0.0002600010484457016.\n"
     ]
    },
    {
     "name": "stderr",
     "output_type": "stream",
     "text": [
      "Transformando imágenes:  55%|█████▍    | 6578/12000 [03:35<02:48, 32.21it/s]"
     ]
    },
    {
     "name": "stdout",
     "output_type": "stream",
     "text": [
      "⚠️ Error al transformar mandalay_1_118_027.jpg: Expected x_min for bbox [-2.6050024e-04  2.2499952e-01  3.6718503e-02  3.6574051e-01\n",
      "  2.0000000e+00] to be in the range [0.0, 1.0], got -0.0002605002373456955.\n"
     ]
    },
    {
     "name": "stderr",
     "output_type": "stream",
     "text": [
      "Transformando imágenes:  55%|█████▌    | 6611/12000 [03:36<02:13, 40.45it/s]"
     ]
    },
    {
     "name": "stdout",
     "output_type": "stream",
     "text": [
      "⚠️ Error al transformar mandalay_1_2_008.jpg: Expected x_min for bbox [-2.605021e-04  5.347220e-01  8.671850e-02  7.800920e-01  2.000000e+00] to be in the range [0.0, 1.0], got -0.0002605020999908447.\n"
     ]
    },
    {
     "name": "stderr",
     "output_type": "stream",
     "text": [
      "Transformando imágenes:  55%|█████▌    | 6642/12000 [03:37<02:36, 34.34it/s]"
     ]
    },
    {
     "name": "stdout",
     "output_type": "stream",
     "text": [
      "⚠️ Error al transformar mandalay_2_178_081.jpg: Expected x_min for bbox [-2.610013e-04  5.282410e-01  8.567700e-02  7.995370e-01  4.000000e+00] to be in the range [0.0, 1.0], got -0.0002610012888908386.\n"
     ]
    },
    {
     "name": "stderr",
     "output_type": "stream",
     "text": [
      "Transformando imágenes:  56%|█████▋    | 6754/12000 [03:41<02:36, 33.53it/s]"
     ]
    },
    {
     "name": "stdout",
     "output_type": "stream",
     "text": [
      "⚠️ Error al transformar bago_urban_61_048.jpg: Expected x_min for bbox [-2.6050024e-04  4.9768549e-01  3.5676502e-02  6.0787052e-01\n",
      "  2.0000000e+00] to be in the range [0.0, 1.0], got -0.0002605002373456955.\n"
     ]
    },
    {
     "name": "stderr",
     "output_type": "stream",
     "text": [
      "Transformando imágenes:  57%|█████▋    | 6894/12000 [03:46<02:40, 31.87it/s]"
     ]
    },
    {
     "name": "stdout",
     "output_type": "stream",
     "text": [
      "⚠️ Error al transformar mandalay_2_27_067.jpg: Expected x_min for bbox [-4.9918890e-07  5.4675949e-01  1.0416650e-01  8.3657455e-01\n",
      "  2.0000000e+00] to be in the range [0.0, 1.0], got -4.991888999938965e-07.\n",
      "⚠️ Error al transformar mandalay_2_34_010.jpg: Expected x_min for bbox [-2.605021e-04  5.527780e-01  8.880250e-02  8.472220e-01  2.000000e+00] to be in the range [0.0, 1.0], got -0.0002605020999908447.\n",
      "⚠️ Error al transformar mandalay_2_4_083.jpg: Expected x_min for bbox [-4.9918890e-07  5.6666648e-01  5.9374500e-02  7.5740755e-01\n",
      "  2.0000000e+00] to be in the range [0.0, 1.0], got -4.991888999938965e-07.\n"
     ]
    },
    {
     "name": "stderr",
     "output_type": "stream",
     "text": [
      "Transformando imágenes:  58%|█████▊    | 6916/12000 [03:46<02:38, 32.12it/s]"
     ]
    },
    {
     "name": "stdout",
     "output_type": "stream",
     "text": [
      "⚠️ Error al transformar mandalay_2_48_056.jpg: Expected x_min for bbox [-2.6049465e-04  6.5370405e-01  1.4296851e-01  1.0000000e+00\n",
      "  2.0000000e+00] to be in the range [0.0, 1.0], got -0.0002604946494102478.\n"
     ]
    },
    {
     "name": "stderr",
     "output_type": "stream",
     "text": [
      "Transformando imágenes:  58%|█████▊    | 6929/12000 [03:47<02:15, 37.43it/s]"
     ]
    },
    {
     "name": "stdout",
     "output_type": "stream",
     "text": [
      "⚠️ Error al transformar mandalay_2_5_054.jpg: Expected x_min for bbox [-4.9918890e-07  6.7268503e-01  1.3541651e-01  9.9953699e-01\n",
      "  2.0000000e+00] to be in the range [0.0, 1.0], got -4.991888999938965e-07.\n",
      "⚠️ Error al transformar bago_highway_25_002.jpg: Expected x_min for bbox [-2.599992e-04  6.337965e-01  8.463600e-02  8.921295e-01  2.000000e+00] to be in the range [0.0, 1.0], got -0.00025999918580055237.\n"
     ]
    },
    {
     "name": "stderr",
     "output_type": "stream",
     "text": [
      "Transformando imágenes:  58%|█████▊    | 6939/12000 [03:47<02:04, 40.54it/s]"
     ]
    },
    {
     "name": "stdout",
     "output_type": "stream",
     "text": [
      "⚠️ Error al transformar mandalay_1_121_062.jpg: Expected x_min for bbox [-2.6099943e-04  3.4861150e-01  5.3384997e-02  5.1064849e-01\n",
      "  4.0000000e+00] to be in the range [0.0, 1.0], got -0.0002609994262456894.\n"
     ]
    },
    {
     "name": "stderr",
     "output_type": "stream",
     "text": [
      "Transformando imágenes:  58%|█████▊    | 6956/12000 [03:48<02:41, 31.20it/s]"
     ]
    },
    {
     "name": "stdout",
     "output_type": "stream",
     "text": [
      "⚠️ Error al transformar mandalay_2_24_021.jpg: Expected x_min for bbox [-2.605021e-04  5.166660e-01  8.671850e-02  7.462960e-01  1.000000e+00] to be in the range [0.0, 1.0], got -0.0002605020999908447.\n"
     ]
    },
    {
     "name": "stderr",
     "output_type": "stream",
     "text": [
      "Transformando imágenes:  59%|█████▉    | 7087/12000 [03:52<02:25, 33.86it/s]"
     ]
    },
    {
     "name": "stdout",
     "output_type": "stream",
     "text": [
      "⚠️ Error al transformar mandalay_2_28_043.jpg: Expected x_min for bbox [-2.5999919e-04  5.9212899e-01  1.2109400e-01  8.4675896e-01\n",
      "  1.0000000e+00] to be in the range [0.0, 1.0], got -0.00025999918580055237.\n"
     ]
    },
    {
     "name": "stderr",
     "output_type": "stream",
     "text": [
      "Transformando imágenes:  59%|█████▉    | 7127/12000 [03:53<02:05, 38.78it/s]"
     ]
    },
    {
     "name": "stdout",
     "output_type": "stream",
     "text": [
      "⚠️ Error al transformar bago_rural_26_096.jpg: Expected x_min for bbox [-2.5999919e-04  4.3055597e-01  8.3593994e-02  7.7685201e-01\n",
      "  2.0000000e+00] to be in the range [0.0, 1.0], got -0.00025999918580055237.\n"
     ]
    },
    {
     "name": "stderr",
     "output_type": "stream",
     "text": [
      "Transformando imágenes:  60%|█████▉    | 7155/12000 [03:54<02:04, 38.90it/s]"
     ]
    },
    {
     "name": "stdout",
     "output_type": "stream",
     "text": [
      "⚠️ Error al transformar mandalay_1_121_099.jpg: Expected x_min for bbox [-4.9918890e-07  3.4953752e-01  5.4166500e-02  5.0972253e-01\n",
      "  4.0000000e+00] to be in the range [0.0, 1.0], got -4.991888999938965e-07.\n"
     ]
    },
    {
     "name": "stderr",
     "output_type": "stream",
     "text": [
      "Transformando imágenes:  60%|██████    | 7207/12000 [03:58<03:03, 26.13it/s]"
     ]
    },
    {
     "name": "stdout",
     "output_type": "stream",
     "text": [
      "⚠️ Error al transformar mandalay_1_89_060.jpg: Expected x_min for bbox [-2.605021e-04  5.152775e-01  1.367185e-01  9.995365e-01  3.000000e+00] to be in the range [0.0, 1.0], got -0.0002605020999908447.\n"
     ]
    },
    {
     "name": "stderr",
     "output_type": "stream",
     "text": [
      "Transformando imágenes:  62%|██████▏   | 7434/12000 [04:06<02:34, 29.50it/s]"
     ]
    },
    {
     "name": "stdout",
     "output_type": "stream",
     "text": [
      "⚠️ Error al transformar mandalay_1_121_070.jpg: Expected x_min for bbox [-2.6099943e-04  3.4861150e-01  5.3384997e-02  5.1064849e-01\n",
      "  4.0000000e+00] to be in the range [0.0, 1.0], got -0.0002609994262456894.\n"
     ]
    },
    {
     "name": "stderr",
     "output_type": "stream",
     "text": [
      "Transformando imágenes:  62%|██████▏   | 7481/12000 [04:07<02:07, 35.50it/s]"
     ]
    },
    {
     "name": "stdout",
     "output_type": "stream",
     "text": [
      "⚠️ Error al transformar bago_highway_15_080.jpg: Expected x_min for bbox [-2.5999546e-04  6.1296248e-01  1.8984400e-01  9.9999952e-01\n",
      "  3.0000000e+00] to be in the range [0.0, 1.0], got -0.0002599954605102539.\n"
     ]
    },
    {
     "name": "stderr",
     "output_type": "stream",
     "text": [
      "Transformando imágenes:  64%|██████▎   | 7633/12000 [04:14<02:38, 27.47it/s]"
     ]
    },
    {
     "name": "stdout",
     "output_type": "stream",
     "text": [
      "⚠️ Error al transformar mandalay_2_63_079.jpg: Expected x_min for bbox [-2.6000291e-04  4.3703699e-01  1.0859400e-01  7.9074097e-01\n",
      "  2.0000000e+00] to be in the range [0.0, 1.0], got -0.00026000291109085083.\n"
     ]
    },
    {
     "name": "stderr",
     "output_type": "stream",
     "text": [
      "Transformando imágenes:  64%|██████▍   | 7669/12000 [04:15<02:59, 24.11it/s]"
     ]
    },
    {
     "name": "stdout",
     "output_type": "stream",
     "text": [
      "⚠️ Error al transformar mandalay_1_121_051.jpg: Expected x_min for bbox [-2.6099943e-04  3.4861150e-01  5.3384997e-02  5.1064849e-01\n",
      "  4.0000000e+00] to be in the range [0.0, 1.0], got -0.0002609994262456894.\n",
      "⚠️ Error al transformar mandalay_1_52_061.jpg: Expected x_min for bbox [-4.9918890e-07  5.1712954e-01  7.2916500e-02  7.5509250e-01\n",
      "  2.0000000e+00] to be in the range [0.0, 1.0], got -4.991888999938965e-07.\n"
     ]
    },
    {
     "name": "stderr",
     "output_type": "stream",
     "text": [
      "Transformando imágenes:  64%|██████▍   | 7714/12000 [04:18<02:49, 25.34it/s]"
     ]
    },
    {
     "name": "stdout",
     "output_type": "stream",
     "text": [
      "⚠️ Error al transformar mandalay_2_24_076.jpg: Expected x_min for bbox [-2.6049837e-04  5.4398149e-01  1.0546850e-01  8.3009249e-01\n",
      "  1.0000000e+00] to be in the range [0.0, 1.0], got -0.00026049837470054626.\n"
     ]
    },
    {
     "name": "stderr",
     "output_type": "stream",
     "text": [
      "Transformando imágenes:  65%|██████▍   | 7750/12000 [04:20<02:26, 29.06it/s]"
     ]
    },
    {
     "name": "stdout",
     "output_type": "stream",
     "text": [
      "⚠️ Error al transformar mandalay_2_7_086.jpg: Expected x_min for bbox [-2.6050210e-04  6.8379653e-01  1.9817650e-01  9.9953747e-01\n",
      "  4.0000000e+00] to be in the range [0.0, 1.0], got -0.0002605020999908447.\n"
     ]
    },
    {
     "name": "stderr",
     "output_type": "stream",
     "text": [
      "Transformando imágenes:  65%|██████▍   | 7763/12000 [04:20<02:20, 30.22it/s]"
     ]
    },
    {
     "name": "stdout",
     "output_type": "stream",
     "text": [
      "⚠️ Error al transformar bago_urban_10_093.jpg: Expected x_min for bbox [-2.6050024e-04  4.9814802e-01  3.2552503e-02  6.0185200e-01\n",
      "  2.0000000e+00] to be in the range [0.0, 1.0], got -0.0002605002373456955.\n"
     ]
    },
    {
     "name": "stderr",
     "output_type": "stream",
     "text": [
      "Transformando imágenes:  65%|██████▍   | 7794/12000 [04:21<01:52, 37.49it/s]"
     ]
    },
    {
     "name": "stdout",
     "output_type": "stream",
     "text": [
      "⚠️ Error al transformar mandalay_2_19_075.jpg: Expected x_min for bbox [-2.6100129e-04  6.8194449e-01  1.4817700e-01  9.9953747e-01\n",
      "  1.0000000e+00] to be in the range [0.0, 1.0], got -0.0002610012888908386.\n"
     ]
    },
    {
     "name": "stderr",
     "output_type": "stream",
     "text": [
      "Transformando imágenes:  65%|██████▍   | 7799/12000 [04:21<01:49, 38.49it/s]"
     ]
    },
    {
     "name": "stdout",
     "output_type": "stream",
     "text": [
      "⚠️ Error al transformar mandalay_2_133_074.jpg: Expected x_min for bbox [-4.9918890e-07  4.5277804e-01  1.2916651e-01  9.0463001e-01\n",
      "  2.0000000e+00] to be in the range [0.0, 1.0], got -4.991888999938965e-07.\n"
     ]
    },
    {
     "name": "stderr",
     "output_type": "stream",
     "text": [
      "Transformando imágenes:  65%|██████▌   | 7853/12000 [04:23<02:29, 27.74it/s]"
     ]
    },
    {
     "name": "stdout",
     "output_type": "stream",
     "text": [
      "⚠️ Error al transformar mandalay_1_52_059.jpg: Expected x_min for bbox [-2.6099756e-04  5.1712954e-01  7.8384995e-02  7.5509250e-01\n",
      "  2.0000000e+00] to be in the range [0.0, 1.0], got -0.00026099756360054016.\n",
      "⚠️ Error al transformar mandalay_1_89_054.jpg: Expected x_min for bbox [-2.6049465e-04  5.1527750e-01  1.4505249e-01  9.9953651e-01\n",
      "  3.0000000e+00] to be in the range [0.0, 1.0], got -0.0002604946494102478.\n"
     ]
    },
    {
     "name": "stderr",
     "output_type": "stream",
     "text": [
      "Transformando imágenes:  67%|██████▋   | 8072/12000 [04:32<01:40, 39.19it/s]"
     ]
    },
    {
     "name": "stdout",
     "output_type": "stream",
     "text": [
      "⚠️ Error al transformar mandalay_2_15_009.jpg: Expected x_min for bbox [-2.610013e-04  4.134255e-01  1.221350e-01  7.050925e-01  2.000000e+00] to be in the range [0.0, 1.0], got -0.0002610012888908386.\n"
     ]
    },
    {
     "name": "stderr",
     "output_type": "stream",
     "text": [
      "Transformando imágenes:  68%|██████▊   | 8185/12000 [04:36<02:01, 31.30it/s]"
     ]
    },
    {
     "name": "stdout",
     "output_type": "stream",
     "text": [
      "⚠️ Error al transformar naypyitaw_2_6_015.jpg: Expected x_min for bbox [-2.6000105e-04  3.1990701e-01  3.8801998e-02  4.7453701e-01\n",
      "  2.0000000e+00] to be in the range [0.0, 1.0], got -0.0002600010484457016.\n"
     ]
    },
    {
     "name": "stderr",
     "output_type": "stream",
     "text": [
      "Transformando imágenes:  68%|██████▊   | 8201/12000 [04:37<02:30, 25.22it/s]"
     ]
    },
    {
     "name": "stdout",
     "output_type": "stream",
     "text": [
      "⚠️ Error al transformar mandalay_1_121_091.jpg: Expected x_min for bbox [-2.6099943e-04  3.4861150e-01  5.3384997e-02  5.1064849e-01\n",
      "  4.0000000e+00] to be in the range [0.0, 1.0], got -0.0002609994262456894.\n"
     ]
    },
    {
     "name": "stderr",
     "output_type": "stream",
     "text": [
      "Transformando imágenes:  69%|██████▊   | 8245/12000 [04:38<02:11, 28.64it/s]"
     ]
    },
    {
     "name": "stdout",
     "output_type": "stream",
     "text": [
      "⚠️ Error al transformar yangon_ii_5_082.jpg: Expected x_min for bbox [-2.6050210e-04  7.6851851e-01  1.4192650e-01  9.9999946e-01\n",
      "  2.0000000e+00] to be in the range [0.0, 1.0], got -0.0002605020999908447.\n",
      "⚠️ Error al transformar mandalay_2_4_032.jpg: Expected x_min for bbox [-4.9918890e-07  6.6898096e-01  1.2812451e-01  9.9953699e-01\n",
      "  3.0000000e+00] to be in the range [0.0, 1.0], got -4.991888999938965e-07.\n"
     ]
    },
    {
     "name": "stderr",
     "output_type": "stream",
     "text": [
      "Transformando imágenes:  69%|██████▉   | 8283/12000 [04:40<01:58, 31.28it/s]"
     ]
    },
    {
     "name": "stdout",
     "output_type": "stream",
     "text": [
      "⚠️ Error al transformar mandalay_2_39_086.jpg: Expected x_min for bbox [-2.6000105e-04  3.6435151e-01  3.9843999e-02  5.2453649e-01\n",
      "  1.0000000e+00] to be in the range [0.0, 1.0], got -0.0002600010484457016.\n"
     ]
    },
    {
     "name": "stderr",
     "output_type": "stream",
     "text": [
      "Transformando imágenes:  69%|██████▉   | 8297/12000 [04:41<04:06, 15.04it/s]"
     ]
    },
    {
     "name": "stdout",
     "output_type": "stream",
     "text": [
      "⚠️ Error al transformar mandalay_2_140_065.jpg: Expected x_min for bbox [-2.605021e-04  5.314815e-01  8.151050e-02  7.907405e-01  2.000000e+00] to be in the range [0.0, 1.0], got -0.0002605020999908447.\n"
     ]
    },
    {
     "name": "stderr",
     "output_type": "stream",
     "text": [
      "Transformando imágenes:  70%|███████   | 8402/12000 [04:48<02:00, 29.94it/s]"
     ]
    },
    {
     "name": "stdout",
     "output_type": "stream",
     "text": [
      "⚠️ Error al transformar mandalay_2_32_044.jpg: Expected x_min for bbox [-2.5999919e-04  6.3703752e-01  1.0130200e-01  9.7222245e-01\n",
      "  1.0000000e+00] to be in the range [0.0, 1.0], got -0.00025999918580055237.\n"
     ]
    },
    {
     "name": "stderr",
     "output_type": "stream",
     "text": [
      "Transformando imágenes:  70%|███████   | 8443/12000 [04:49<01:39, 35.66it/s]"
     ]
    },
    {
     "name": "stdout",
     "output_type": "stream",
     "text": [
      "⚠️ Error al transformar mandalay_1_131_002.jpg: Expected x_min for bbox [-2.6050210e-04  4.9074048e-01  2.8046849e-01  9.9999946e-01\n",
      "  1.0000000e+00] to be in the range [0.0, 1.0], got -0.0002605020999908447.\n",
      "⚠️ Error al transformar mandalay_2_32_011.jpg: Expected x_min for bbox [-5.0105155e-07  5.6851852e-01  5.3124502e-02  6.8148148e-01\n",
      "  2.0000000e+00] to be in the range [0.0, 1.0], got -5.010515451431274e-07.\n",
      "⚠️ Error al transformar mandalay_2_28_053.jpg: Expected x_min for bbox [-2.6050210e-04  6.1064851e-01  1.2421850e-01  9.0046346e-01\n",
      "  2.0000000e+00] to be in the range [0.0, 1.0], got -0.0002605020999908447.\n"
     ]
    },
    {
     "name": "stderr",
     "output_type": "stream",
     "text": [
      "Transformando imágenes:  71%|███████   | 8517/12000 [04:52<03:26, 16.85it/s]"
     ]
    },
    {
     "name": "stdout",
     "output_type": "stream",
     "text": [
      "⚠️ Error al transformar mandalay_1_89_003.jpg: Expected x_min for bbox [-2.6050210e-04  5.3703749e-01  1.3880250e-01  1.0000005e+00\n",
      "  3.0000000e+00] to be in the range [0.0, 1.0], got -0.0002605020999908447.\n"
     ]
    },
    {
     "name": "stderr",
     "output_type": "stream",
     "text": [
      "Transformando imágenes:  71%|███████▏  | 8558/12000 [04:54<01:28, 38.75it/s]"
     ]
    },
    {
     "name": "stdout",
     "output_type": "stream",
     "text": [
      "⚠️ Error al transformar mandalay_2_32_040.jpg: Expected x_min for bbox [-4.9918890e-07  6.1666650e-01  7.2916500e-02  8.8518554e-01\n",
      "  2.0000000e+00] to be in the range [0.0, 1.0], got -4.991888999938965e-07.\n"
     ]
    },
    {
     "name": "stderr",
     "output_type": "stream",
     "text": [
      "Transformando imágenes:  72%|███████▏  | 8624/12000 [04:56<01:47, 31.51it/s]"
     ]
    },
    {
     "name": "stdout",
     "output_type": "stream",
     "text": [
      "⚠️ Error al transformar mandalay_1_121_093.jpg: Expected x_min for bbox [-2.6099943e-04  3.5000050e-01  5.3384997e-02  5.1111150e-01\n",
      "  4.0000000e+00] to be in the range [0.0, 1.0], got -0.0002609994262456894.\n"
     ]
    },
    {
     "name": "stderr",
     "output_type": "stream",
     "text": [
      "Transformando imágenes:  72%|███████▏  | 8644/12000 [04:58<02:40, 20.88it/s]"
     ]
    },
    {
     "name": "stdout",
     "output_type": "stream",
     "text": [
      "⚠️ Error al transformar mandalay_1_89_011.jpg: Expected x_min for bbox [-2.6050210e-04  5.1666653e-01  1.3880250e-01  9.9999952e-01\n",
      "  3.0000000e+00] to be in the range [0.0, 1.0], got -0.0002605020999908447.\n"
     ]
    },
    {
     "name": "stderr",
     "output_type": "stream",
     "text": [
      "Transformando imágenes:  72%|███████▏  | 8668/12000 [04:59<01:56, 28.62it/s]"
     ]
    },
    {
     "name": "stdout",
     "output_type": "stream",
     "text": [
      "⚠️ Error al transformar mandalay_2_24_019.jpg: Expected x_min for bbox [-5.0291419e-07  5.3518552e-01  8.5416496e-02  8.2037050e-01\n",
      "  2.0000000e+00] to be in the range [0.0, 1.0], got -5.029141902923584e-07.\n"
     ]
    },
    {
     "name": "stderr",
     "output_type": "stream",
     "text": [
      "Transformando imágenes:  73%|███████▎  | 8763/12000 [05:03<02:18, 23.42it/s]"
     ]
    },
    {
     "name": "stdout",
     "output_type": "stream",
     "text": [
      "⚠️ Error al transformar mandalay_1_121_039.jpg: Expected x_min for bbox [-2.6099943e-04  3.4768549e-01  5.3384997e-02  5.0972247e-01\n",
      "  4.0000000e+00] to be in the range [0.0, 1.0], got -0.0002609994262456894.\n"
     ]
    },
    {
     "name": "stderr",
     "output_type": "stream",
     "text": [
      "Transformando imágenes:  73%|███████▎  | 8784/12000 [05:04<02:08, 25.11it/s]"
     ]
    },
    {
     "name": "stdout",
     "output_type": "stream",
     "text": [
      "⚠️ Error al transformar mandalay_2_6_046.jpg: Expected x_min for bbox [-2.6050210e-04  6.4814794e-01  1.3880250e-01  1.0000000e+00\n",
      "  2.0000000e+00] to be in the range [0.0, 1.0], got -0.0002605020999908447.\n"
     ]
    },
    {
     "name": "stderr",
     "output_type": "stream",
     "text": [
      "Transformando imágenes:  73%|███████▎  | 8795/12000 [05:05<02:06, 25.38it/s]"
     ]
    },
    {
     "name": "stdout",
     "output_type": "stream",
     "text": [
      "⚠️ Error al transformar mandalay_2_3_007.jpg: Expected x_min for bbox [-2.6049837e-04  6.2453699e-01  1.0546850e-01  9.2361104e-01\n",
      "  2.0000000e+00] to be in the range [0.0, 1.0], got -0.00026049837470054626.\n"
     ]
    },
    {
     "name": "stderr",
     "output_type": "stream",
     "text": [
      "Transformando imágenes:  74%|███████▍  | 8862/12000 [05:07<01:45, 29.87it/s]"
     ]
    },
    {
     "name": "stdout",
     "output_type": "stream",
     "text": [
      "⚠️ Error al transformar mandalay_2_21_014.jpg: Expected x_min for bbox [-2.6050024e-04  3.6527753e-01  4.4010498e-02  4.7546250e-01\n",
      "  2.0000000e+00] to be in the range [0.0, 1.0], got -0.0002605002373456955.\n"
     ]
    },
    {
     "name": "stderr",
     "output_type": "stream",
     "text": [
      "Transformando imágenes:  74%|███████▍  | 8914/12000 [05:09<01:25, 36.09it/s]"
     ]
    },
    {
     "name": "stdout",
     "output_type": "stream",
     "text": [
      "⚠️ Error al transformar mandalay_2_12_012.jpg: Expected x_min for bbox [-5.0291419e-07  5.2731454e-01  9.0624496e-02  7.8564751e-01\n",
      "  2.0000000e+00] to be in the range [0.0, 1.0], got -5.029141902923584e-07.\n"
     ]
    },
    {
     "name": "stderr",
     "output_type": "stream",
     "text": [
      "Transformando imágenes:  75%|███████▍  | 8969/12000 [05:11<01:31, 33.15it/s]"
     ]
    },
    {
     "name": "stdout",
     "output_type": "stream",
     "text": [
      "⚠️ Error al transformar mandalay_2_18_056.jpg: Expected x_min for bbox [-2.6049837e-04  4.1527748e-01  1.1067650e-01  7.0879650e-01\n",
      "  1.0000000e+00] to be in the range [0.0, 1.0], got -0.00026049837470054626.\n"
     ]
    },
    {
     "name": "stderr",
     "output_type": "stream",
     "text": [
      "Transformando imágenes:  75%|███████▍  | 8986/12000 [05:11<01:24, 35.73it/s]"
     ]
    },
    {
     "name": "stdout",
     "output_type": "stream",
     "text": [
      "⚠️ Error al transformar mandalay_1_198_060.jpg: Expected x_min for bbox [-2.6100129e-04  4.1620350e-01  1.8567699e-01  7.7268445e-01\n",
      "  3.0000000e+00] to be in the range [0.0, 1.0], got -0.0002610012888908386.\n"
     ]
    },
    {
     "name": "stderr",
     "output_type": "stream",
     "text": [
      "Transformando imágenes:  76%|███████▌  | 9088/12000 [05:15<02:37, 18.50it/s]"
     ]
    },
    {
     "name": "stdout",
     "output_type": "stream",
     "text": [
      "⚠️ Error al transformar mandalay_2_21_032.jpg: Expected x_min for bbox [-2.6049837e-04  3.6481500e-01  7.5260505e-02  5.3518498e-01\n",
      "  1.0000000e+00] to be in the range [0.0, 1.0], got -0.00026049837470054626.\n"
     ]
    },
    {
     "name": "stderr",
     "output_type": "stream",
     "text": [
      "Transformando imágenes:  77%|███████▋  | 9226/12000 [05:20<01:24, 32.77it/s]"
     ]
    },
    {
     "name": "stdout",
     "output_type": "stream",
     "text": [
      "⚠️ Error al transformar mandalay_2_28_044.jpg: Expected x_min for bbox [-2.600029e-04  6.523150e-01  1.085940e-01  9.995370e-01  1.000000e+00] to be in the range [0.0, 1.0], got -0.00026000291109085083.\n"
     ]
    },
    {
     "name": "stderr",
     "output_type": "stream",
     "text": [
      "Transformando imágenes:  77%|███████▋  | 9289/12000 [05:22<01:26, 31.34it/s]"
     ]
    },
    {
     "name": "stdout",
     "output_type": "stream",
     "text": [
      "⚠️ Error al transformar mandalay_2_60_075.jpg: Expected x_min for bbox [-4.991889e-07  6.078705e-01  1.406245e-01  9.995375e-01  1.000000e+00] to be in the range [0.0, 1.0], got -4.991888999938965e-07.\n"
     ]
    },
    {
     "name": "stderr",
     "output_type": "stream",
     "text": [
      "Transformando imágenes:  78%|███████▊  | 9307/12000 [05:23<01:53, 23.77it/s]"
     ]
    },
    {
     "name": "stdout",
     "output_type": "stream",
     "text": [
      "⚠️ Error al transformar mandalay_2_55_012.jpg: Expected x_min for bbox [-2.6100129e-04  6.8009305e-01  1.9088501e-01  9.9953699e-01\n",
      "  2.0000000e+00] to be in the range [0.0, 1.0], got -0.0002610012888908386.\n"
     ]
    },
    {
     "name": "stderr",
     "output_type": "stream",
     "text": [
      "Transformando imágenes:  78%|███████▊  | 9315/12000 [05:23<01:29, 29.92it/s]"
     ]
    },
    {
     "name": "stdout",
     "output_type": "stream",
     "text": [
      "⚠️ Error al transformar mandalay_1_89_026.jpg: Expected x_min for bbox [-2.6050210e-04  5.0925952e-01  1.3776051e-01  1.0000005e+00\n",
      "  3.0000000e+00] to be in the range [0.0, 1.0], got -0.0002605020999908447.\n"
     ]
    },
    {
     "name": "stderr",
     "output_type": "stream",
     "text": [
      "Transformando imágenes:  78%|███████▊  | 9335/12000 [05:24<01:18, 33.99it/s]"
     ]
    },
    {
     "name": "stdout",
     "output_type": "stream",
     "text": [
      "⚠️ Error al transformar nyaungu_rural_50_042.jpg: Expected x_min for bbox [-2.60498375e-04  3.78703505e-01  1.11718506e-01  7.47222543e-01\n",
      "  1.00000000e+00] to be in the range [0.0, 1.0], got -0.00026049837470054626.\n"
     ]
    },
    {
     "name": "stderr",
     "output_type": "stream",
     "text": [
      "Transformando imágenes:  78%|███████▊  | 9394/12000 [05:26<02:04, 21.00it/s]"
     ]
    },
    {
     "name": "stdout",
     "output_type": "stream",
     "text": [
      "⚠️ Error al transformar mandalay_2_16_001.jpg: Expected x_min for bbox [-2.6050210e-04  6.3425899e-01  1.4921850e-01  9.8796296e-01\n",
      "  2.0000000e+00] to be in the range [0.0, 1.0], got -0.0002605020999908447.\n"
     ]
    },
    {
     "name": "stderr",
     "output_type": "stream",
     "text": [
      "Transformando imágenes:  78%|███████▊  | 9407/12000 [05:26<01:25, 30.30it/s]"
     ]
    },
    {
     "name": "stdout",
     "output_type": "stream",
     "text": [
      "⚠️ Error al transformar mandalay_2_30_053.jpg: Expected x_min for bbox [-2.6100129e-04  4.3518549e-01  9.1926999e-02  7.4629647e-01\n",
      "  2.0000000e+00] to be in the range [0.0, 1.0], got -0.0002610012888908386.\n",
      "⚠️ Error al transformar mandalay_2_63_089.jpg: Expected x_min for bbox [-2.5999546e-04  4.3194449e-01  1.3255200e-01  7.9027748e-01\n",
      "  1.0000000e+00] to be in the range [0.0, 1.0], got -0.0002599954605102539.\n"
     ]
    },
    {
     "name": "stderr",
     "output_type": "stream",
     "text": [
      "Transformando imágenes:  78%|███████▊  | 9416/12000 [05:27<02:30, 17.23it/s]"
     ]
    },
    {
     "name": "stdout",
     "output_type": "stream",
     "text": [
      "⚠️ Error al transformar mandalay_1_121_074.jpg: Expected x_min for bbox [-2.6099943e-04  3.4861150e-01  5.3384997e-02  5.1064849e-01\n",
      "  4.0000000e+00] to be in the range [0.0, 1.0], got -0.0002609994262456894.\n"
     ]
    },
    {
     "name": "stderr",
     "output_type": "stream",
     "text": [
      "Transformando imágenes:  80%|████████  | 9640/12000 [05:39<01:00, 39.07it/s]"
     ]
    },
    {
     "name": "stdout",
     "output_type": "stream",
     "text": [
      "⚠️ Error al transformar mandalay_1_121_046.jpg: Expected x_min for bbox [-2.6099943e-04  3.4768549e-01  5.3384997e-02  5.0972247e-01\n",
      "  4.0000000e+00] to be in the range [0.0, 1.0], got -0.0002609994262456894.\n"
     ]
    },
    {
     "name": "stderr",
     "output_type": "stream",
     "text": [
      "Transformando imágenes:  81%|████████▏ | 9775/12000 [05:43<01:24, 26.22it/s]"
     ]
    },
    {
     "name": "stdout",
     "output_type": "stream",
     "text": [
      "⚠️ Error al transformar nyaungu_urban_49_069.jpg: Expected x_min for bbox [-4.991889e-07  3.750000e-01  4.166650e-02  5.787040e-01  3.000000e+00] to be in the range [0.0, 1.0], got -4.991888999938965e-07.\n"
     ]
    },
    {
     "name": "stderr",
     "output_type": "stream",
     "text": [
      "Transformando imágenes:  83%|████████▎ | 9933/12000 [05:49<01:17, 26.72it/s]"
     ]
    },
    {
     "name": "stdout",
     "output_type": "stream",
     "text": [
      "⚠️ Error al transformar mandalay_1_121_077.jpg: Expected x_min for bbox [-2.6099943e-04  3.4861150e-01  5.3384997e-02  5.1064849e-01\n",
      "  4.0000000e+00] to be in the range [0.0, 1.0], got -0.0002609994262456894.\n"
     ]
    },
    {
     "name": "stderr",
     "output_type": "stream",
     "text": [
      "Transformando imágenes:  84%|████████▎ | 10023/12000 [05:52<00:52, 37.50it/s]"
     ]
    },
    {
     "name": "stdout",
     "output_type": "stream",
     "text": [
      "⚠️ Error al transformar mandalay_2_45_054.jpg: Expected x_min for bbox [-4.991889e-07  6.490740e-01  9.166650e-02  9.509260e-01  2.000000e+00] to be in the range [0.0, 1.0], got -4.991888999938965e-07.\n"
     ]
    },
    {
     "name": "stderr",
     "output_type": "stream",
     "text": [
      "Transformando imágenes:  84%|████████▎ | 10044/12000 [05:53<00:58, 33.71it/s]"
     ]
    },
    {
     "name": "stdout",
     "output_type": "stream",
     "text": [
      "⚠️ Error al transformar mandalay_2_64_089.jpg: Expected x_min for bbox [-2.60498375e-04  5.96758962e-01  1.11718506e-01  8.68054986e-01\n",
      "  1.00000000e+00] to be in the range [0.0, 1.0], got -0.00026049837470054626.\n"
     ]
    },
    {
     "name": "stderr",
     "output_type": "stream",
     "text": [
      "Transformando imágenes:  84%|████████▍ | 10081/12000 [05:54<01:02, 30.89it/s]"
     ]
    },
    {
     "name": "stdout",
     "output_type": "stream",
     "text": [
      "⚠️ Error al transformar nyaungu_urban_56_007.jpg: Expected x_min for bbox [-2.600029e-04  5.652775e-01  7.734400e-02  7.587965e-01  2.000000e+00] to be in the range [0.0, 1.0], got -0.00026000291109085083.\n"
     ]
    },
    {
     "name": "stderr",
     "output_type": "stream",
     "text": [
      "Transformando imágenes:  85%|████████▍ | 10160/12000 [05:58<00:54, 33.72it/s]"
     ]
    },
    {
     "name": "stdout",
     "output_type": "stream",
     "text": [
      "⚠️ Error al transformar mandalay_2_3_082.jpg: Expected x_min for bbox [-2.6049837e-04  6.3703650e-01  9.4010502e-02  9.5370346e-01\n",
      "  1.0000000e+00] to be in the range [0.0, 1.0], got -0.00026049837470054626.\n"
     ]
    },
    {
     "name": "stderr",
     "output_type": "stream",
     "text": [
      "Transformando imágenes:  85%|████████▍ | 10189/12000 [05:59<01:05, 27.72it/s]"
     ]
    },
    {
     "name": "stdout",
     "output_type": "stream",
     "text": [
      "⚠️ Error al transformar mandalay_2_15_030.jpg: Expected x_min for bbox [-2.6049465e-04  4.7407454e-01  1.8151051e-01  8.8333350e-01\n",
      "  2.0000000e+00] to be in the range [0.0, 1.0], got -0.0002604946494102478.\n"
     ]
    },
    {
     "name": "stderr",
     "output_type": "stream",
     "text": [
      "Transformando imágenes:  85%|████████▌ | 10219/12000 [06:00<00:53, 33.39it/s]"
     ]
    },
    {
     "name": "stdout",
     "output_type": "stream",
     "text": [
      "⚠️ Error al transformar bago_highway_31_099.jpg: Expected x_min for bbox [-2.5999546e-04  6.2916601e-01  1.3255200e-01  8.8379598e-01\n",
      "  3.0000000e+00] to be in the range [0.0, 1.0], got -0.0002599954605102539.\n",
      "⚠️ Error al transformar mandalay_2_34_084.jpg: Expected x_min for bbox [-2.6050024e-04  4.9212947e-01  3.2552503e-02  5.9861046e-01\n",
      "  1.0000000e+00] to be in the range [0.0, 1.0], got -0.0002605002373456955.\n",
      "⚠️ Error al transformar mandalay_1_89_065.jpg: Expected x_min for bbox [-4.991889e-07  5.152775e-01  1.479165e-01  9.995365e-01  3.000000e+00] to be in the range [0.0, 1.0], got -4.991888999938965e-07.\n"
     ]
    },
    {
     "name": "stderr",
     "output_type": "stream",
     "text": [
      "Transformando imágenes:  86%|████████▌ | 10273/12000 [06:02<00:48, 35.38it/s]"
     ]
    },
    {
     "name": "stdout",
     "output_type": "stream",
     "text": [
      "⚠️ Error al transformar bago_highway_24_063.jpg: Expected x_min for bbox [-2.6000291e-04  6.4675903e-01  1.8255201e-01  9.9953699e-01\n",
      "  2.0000000e+00] to be in the range [0.0, 1.0], got -0.00026000291109085083.\n",
      "⚠️ Error al transformar mandalay_1_89_049.jpg: Expected x_min for bbox [-2.605021e-04  5.148145e-01  1.419265e-01  9.999995e-01  3.000000e+00] to be in the range [0.0, 1.0], got -0.0002605020999908447.\n"
     ]
    },
    {
     "name": "stderr",
     "output_type": "stream",
     "text": [
      "Transformando imágenes:  86%|████████▌ | 10286/12000 [06:02<00:45, 37.91it/s]"
     ]
    },
    {
     "name": "stdout",
     "output_type": "stream",
     "text": [
      "⚠️ Error al transformar mandalay_2_45_037.jpg: Expected x_min for bbox [-2.610013e-04  6.162040e-01  9.088500e-02  8.708340e-01  2.000000e+00] to be in the range [0.0, 1.0], got -0.0002610012888908386.\n",
      "⚠️ Error al transformar mandalay_2_27_055.jpg: Expected x_min for bbox [-4.9918890e-07  5.8333397e-01  1.4166650e-01  9.5370400e-01\n",
      "  1.0000000e+00] to be in the range [0.0, 1.0], got -4.991888999938965e-07.\n",
      "⚠️ Error al transformar mandalay_2_24_010.jpg: Expected x_min for bbox [-4.9918890e-07  4.9537003e-01  4.1666500e-02  5.9907401e-01\n",
      "  2.0000000e+00] to be in the range [0.0, 1.0], got -4.991888999938965e-07.\n"
     ]
    },
    {
     "name": "stderr",
     "output_type": "stream",
     "text": [
      "Transformando imágenes:  86%|████████▌ | 10315/12000 [06:03<00:48, 34.96it/s]"
     ]
    },
    {
     "name": "stdout",
     "output_type": "stream",
     "text": [
      "⚠️ Error al transformar mandalay_2_15_078.jpg: Expected x_min for bbox [-2.6050210e-04  4.3935204e-01  1.1796850e-01  8.1250000e-01\n",
      "  2.0000000e+00] to be in the range [0.0, 1.0], got -0.0002605020999908447.\n"
     ]
    },
    {
     "name": "stderr",
     "output_type": "stream",
     "text": [
      "Transformando imágenes:  87%|████████▋ | 10399/12000 [06:06<00:57, 27.77it/s]"
     ]
    },
    {
     "name": "stdout",
     "output_type": "stream",
     "text": [
      "⚠️ Error al transformar mandalay_2_27_061.jpg: Expected x_min for bbox [-2.605021e-04  5.592590e-01  8.671850e-02  8.370370e-01  1.000000e+00] to be in the range [0.0, 1.0], got -0.0002605020999908447.\n"
     ]
    },
    {
     "name": "stderr",
     "output_type": "stream",
     "text": [
      "Transformando imágenes:  87%|████████▋ | 10415/12000 [06:07<01:06, 23.89it/s]"
     ]
    },
    {
     "name": "stdout",
     "output_type": "stream",
     "text": [
      "⚠️ Error al transformar mandalay_2_38_059.jpg: Expected x_min for bbox [-2.5999919e-04  3.6851850e-01  6.3802004e-02  5.2777749e-01\n",
      "  2.0000000e+00] to be in the range [0.0, 1.0], got -0.00025999918580055237.\n"
     ]
    },
    {
     "name": "stderr",
     "output_type": "stream",
     "text": [
      "Transformando imágenes:  87%|████████▋ | 10431/12000 [06:08<01:36, 16.22it/s]"
     ]
    },
    {
     "name": "stdout",
     "output_type": "stream",
     "text": [
      "⚠️ Error al transformar nyaungu_rural_21_082.jpg: Expected x_min for bbox [-2.6049465e-04  3.8101849e-01  1.7630249e-01  8.1527746e-01\n",
      "  3.0000000e+00] to be in the range [0.0, 1.0], got -0.0002604946494102478.\n"
     ]
    },
    {
     "name": "stderr",
     "output_type": "stream",
     "text": [
      "Transformando imágenes:  88%|████████▊ | 10528/12000 [06:11<00:45, 32.19it/s]"
     ]
    },
    {
     "name": "stdout",
     "output_type": "stream",
     "text": [
      "⚠️ Error al transformar mandalay_1_52_065.jpg: Expected x_min for bbox [-2.6050024e-04  5.1759249e-01  6.1718501e-02  7.5648147e-01\n",
      "  2.0000000e+00] to be in the range [0.0, 1.0], got -0.0002605002373456955.\n"
     ]
    },
    {
     "name": "stderr",
     "output_type": "stream",
     "text": [
      "Transformando imágenes:  88%|████████▊ | 10538/12000 [06:13<01:48, 13.42it/s]"
     ]
    },
    {
     "name": "stdout",
     "output_type": "stream",
     "text": [
      "⚠️ Error al transformar mandalay_2_62_037.jpg: Expected x_min for bbox [-2.605021e-04  4.509260e-01  1.356765e-01  7.990740e-01  2.000000e+00] to be in the range [0.0, 1.0], got -0.0002605020999908447.\n"
     ]
    },
    {
     "name": "stderr",
     "output_type": "stream",
     "text": [
      "Transformando imágenes:  88%|████████▊ | 10556/12000 [06:13<01:03, 22.85it/s]"
     ]
    },
    {
     "name": "stdout",
     "output_type": "stream",
     "text": [
      "⚠️ Error al transformar mandalay_2_69_003.jpg: Expected x_min for bbox [-2.6050024e-04  3.6435249e-01  3.5676502e-02  4.7268549e-01\n",
      "  3.0000000e+00] to be in the range [0.0, 1.0], got -0.0002605002373456955.\n",
      "⚠️ Error al transformar mandalay_2_6_012.jpg: Expected x_min for bbox [-2.6049837e-04  6.5416706e-01  9.4010502e-02  9.9953699e-01\n",
      "  2.0000000e+00] to be in the range [0.0, 1.0], got -0.00026049837470054626.\n"
     ]
    },
    {
     "name": "stderr",
     "output_type": "stream",
     "text": [
      "Transformando imágenes:  88%|████████▊ | 10563/12000 [06:14<00:58, 24.43it/s]"
     ]
    },
    {
     "name": "stdout",
     "output_type": "stream",
     "text": [
      "⚠️ Error al transformar mandalay_2_66_059.jpg: Expected x_min for bbox [-2.610013e-04  4.736110e-01  1.794270e-01  9.023150e-01  2.000000e+00] to be in the range [0.0, 1.0], got -0.0002610012888908386.\n"
     ]
    },
    {
     "name": "stderr",
     "output_type": "stream",
     "text": [
      "Transformando imágenes:  88%|████████▊ | 10599/12000 [06:16<00:59, 23.44it/s]"
     ]
    },
    {
     "name": "stdout",
     "output_type": "stream",
     "text": [
      "⚠️ Error al transformar mandalay_1_66_012.jpg: Expected x_min for bbox [-2.599992e-04  2.449075e-01  4.609400e-02  4.625005e-01  2.000000e+00] to be in the range [0.0, 1.0], got -0.00025999918580055237.\n"
     ]
    },
    {
     "name": "stderr",
     "output_type": "stream",
     "text": [
      "Transformando imágenes:  88%|████████▊ | 10618/12000 [06:16<00:52, 26.57it/s]"
     ]
    },
    {
     "name": "stdout",
     "output_type": "stream",
     "text": [
      "⚠️ Error al transformar mandalay_1_121_056.jpg: Expected x_min for bbox [-2.6099943e-04  3.4861150e-01  5.3384997e-02  5.1064849e-01\n",
      "  4.0000000e+00] to be in the range [0.0, 1.0], got -0.0002609994262456894.\n"
     ]
    },
    {
     "name": "stderr",
     "output_type": "stream",
     "text": [
      "Transformando imágenes:  89%|████████▉ | 10656/12000 [06:18<00:51, 26.09it/s]"
     ]
    },
    {
     "name": "stdout",
     "output_type": "stream",
     "text": [
      "⚠️ Error al transformar mandalay_1_121_090.jpg: Expected x_min for bbox [-2.6099943e-04  3.4861150e-01  5.3384997e-02  5.1064849e-01\n",
      "  4.0000000e+00] to be in the range [0.0, 1.0], got -0.0002609994262456894.\n"
     ]
    },
    {
     "name": "stderr",
     "output_type": "stream",
     "text": [
      "Transformando imágenes:  89%|████████▉ | 10720/12000 [06:22<01:22, 15.57it/s]"
     ]
    },
    {
     "name": "stdout",
     "output_type": "stream",
     "text": [
      "⚠️ Error al transformar mandalay_2_52_087.jpg: Expected x_min for bbox [-2.610013e-04  3.782410e-01  1.044270e-01  6.013890e-01  1.000000e+00] to be in the range [0.0, 1.0], got -0.0002610012888908386.\n"
     ]
    },
    {
     "name": "stderr",
     "output_type": "stream",
     "text": [
      "Transformando imágenes:  90%|████████▉ | 10744/12000 [06:24<01:07, 18.72it/s]"
     ]
    },
    {
     "name": "stdout",
     "output_type": "stream",
     "text": [
      "⚠️ Error al transformar mandalay_2_28_020.jpg: Expected x_min for bbox [-2.600029e-04  6.648145e-01  1.773440e-01  9.999995e-01  2.000000e+00] to be in the range [0.0, 1.0], got -0.00026000291109085083.\n"
     ]
    },
    {
     "name": "stderr",
     "output_type": "stream",
     "text": [
      "Transformando imágenes:  91%|█████████ | 10886/12000 [06:32<00:35, 31.40it/s]"
     ]
    },
    {
     "name": "stdout",
     "output_type": "stream",
     "text": [
      "⚠️ Error al transformar mandalay_2_28_092.jpg: Expected x_min for bbox [-2.6049465e-04  6.2129653e-01  1.4296851e-01  9.3240750e-01\n",
      "  2.0000000e+00] to be in the range [0.0, 1.0], got -0.0002604946494102478.\n"
     ]
    },
    {
     "name": "stderr",
     "output_type": "stream",
     "text": [
      "Transformando imágenes:  91%|█████████ | 10921/12000 [06:34<01:29, 12.08it/s]"
     ]
    },
    {
     "name": "stdout",
     "output_type": "stream",
     "text": [
      "⚠️ Error al transformar mandalay_1_131_023.jpg: Expected x_min for bbox [-4.9173832e-07  4.7453701e-01  3.0312449e-01  9.9953699e-01\n",
      "  1.0000000e+00] to be in the range [0.0, 1.0], got -4.917383193969727e-07.\n"
     ]
    },
    {
     "name": "stderr",
     "output_type": "stream",
     "text": [
      "Transformando imágenes:  92%|█████████▏| 10987/12000 [06:38<00:53, 19.11it/s]"
     ]
    },
    {
     "name": "stdout",
     "output_type": "stream",
     "text": [
      "⚠️ Error al transformar mandalay_1_121_072.jpg: Expected x_min for bbox [-2.6099943e-04  3.4861150e-01  5.3384997e-02  5.1064849e-01\n",
      "  4.0000000e+00] to be in the range [0.0, 1.0], got -0.0002609994262456894.\n"
     ]
    },
    {
     "name": "stderr",
     "output_type": "stream",
     "text": [
      "Transformando imágenes:  92%|█████████▏| 11012/12000 [06:39<00:29, 33.96it/s]"
     ]
    },
    {
     "name": "stdout",
     "output_type": "stream",
     "text": [
      "⚠️ Error al transformar naypyitaw_2_6_016.jpg: Expected x_min for bbox [-2.6050024e-04  3.2222250e-01  4.2968497e-02  4.7962949e-01\n",
      "  2.0000000e+00] to be in the range [0.0, 1.0], got -0.0002605002373456955.\n"
     ]
    },
    {
     "name": "stderr",
     "output_type": "stream",
     "text": [
      "Transformando imágenes:  92%|█████████▏| 11024/12000 [06:39<00:41, 23.44it/s]"
     ]
    },
    {
     "name": "stdout",
     "output_type": "stream",
     "text": [
      "⚠️ Error al transformar bago_urban_42_012.jpg: Expected x_min for bbox [-2.6050024e-04  5.5046350e-01  5.6510501e-02  7.5879651e-01\n",
      "  1.0000000e+00] to be in the range [0.0, 1.0], got -0.0002605002373456955.\n"
     ]
    },
    {
     "name": "stderr",
     "output_type": "stream",
     "text": [
      "Transformando imágenes:  93%|█████████▎| 11178/12000 [06:48<00:35, 22.86it/s]"
     ]
    },
    {
     "name": "stdout",
     "output_type": "stream",
     "text": [
      "⚠️ Error al transformar pakokku_urban_47_027.jpg: Expected x_min for bbox [-2.605021e-04  5.875005e-01  1.981765e-01  9.995375e-01  2.000000e+00] to be in the range [0.0, 1.0], got -0.0002605020999908447.\n"
     ]
    },
    {
     "name": "stderr",
     "output_type": "stream",
     "text": [
      "Transformando imágenes:  94%|█████████▍| 11259/12000 [06:52<00:27, 27.12it/s]"
     ]
    },
    {
     "name": "stdout",
     "output_type": "stream",
     "text": [
      "⚠️ Error al transformar mandalay_2_64_021.jpg: Expected x_min for bbox [-2.6000291e-04  6.4675903e-01  1.7734399e-01  9.9953699e-01\n",
      "  1.0000000e+00] to be in the range [0.0, 1.0], got -0.00026000291109085083.\n"
     ]
    },
    {
     "name": "stderr",
     "output_type": "stream",
     "text": [
      "Transformando imágenes:  94%|█████████▍| 11286/12000 [06:54<00:26, 26.91it/s]"
     ]
    },
    {
     "name": "stdout",
     "output_type": "stream",
     "text": [
      "⚠️ Error al transformar yangon_ii_5_084.jpg: Expected x_min for bbox [-2.6050210e-04  7.6851851e-01  1.4192650e-01  9.9999946e-01\n",
      "  2.0000000e+00] to be in the range [0.0, 1.0], got -0.0002605020999908447.\n"
     ]
    },
    {
     "name": "stderr",
     "output_type": "stream",
     "text": [
      "Transformando imágenes:  94%|█████████▍| 11303/12000 [06:55<00:27, 25.66it/s]"
     ]
    },
    {
     "name": "stdout",
     "output_type": "stream",
     "text": [
      "⚠️ Error al transformar mandalay_2_41_071.jpg: Expected x_min for bbox [-2.5999919e-04  5.4861146e-01  8.4636003e-02  8.3657449e-01\n",
      "  1.0000000e+00] to be in the range [0.0, 1.0], got -0.00025999918580055237.\n"
     ]
    },
    {
     "name": "stderr",
     "output_type": "stream",
     "text": [
      "Transformando imágenes:  94%|█████████▍| 11334/12000 [06:56<00:25, 26.55it/s]"
     ]
    },
    {
     "name": "stdout",
     "output_type": "stream",
     "text": [
      "⚠️ Error al transformar mandalay_2_29_076.jpg: Expected x_min for bbox [-2.6050024e-04  4.8935148e-01  4.9218498e-02  6.0694450e-01\n",
      "  1.0000000e+00] to be in the range [0.0, 1.0], got -0.0002605002373456955.\n"
     ]
    },
    {
     "name": "stderr",
     "output_type": "stream",
     "text": [
      "Transformando imágenes:  95%|█████████▌| 11419/12000 [07:05<01:00,  9.56it/s]"
     ]
    },
    {
     "name": "stdout",
     "output_type": "stream",
     "text": [
      "⚠️ Error al transformar mandalay_2_45_029.jpg: Expected x_min for bbox [-2.6050024e-04  5.5879599e-01  2.9426500e-02  6.5786999e-01\n",
      "  1.0000000e+00] to be in the range [0.0, 1.0], got -0.0002605002373456955.\n"
     ]
    },
    {
     "name": "stderr",
     "output_type": "stream",
     "text": [
      "Transformando imágenes:  95%|█████████▌| 11438/12000 [07:06<00:42, 13.34it/s]"
     ]
    },
    {
     "name": "stdout",
     "output_type": "stream",
     "text": [
      "⚠️ Error al transformar mandalay_2_63_033.jpg: Expected x_min for bbox [-4.991889e-07  3.680560e-01  5.416650e-02  4.875000e-01  2.000000e+00] to be in the range [0.0, 1.0], got -4.991888999938965e-07.\n"
     ]
    },
    {
     "name": "stderr",
     "output_type": "stream",
     "text": [
      "Transformando imágenes:  95%|█████████▌| 11446/12000 [07:06<00:29, 18.97it/s]"
     ]
    },
    {
     "name": "stdout",
     "output_type": "stream",
     "text": [
      "⚠️ Error al transformar mandalay_2_57_057.jpg: Expected x_min for bbox [-2.6049465e-04  6.7777801e-01  1.4296851e-01  1.0000000e+00\n",
      "  2.0000000e+00] to be in the range [0.0, 1.0], got -0.0002604946494102478.\n"
     ]
    },
    {
     "name": "stderr",
     "output_type": "stream",
     "text": [
      "Transformando imágenes:  96%|█████████▌| 11475/12000 [07:07<00:15, 34.46it/s]"
     ]
    },
    {
     "name": "stdout",
     "output_type": "stream",
     "text": [
      "⚠️ Error al transformar mandalay_2_29_066.jpg: Expected x_min for bbox [-2.6050024e-04  4.8750001e-01  5.6510501e-02  6.0694402e-01\n",
      "  1.0000000e+00] to be in the range [0.0, 1.0], got -0.0002605002373456955.\n"
     ]
    },
    {
     "name": "stderr",
     "output_type": "stream",
     "text": [
      "Transformando imágenes:  96%|█████████▋| 11556/12000 [07:10<00:12, 36.46it/s]"
     ]
    },
    {
     "name": "stdout",
     "output_type": "stream",
     "text": [
      "⚠️ Error al transformar mandalay_1_198_058.jpg: Expected x_min for bbox [-2.5999546e-04  4.1712952e-01  1.7838600e-01  7.7546251e-01\n",
      "  3.0000000e+00] to be in the range [0.0, 1.0], got -0.0002599954605102539.\n",
      "⚠️ Error al transformar mandalay_2_4_017.jpg: Expected x_min for bbox [-2.60498375e-04  6.31481528e-01  1.11718506e-01  9.42592502e-01\n",
      "  1.00000000e+00] to be in the range [0.0, 1.0], got -0.00026049837470054626.\n"
     ]
    },
    {
     "name": "stderr",
     "output_type": "stream",
     "text": [
      "Transformando imágenes:  96%|█████████▋| 11564/12000 [07:10<00:12, 35.19it/s]"
     ]
    },
    {
     "name": "stdout",
     "output_type": "stream",
     "text": [
      "⚠️ Error al transformar bago_urban_47_051.jpg: Expected x_min for bbox [-2.6050024e-04  4.9953699e-01  3.1510502e-02  6.0416698e-01\n",
      "  2.0000000e+00] to be in the range [0.0, 1.0], got -0.0002605002373456955.\n"
     ]
    },
    {
     "name": "stderr",
     "output_type": "stream",
     "text": [
      "Transformando imágenes:  97%|█████████▋| 11597/12000 [07:11<00:12, 32.27it/s]"
     ]
    },
    {
     "name": "stdout",
     "output_type": "stream",
     "text": [
      "⚠️ Error al transformar naypyitaw_1_30_046.jpg: Expected x_min for bbox [-2.60498375e-04  5.54629982e-01  1.00260496e-01  9.28703964e-01\n",
      "  2.00000000e+00] to be in the range [0.0, 1.0], got -0.00026049837470054626.\n"
     ]
    },
    {
     "name": "stderr",
     "output_type": "stream",
     "text": [
      "Transformando imágenes:  97%|█████████▋| 11666/12000 [07:15<00:15, 22.01it/s]"
     ]
    },
    {
     "name": "stdout",
     "output_type": "stream",
     "text": [
      "⚠️ Error al transformar mandalay_2_49_083.jpg: Expected x_min for bbox [-2.6050210e-04  5.4351896e-01  1.3567650e-01  8.6759299e-01\n",
      "  2.0000000e+00] to be in the range [0.0, 1.0], got -0.0002605020999908447.\n"
     ]
    },
    {
     "name": "stderr",
     "output_type": "stream",
     "text": [
      "Transformando imágenes:  98%|█████████▊| 11755/12000 [07:21<00:11, 21.61it/s]"
     ]
    },
    {
     "name": "stdout",
     "output_type": "stream",
     "text": [
      "⚠️ Error al transformar mandalay_2_64_046.jpg: Expected x_min for bbox [-2.605021e-04  6.263890e-01  1.075525e-01  9.476850e-01  2.000000e+00] to be in the range [0.0, 1.0], got -0.0002605020999908447.\n"
     ]
    },
    {
     "name": "stderr",
     "output_type": "stream",
     "text": [
      "Transformando imágenes:  98%|█████████▊| 11800/12000 [07:23<00:08, 23.66it/s]"
     ]
    },
    {
     "name": "stdout",
     "output_type": "stream",
     "text": [
      "⚠️ Error al transformar mandalay_2_56_088.jpg: Expected x_min for bbox [-2.6100129e-04  5.1157403e-01  9.0884998e-02  7.3472202e-01\n",
      "  1.0000000e+00] to be in the range [0.0, 1.0], got -0.0002610012888908386.\n"
     ]
    },
    {
     "name": "stderr",
     "output_type": "stream",
     "text": [
      "Transformando imágenes: 100%|██████████| 12000/12000 [07:31<00:00, 26.61it/s]\n"
     ]
    }
   ],
   "source": [
    "all_images = [f for f in os.listdir(input_images_dir) if f.endswith(\".jpg\")]\n",
    "sample_images = random.sample(all_images, min(num_samples, len(all_images)))\n",
    "\n",
    "for img_name in tqdm(sample_images, desc=\"Transformando imágenes\"):\n",
    "    base_name = os.path.splitext(img_name)[0]\n",
    "    img_path = os.path.join(input_images_dir, img_name)\n",
    "    label_path = os.path.join(input_labels_dir, base_name + \".txt\")\n",
    "\n",
    "    # Verificar existencia de label\n",
    "    if not os.path.exists(label_path):\n",
    "        continue\n",
    "\n",
    "    # Leer imagen y bounding boxes\n",
    "    image = cv2.imread(img_path)\n",
    "    if image is None:\n",
    "        continue\n",
    "\n",
    "    h, w = image.shape[:2]\n",
    "    bboxes = []\n",
    "    class_labels = []\n",
    "\n",
    "    with open(label_path, \"r\") as f:\n",
    "        for line in f:\n",
    "            parts = line.strip().split()\n",
    "            if len(parts) != 5:\n",
    "                continue\n",
    "            cls = int(parts[0])\n",
    "            x, y, bw, bh = map(float, parts[1:])\n",
    "            bboxes.append([x, y, bw, bh])\n",
    "            class_labels.append(cls)\n",
    "\n",
    "    # Aplicar transformación\n",
    "    try:\n",
    "        transformed = transform(image=image, bboxes=bboxes, class_labels=class_labels)\n",
    "\n",
    "        # Guardar imagen\n",
    "        output_img_path = os.path.join(output_images_dir, img_name)\n",
    "        cv2.imwrite(output_img_path, transformed[\"image\"])\n",
    "\n",
    "        # Guardar label\n",
    "        output_lbl_path = os.path.join(output_labels_dir, base_name + \".txt\")\n",
    "        with open(output_lbl_path, \"w\") as f:\n",
    "            for box, cls in zip(transformed[\"bboxes\"], transformed[\"class_labels\"]):\n",
    "                f.write(f\"{cls} {' '.join(f'{coord:.6f}' for coord in box)}\\n\")\n",
    "\n",
    "    except Exception as e:\n",
    "        print(f\"⚠️ Error al transformar {img_name}: {e}\")\n"
   ]
  }
 ],
 "metadata": {
  "kernelspec": {
   "display_name": "ema",
   "language": "python",
   "name": "python3"
  },
  "language_info": {
   "codemirror_mode": {
    "name": "ipython",
    "version": 3
   },
   "file_extension": ".py",
   "mimetype": "text/x-python",
   "name": "python",
   "nbconvert_exporter": "python",
   "pygments_lexer": "ipython3",
   "version": "3.9.20"
  }
 },
 "nbformat": 4,
 "nbformat_minor": 5
}
