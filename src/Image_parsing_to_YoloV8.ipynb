{
  "nbformat": 4,
  "nbformat_minor": 0,
  "metadata": {
    "colab": {
      "provenance": [],
      "authorship_tag": "ABX9TyNxsyUyEh/iiCLgYCubbc5P",
      "include_colab_link": true
    },
    "kernelspec": {
      "name": "python3",
      "display_name": "Python 3"
    },
    "language_info": {
      "name": "python"
    }
  },
  "cells": [
    {
      "cell_type": "markdown",
      "metadata": {
        "id": "view-in-github",
        "colab_type": "text"
      },
      "source": [
        "<a href=\"https://colab.research.google.com/github/eiglesiasr/NoHelmetNet/blob/main/src/Image_parsing_to_YoloV8.ipynb\" target=\"_parent\"><img src=\"https://colab.research.google.com/assets/colab-badge.svg\" alt=\"Open In Colab\"/></a>"
      ]
    },
    {
      "cell_type": "code",
      "execution_count": 1,
      "metadata": {
        "colab": {
          "base_uri": "https://localhost:8080/"
        },
        "id": "eEtw5_Up1K_L",
        "outputId": "1744062b-2beb-4b9b-c20c-74ab559f9aa5"
      },
      "outputs": [
        {
          "output_type": "stream",
          "name": "stdout",
          "text": [
            "Cloning into 'NoHelmetNet'...\n",
            "remote: Enumerating objects: 216, done.\u001b[K\n",
            "remote: Total 216 (delta 0), reused 0 (delta 0), pack-reused 216 (from 2)\u001b[K\n",
            "Receiving objects: 100% (216/216), 57.20 MiB | 14.57 MiB/s, done.\n"
          ]
        }
      ],
      "source": [
        "\n",
        "\n",
        "!git clone https://token@github.com/eiglesiasr/NoHelmetNet.git"
      ]
    },
    {
      "cell_type": "markdown",
      "source": [
        "### Imports"
      ],
      "metadata": {
        "id": "boIBZzCp1a1T"
      }
    },
    {
      "cell_type": "code",
      "source": [
        "import pandas as pd\n",
        "import os\n",
        "import shutil\n",
        "import json"
      ],
      "metadata": {
        "id": "clRupnVs1dSm"
      },
      "execution_count": 2,
      "outputs": []
    },
    {
      "cell_type": "markdown",
      "source": [
        "### Creando funciones que copian a la estructura de YOLO tanto imagenes como las anotaciones"
      ],
      "metadata": {
        "id": "G73Y0nWm1gL3"
      }
    },
    {
      "cell_type": "code",
      "source": [
        "def create_dataset_yolo_from_raw(ruta_origen, ruta_destino, prefijo):\n",
        "  archivos = os.listdir(ruta_origen)\n",
        "  for i, archivo in enumerate(archivos):\n",
        "    nombre_base, extension = os.path.splitext(archivo)\n",
        "    nuevo_nombre_archivo = f\"{prefijo}_{int(nombre_base):03d}{extension}\"\n",
        "\n",
        "    ruta_completa_origen = os.path.join(ruta_origen, archivo)\n",
        "    ruta_completa_destino = os.path.join(ruta_destino, nuevo_nombre_archivo)\n",
        "    shutil.copy(ruta_completa_origen, ruta_completa_destino)\n",
        "    print(f\"Copiado y renombrado: {archivo} -> {nuevo_nombre_archivo} en {ruta_destino}\")"
      ],
      "metadata": {
        "id": "g7r9YAW_1ftr"
      },
      "execution_count": 6,
      "outputs": []
    },
    {
      "cell_type": "code",
      "source": [
        "#cargando json con el encoding de labels a un diccionario\n",
        "ruta_json='NoHelmetNet/dataset/labels.json'\n",
        "with open(ruta_json, 'r') as f:\n",
        "      labels_dict = json.load(f)"
      ],
      "metadata": {
        "id": "KFJYjk8Q1h2b"
      },
      "execution_count": 3,
      "outputs": []
    },
    {
      "cell_type": "code",
      "source": [
        "def csv_to_yolov8_txt(ruta_origen_anotaciones, ruta_destino_anotaciones, prefijo,image_width,image_height):\n",
        "  df = pd.read_csv(ruta_origen_anotaciones)\n",
        "  grouped_frames = df.groupby('frame_id')\n",
        "\n",
        "  for frame_id, frame_data in grouped_frames:\n",
        "    txt_filename = f\"{prefijo}_{frame_id:03d}.txt\"\n",
        "    txt_filepath = os.path.join(ruta_destino_anotaciones, txt_filename)\n",
        "\n",
        "    for index, row in frame_data.iterrows():\n",
        "      class_id=labels_dict[row['label']]\n",
        "      x_center = int(row['x']+row['w']/2)\n",
        "      y_center = int(row['y']+row['h']/2)\n",
        "\n",
        "      x_center_norm = x_center / image_width\n",
        "      y_center_norm = y_center / image_height\n",
        "      width_norm = row['w'] / image_width\n",
        "      height_norm = row['h'] / image_height\n",
        "\n",
        "      yolov8_annotation=f\"{class_id} {x_center_norm:.6f} {y_center_norm:.6f} {width_norm:.6f} {height_norm:.6f}\\n\"\n",
        "\n",
        "      with open(txt_filepath, 'a') as f:\n",
        "          f.write(yolov8_annotation)\n",
        "\n",
        "  print(f\"Annotaciones YOLOv8 generadas en {ruta_destino_anotaciones}\")\n"
      ],
      "metadata": {
        "id": "x5bAscE61mFw"
      },
      "execution_count": 7,
      "outputs": []
    },
    {
      "cell_type": "markdown",
      "source": [
        "### Copia de Imagenes Train"
      ],
      "metadata": {
        "id": "9lmmN6Ms1sXz"
      }
    },
    {
      "cell_type": "code",
      "source": [
        "#Correr para crear rutas\n",
        "!cd NoHelmetNet/dataset && mkdir images\n",
        "!cd NoHelmetNet/dataset/images && mkdir train\n",
        "!cd NoHelmetNet/dataset/images && mkdir val\n",
        "!cd NoHelmetNet/dataset && mkdir labels\n",
        "!cd NoHelmetNet/dataset/labels && mkdir train\n",
        "!cd NoHelmetNet/dataset/labels && mkdir val"
      ],
      "metadata": {
        "colab": {
          "base_uri": "https://localhost:8080/"
        },
        "id": "3GMtfppQ2CeM",
        "outputId": "78867ab5-c88c-4240-d9ec-e5cd0deb7b1e"
      },
      "execution_count": 13,
      "outputs": [
        {
          "output_type": "stream",
          "name": "stdout",
          "text": [
            "mkdir: cannot create directory ‘images’: File exists\n",
            "mkdir: cannot create directory ‘train’: File exists\n",
            "mkdir: cannot create directory ‘valid’: File exists\n"
          ]
        }
      ]
    },
    {
      "cell_type": "code",
      "source": [
        "#Correr en caso existan previamente imagenes y anotaciones en las rutas\n",
        "!rm -rf NoHelmetNet/dataset/images/train/*\n",
        "!rm -rf NoHelmetNet/dataset/labels/train/*"
      ],
      "metadata": {
        "id": "DaybNuPU2B2J"
      },
      "execution_count": null,
      "outputs": []
    },
    {
      "cell_type": "code",
      "source": [
        "ruta_origen='NoHelmetNet/raw/Bago_highway_1'\n",
        "ruta_destino = 'NoHelmetNet/dataset/images/train'\n",
        "prefijo='bago_highway_1'\n",
        "create_dataset_yolo_from_raw(ruta_origen, ruta_destino, prefijo)"
      ],
      "metadata": {
        "colab": {
          "base_uri": "https://localhost:8080/"
        },
        "id": "50uVeead2gXk",
        "outputId": "0256666d-8ef1-4208-8a46-49fafc2542bc"
      },
      "execution_count": 14,
      "outputs": [
        {
          "output_type": "stream",
          "name": "stdout",
          "text": [
            "Copiado y renombrado: 83.jpg -> bago_highway_1_083.jpg en NoHelmetNet/dataset/images/train\n",
            "Copiado y renombrado: 70.jpg -> bago_highway_1_070.jpg en NoHelmetNet/dataset/images/train\n",
            "Copiado y renombrado: 27.jpg -> bago_highway_1_027.jpg en NoHelmetNet/dataset/images/train\n",
            "Copiado y renombrado: 84.jpg -> bago_highway_1_084.jpg en NoHelmetNet/dataset/images/train\n",
            "Copiado y renombrado: 46.jpg -> bago_highway_1_046.jpg en NoHelmetNet/dataset/images/train\n",
            "Copiado y renombrado: 47.jpg -> bago_highway_1_047.jpg en NoHelmetNet/dataset/images/train\n",
            "Copiado y renombrado: 77.jpg -> bago_highway_1_077.jpg en NoHelmetNet/dataset/images/train\n",
            "Copiado y renombrado: 20.jpg -> bago_highway_1_020.jpg en NoHelmetNet/dataset/images/train\n",
            "Copiado y renombrado: 23.jpg -> bago_highway_1_023.jpg en NoHelmetNet/dataset/images/train\n",
            "Copiado y renombrado: 33.jpg -> bago_highway_1_033.jpg en NoHelmetNet/dataset/images/train\n",
            "Copiado y renombrado: 06.jpg -> bago_highway_1_006.jpg en NoHelmetNet/dataset/images/train\n",
            "Copiado y renombrado: 10.jpg -> bago_highway_1_010.jpg en NoHelmetNet/dataset/images/train\n",
            "Copiado y renombrado: 31.jpg -> bago_highway_1_031.jpg en NoHelmetNet/dataset/images/train\n",
            "Copiado y renombrado: 01.jpg -> bago_highway_1_001.jpg en NoHelmetNet/dataset/images/train\n",
            "Copiado y renombrado: 09.jpg -> bago_highway_1_009.jpg en NoHelmetNet/dataset/images/train\n",
            "Copiado y renombrado: 75.jpg -> bago_highway_1_075.jpg en NoHelmetNet/dataset/images/train\n",
            "Copiado y renombrado: 49.jpg -> bago_highway_1_049.jpg en NoHelmetNet/dataset/images/train\n",
            "Copiado y renombrado: 65.jpg -> bago_highway_1_065.jpg en NoHelmetNet/dataset/images/train\n",
            "Copiado y renombrado: 95.jpg -> bago_highway_1_095.jpg en NoHelmetNet/dataset/images/train\n",
            "Copiado y renombrado: 05.jpg -> bago_highway_1_005.jpg en NoHelmetNet/dataset/images/train\n",
            "Copiado y renombrado: 78.jpg -> bago_highway_1_078.jpg en NoHelmetNet/dataset/images/train\n",
            "Copiado y renombrado: 54.jpg -> bago_highway_1_054.jpg en NoHelmetNet/dataset/images/train\n",
            "Copiado y renombrado: 35.jpg -> bago_highway_1_035.jpg en NoHelmetNet/dataset/images/train\n",
            "Copiado y renombrado: 64.jpg -> bago_highway_1_064.jpg en NoHelmetNet/dataset/images/train\n",
            "Copiado y renombrado: 36.jpg -> bago_highway_1_036.jpg en NoHelmetNet/dataset/images/train\n",
            "Copiado y renombrado: 80.jpg -> bago_highway_1_080.jpg en NoHelmetNet/dataset/images/train\n",
            "Copiado y renombrado: 66.jpg -> bago_highway_1_066.jpg en NoHelmetNet/dataset/images/train\n",
            "Copiado y renombrado: 21.jpg -> bago_highway_1_021.jpg en NoHelmetNet/dataset/images/train\n",
            "Copiado y renombrado: 58.jpg -> bago_highway_1_058.jpg en NoHelmetNet/dataset/images/train\n",
            "Copiado y renombrado: 18.jpg -> bago_highway_1_018.jpg en NoHelmetNet/dataset/images/train\n",
            "Copiado y renombrado: 42.jpg -> bago_highway_1_042.jpg en NoHelmetNet/dataset/images/train\n",
            "Copiado y renombrado: 96.jpg -> bago_highway_1_096.jpg en NoHelmetNet/dataset/images/train\n",
            "Copiado y renombrado: 73.jpg -> bago_highway_1_073.jpg en NoHelmetNet/dataset/images/train\n",
            "Copiado y renombrado: 26.jpg -> bago_highway_1_026.jpg en NoHelmetNet/dataset/images/train\n",
            "Copiado y renombrado: 89.jpg -> bago_highway_1_089.jpg en NoHelmetNet/dataset/images/train\n",
            "Copiado y renombrado: 97.jpg -> bago_highway_1_097.jpg en NoHelmetNet/dataset/images/train\n",
            "Copiado y renombrado: 79.jpg -> bago_highway_1_079.jpg en NoHelmetNet/dataset/images/train\n",
            "Copiado y renombrado: 76.jpg -> bago_highway_1_076.jpg en NoHelmetNet/dataset/images/train\n",
            "Copiado y renombrado: 40.jpg -> bago_highway_1_040.jpg en NoHelmetNet/dataset/images/train\n",
            "Copiado y renombrado: 53.jpg -> bago_highway_1_053.jpg en NoHelmetNet/dataset/images/train\n",
            "Copiado y renombrado: 69.jpg -> bago_highway_1_069.jpg en NoHelmetNet/dataset/images/train\n",
            "Copiado y renombrado: 63.jpg -> bago_highway_1_063.jpg en NoHelmetNet/dataset/images/train\n",
            "Copiado y renombrado: 99.jpg -> bago_highway_1_099.jpg en NoHelmetNet/dataset/images/train\n",
            "Copiado y renombrado: 29.jpg -> bago_highway_1_029.jpg en NoHelmetNet/dataset/images/train\n",
            "Copiado y renombrado: 90.jpg -> bago_highway_1_090.jpg en NoHelmetNet/dataset/images/train\n",
            "Copiado y renombrado: 52.jpg -> bago_highway_1_052.jpg en NoHelmetNet/dataset/images/train\n",
            "Copiado y renombrado: 86.jpg -> bago_highway_1_086.jpg en NoHelmetNet/dataset/images/train\n",
            "Copiado y renombrado: 71.jpg -> bago_highway_1_071.jpg en NoHelmetNet/dataset/images/train\n",
            "Copiado y renombrado: 56.jpg -> bago_highway_1_056.jpg en NoHelmetNet/dataset/images/train\n",
            "Copiado y renombrado: 30.jpg -> bago_highway_1_030.jpg en NoHelmetNet/dataset/images/train\n",
            "Copiado y renombrado: 94.jpg -> bago_highway_1_094.jpg en NoHelmetNet/dataset/images/train\n",
            "Copiado y renombrado: 93.jpg -> bago_highway_1_093.jpg en NoHelmetNet/dataset/images/train\n",
            "Copiado y renombrado: 43.jpg -> bago_highway_1_043.jpg en NoHelmetNet/dataset/images/train\n",
            "Copiado y renombrado: 72.jpg -> bago_highway_1_072.jpg en NoHelmetNet/dataset/images/train\n",
            "Copiado y renombrado: 67.jpg -> bago_highway_1_067.jpg en NoHelmetNet/dataset/images/train\n",
            "Copiado y renombrado: 02.jpg -> bago_highway_1_002.jpg en NoHelmetNet/dataset/images/train\n",
            "Copiado y renombrado: 85.jpg -> bago_highway_1_085.jpg en NoHelmetNet/dataset/images/train\n",
            "Copiado y renombrado: 62.jpg -> bago_highway_1_062.jpg en NoHelmetNet/dataset/images/train\n",
            "Copiado y renombrado: 88.jpg -> bago_highway_1_088.jpg en NoHelmetNet/dataset/images/train\n",
            "Copiado y renombrado: 74.jpg -> bago_highway_1_074.jpg en NoHelmetNet/dataset/images/train\n",
            "Copiado y renombrado: 51.jpg -> bago_highway_1_051.jpg en NoHelmetNet/dataset/images/train\n",
            "Copiado y renombrado: 08.jpg -> bago_highway_1_008.jpg en NoHelmetNet/dataset/images/train\n",
            "Copiado y renombrado: 28.jpg -> bago_highway_1_028.jpg en NoHelmetNet/dataset/images/train\n",
            "Copiado y renombrado: 91.jpg -> bago_highway_1_091.jpg en NoHelmetNet/dataset/images/train\n",
            "Copiado y renombrado: 57.jpg -> bago_highway_1_057.jpg en NoHelmetNet/dataset/images/train\n",
            "Copiado y renombrado: 19.jpg -> bago_highway_1_019.jpg en NoHelmetNet/dataset/images/train\n",
            "Copiado y renombrado: 60.jpg -> bago_highway_1_060.jpg en NoHelmetNet/dataset/images/train\n",
            "Copiado y renombrado: 50.jpg -> bago_highway_1_050.jpg en NoHelmetNet/dataset/images/train\n",
            "Copiado y renombrado: 98.jpg -> bago_highway_1_098.jpg en NoHelmetNet/dataset/images/train\n",
            "Copiado y renombrado: 44.jpg -> bago_highway_1_044.jpg en NoHelmetNet/dataset/images/train\n",
            "Copiado y renombrado: 04.jpg -> bago_highway_1_004.jpg en NoHelmetNet/dataset/images/train\n",
            "Copiado y renombrado: 34.jpg -> bago_highway_1_034.jpg en NoHelmetNet/dataset/images/train\n",
            "Copiado y renombrado: 16.jpg -> bago_highway_1_016.jpg en NoHelmetNet/dataset/images/train\n",
            "Copiado y renombrado: 13.jpg -> bago_highway_1_013.jpg en NoHelmetNet/dataset/images/train\n",
            "Copiado y renombrado: 68.jpg -> bago_highway_1_068.jpg en NoHelmetNet/dataset/images/train\n",
            "Copiado y renombrado: 24.jpg -> bago_highway_1_024.jpg en NoHelmetNet/dataset/images/train\n",
            "Copiado y renombrado: 61.jpg -> bago_highway_1_061.jpg en NoHelmetNet/dataset/images/train\n",
            "Copiado y renombrado: 11.jpg -> bago_highway_1_011.jpg en NoHelmetNet/dataset/images/train\n",
            "Copiado y renombrado: 03.jpg -> bago_highway_1_003.jpg en NoHelmetNet/dataset/images/train\n",
            "Copiado y renombrado: 07.jpg -> bago_highway_1_007.jpg en NoHelmetNet/dataset/images/train\n",
            "Copiado y renombrado: 45.jpg -> bago_highway_1_045.jpg en NoHelmetNet/dataset/images/train\n",
            "Copiado y renombrado: 92.jpg -> bago_highway_1_092.jpg en NoHelmetNet/dataset/images/train\n",
            "Copiado y renombrado: 32.jpg -> bago_highway_1_032.jpg en NoHelmetNet/dataset/images/train\n",
            "Copiado y renombrado: 17.jpg -> bago_highway_1_017.jpg en NoHelmetNet/dataset/images/train\n",
            "Copiado y renombrado: 37.jpg -> bago_highway_1_037.jpg en NoHelmetNet/dataset/images/train\n",
            "Copiado y renombrado: 15.jpg -> bago_highway_1_015.jpg en NoHelmetNet/dataset/images/train\n",
            "Copiado y renombrado: 81.jpg -> bago_highway_1_081.jpg en NoHelmetNet/dataset/images/train\n",
            "Copiado y renombrado: 87.jpg -> bago_highway_1_087.jpg en NoHelmetNet/dataset/images/train\n",
            "Copiado y renombrado: 22.jpg -> bago_highway_1_022.jpg en NoHelmetNet/dataset/images/train\n",
            "Copiado y renombrado: 39.jpg -> bago_highway_1_039.jpg en NoHelmetNet/dataset/images/train\n",
            "Copiado y renombrado: 14.jpg -> bago_highway_1_014.jpg en NoHelmetNet/dataset/images/train\n",
            "Copiado y renombrado: 12.jpg -> bago_highway_1_012.jpg en NoHelmetNet/dataset/images/train\n",
            "Copiado y renombrado: 82.jpg -> bago_highway_1_082.jpg en NoHelmetNet/dataset/images/train\n",
            "Copiado y renombrado: 55.jpg -> bago_highway_1_055.jpg en NoHelmetNet/dataset/images/train\n",
            "Copiado y renombrado: 41.jpg -> bago_highway_1_041.jpg en NoHelmetNet/dataset/images/train\n",
            "Copiado y renombrado: 59.jpg -> bago_highway_1_059.jpg en NoHelmetNet/dataset/images/train\n",
            "Copiado y renombrado: 48.jpg -> bago_highway_1_048.jpg en NoHelmetNet/dataset/images/train\n",
            "Copiado y renombrado: 25.jpg -> bago_highway_1_025.jpg en NoHelmetNet/dataset/images/train\n",
            "Copiado y renombrado: 38.jpg -> bago_highway_1_038.jpg en NoHelmetNet/dataset/images/train\n",
            "Copiado y renombrado: 100.jpg -> bago_highway_1_100.jpg en NoHelmetNet/dataset/images/train\n"
          ]
        }
      ]
    },
    {
      "cell_type": "code",
      "source": [
        "ruta_origen_anotaciones = 'NoHelmetNet/raw/Bago_highway_1.csv'\n",
        "ruta_destino_anotaciones = 'NoHelmetNet/dataset/labels/train'\n",
        "image_width = 1920\n",
        "image_height = 1080\n",
        "prefijo = 'bago_highway_1'\n",
        "csv_to_yolov8_txt(ruta_origen_anotaciones, ruta_destino_anotaciones, prefijo,image_width,image_height)"
      ],
      "metadata": {
        "colab": {
          "base_uri": "https://localhost:8080/"
        },
        "id": "zTfN2xvl2lI1",
        "outputId": "f43f4876-68db-46af-bc2b-f0161944bd66"
      },
      "execution_count": 15,
      "outputs": [
        {
          "output_type": "stream",
          "name": "stdout",
          "text": [
            "Annotaciones YOLOv8 generadas en NoHelmetNet/dataset/labels/train\n"
          ]
        }
      ]
    },
    {
      "cell_type": "markdown",
      "source": [
        "### Copia Imagenes Val"
      ],
      "metadata": {
        "id": "fOiqNB1N2slM"
      }
    },
    {
      "cell_type": "code",
      "source": [
        "#Correr en caso existan previamente imagenes y anotaciones en las rutas\n",
        "!rm -rf NoHelmetNet/dataset/images/val/*\n",
        "!rm -rf NoHelmetNet/dataset/labels/val/*"
      ],
      "metadata": {
        "id": "-FyDxxTH2rlN"
      },
      "execution_count": null,
      "outputs": []
    },
    {
      "cell_type": "code",
      "source": [
        "ruta_origen='NoHelmetNet/raw/Mandalay_1_1'\n",
        "ruta_destino = 'NoHelmetNet/dataset/images/val'\n",
        "prefijo='mandalay_1_1'\n",
        "create_dataset_yolo_from_raw(ruta_origen, ruta_destino, prefijo)"
      ],
      "metadata": {
        "colab": {
          "base_uri": "https://localhost:8080/"
        },
        "id": "UPK_j_uf2v9t",
        "outputId": "3fd46551-c8e1-4d36-956b-109315119332"
      },
      "execution_count": 17,
      "outputs": [
        {
          "output_type": "stream",
          "name": "stdout",
          "text": [
            "Copiado y renombrado: 83.jpg -> mandalay_1_1_083.jpg en NoHelmetNet/dataset/images/val\n",
            "Copiado y renombrado: 70.jpg -> mandalay_1_1_070.jpg en NoHelmetNet/dataset/images/val\n",
            "Copiado y renombrado: 27.jpg -> mandalay_1_1_027.jpg en NoHelmetNet/dataset/images/val\n",
            "Copiado y renombrado: 84.jpg -> mandalay_1_1_084.jpg en NoHelmetNet/dataset/images/val\n",
            "Copiado y renombrado: 46.jpg -> mandalay_1_1_046.jpg en NoHelmetNet/dataset/images/val\n",
            "Copiado y renombrado: 47.jpg -> mandalay_1_1_047.jpg en NoHelmetNet/dataset/images/val\n",
            "Copiado y renombrado: 77.jpg -> mandalay_1_1_077.jpg en NoHelmetNet/dataset/images/val\n",
            "Copiado y renombrado: 20.jpg -> mandalay_1_1_020.jpg en NoHelmetNet/dataset/images/val\n",
            "Copiado y renombrado: 23.jpg -> mandalay_1_1_023.jpg en NoHelmetNet/dataset/images/val\n",
            "Copiado y renombrado: 33.jpg -> mandalay_1_1_033.jpg en NoHelmetNet/dataset/images/val\n",
            "Copiado y renombrado: 06.jpg -> mandalay_1_1_006.jpg en NoHelmetNet/dataset/images/val\n",
            "Copiado y renombrado: 10.jpg -> mandalay_1_1_010.jpg en NoHelmetNet/dataset/images/val\n",
            "Copiado y renombrado: 31.jpg -> mandalay_1_1_031.jpg en NoHelmetNet/dataset/images/val\n",
            "Copiado y renombrado: 01.jpg -> mandalay_1_1_001.jpg en NoHelmetNet/dataset/images/val\n",
            "Copiado y renombrado: 09.jpg -> mandalay_1_1_009.jpg en NoHelmetNet/dataset/images/val\n",
            "Copiado y renombrado: 75.jpg -> mandalay_1_1_075.jpg en NoHelmetNet/dataset/images/val\n",
            "Copiado y renombrado: 49.jpg -> mandalay_1_1_049.jpg en NoHelmetNet/dataset/images/val\n",
            "Copiado y renombrado: 65.jpg -> mandalay_1_1_065.jpg en NoHelmetNet/dataset/images/val\n",
            "Copiado y renombrado: 95.jpg -> mandalay_1_1_095.jpg en NoHelmetNet/dataset/images/val\n",
            "Copiado y renombrado: 05.jpg -> mandalay_1_1_005.jpg en NoHelmetNet/dataset/images/val\n",
            "Copiado y renombrado: 78.jpg -> mandalay_1_1_078.jpg en NoHelmetNet/dataset/images/val\n",
            "Copiado y renombrado: 54.jpg -> mandalay_1_1_054.jpg en NoHelmetNet/dataset/images/val\n",
            "Copiado y renombrado: 35.jpg -> mandalay_1_1_035.jpg en NoHelmetNet/dataset/images/val\n",
            "Copiado y renombrado: 64.jpg -> mandalay_1_1_064.jpg en NoHelmetNet/dataset/images/val\n",
            "Copiado y renombrado: 36.jpg -> mandalay_1_1_036.jpg en NoHelmetNet/dataset/images/val\n",
            "Copiado y renombrado: 80.jpg -> mandalay_1_1_080.jpg en NoHelmetNet/dataset/images/val\n",
            "Copiado y renombrado: 66.jpg -> mandalay_1_1_066.jpg en NoHelmetNet/dataset/images/val\n",
            "Copiado y renombrado: 21.jpg -> mandalay_1_1_021.jpg en NoHelmetNet/dataset/images/val\n",
            "Copiado y renombrado: 58.jpg -> mandalay_1_1_058.jpg en NoHelmetNet/dataset/images/val\n",
            "Copiado y renombrado: 18.jpg -> mandalay_1_1_018.jpg en NoHelmetNet/dataset/images/val\n",
            "Copiado y renombrado: 42.jpg -> mandalay_1_1_042.jpg en NoHelmetNet/dataset/images/val\n",
            "Copiado y renombrado: 96.jpg -> mandalay_1_1_096.jpg en NoHelmetNet/dataset/images/val\n",
            "Copiado y renombrado: 73.jpg -> mandalay_1_1_073.jpg en NoHelmetNet/dataset/images/val\n",
            "Copiado y renombrado: 26.jpg -> mandalay_1_1_026.jpg en NoHelmetNet/dataset/images/val\n",
            "Copiado y renombrado: 89.jpg -> mandalay_1_1_089.jpg en NoHelmetNet/dataset/images/val\n",
            "Copiado y renombrado: 97.jpg -> mandalay_1_1_097.jpg en NoHelmetNet/dataset/images/val\n",
            "Copiado y renombrado: 79.jpg -> mandalay_1_1_079.jpg en NoHelmetNet/dataset/images/val\n",
            "Copiado y renombrado: 76.jpg -> mandalay_1_1_076.jpg en NoHelmetNet/dataset/images/val\n",
            "Copiado y renombrado: 40.jpg -> mandalay_1_1_040.jpg en NoHelmetNet/dataset/images/val\n",
            "Copiado y renombrado: 53.jpg -> mandalay_1_1_053.jpg en NoHelmetNet/dataset/images/val\n",
            "Copiado y renombrado: 69.jpg -> mandalay_1_1_069.jpg en NoHelmetNet/dataset/images/val\n",
            "Copiado y renombrado: 63.jpg -> mandalay_1_1_063.jpg en NoHelmetNet/dataset/images/val\n",
            "Copiado y renombrado: 99.jpg -> mandalay_1_1_099.jpg en NoHelmetNet/dataset/images/val\n",
            "Copiado y renombrado: 29.jpg -> mandalay_1_1_029.jpg en NoHelmetNet/dataset/images/val\n",
            "Copiado y renombrado: 90.jpg -> mandalay_1_1_090.jpg en NoHelmetNet/dataset/images/val\n",
            "Copiado y renombrado: 52.jpg -> mandalay_1_1_052.jpg en NoHelmetNet/dataset/images/val\n",
            "Copiado y renombrado: 86.jpg -> mandalay_1_1_086.jpg en NoHelmetNet/dataset/images/val\n",
            "Copiado y renombrado: 71.jpg -> mandalay_1_1_071.jpg en NoHelmetNet/dataset/images/val\n",
            "Copiado y renombrado: 56.jpg -> mandalay_1_1_056.jpg en NoHelmetNet/dataset/images/val\n",
            "Copiado y renombrado: 30.jpg -> mandalay_1_1_030.jpg en NoHelmetNet/dataset/images/val\n",
            "Copiado y renombrado: 94.jpg -> mandalay_1_1_094.jpg en NoHelmetNet/dataset/images/val\n",
            "Copiado y renombrado: 93.jpg -> mandalay_1_1_093.jpg en NoHelmetNet/dataset/images/val\n",
            "Copiado y renombrado: 43.jpg -> mandalay_1_1_043.jpg en NoHelmetNet/dataset/images/val\n",
            "Copiado y renombrado: 72.jpg -> mandalay_1_1_072.jpg en NoHelmetNet/dataset/images/val\n",
            "Copiado y renombrado: 67.jpg -> mandalay_1_1_067.jpg en NoHelmetNet/dataset/images/val\n",
            "Copiado y renombrado: 02.jpg -> mandalay_1_1_002.jpg en NoHelmetNet/dataset/images/val\n",
            "Copiado y renombrado: 85.jpg -> mandalay_1_1_085.jpg en NoHelmetNet/dataset/images/val\n",
            "Copiado y renombrado: 62.jpg -> mandalay_1_1_062.jpg en NoHelmetNet/dataset/images/val\n",
            "Copiado y renombrado: 88.jpg -> mandalay_1_1_088.jpg en NoHelmetNet/dataset/images/val\n",
            "Copiado y renombrado: 74.jpg -> mandalay_1_1_074.jpg en NoHelmetNet/dataset/images/val\n",
            "Copiado y renombrado: 51.jpg -> mandalay_1_1_051.jpg en NoHelmetNet/dataset/images/val\n",
            "Copiado y renombrado: 08.jpg -> mandalay_1_1_008.jpg en NoHelmetNet/dataset/images/val\n",
            "Copiado y renombrado: 28.jpg -> mandalay_1_1_028.jpg en NoHelmetNet/dataset/images/val\n",
            "Copiado y renombrado: 91.jpg -> mandalay_1_1_091.jpg en NoHelmetNet/dataset/images/val\n",
            "Copiado y renombrado: 57.jpg -> mandalay_1_1_057.jpg en NoHelmetNet/dataset/images/val\n",
            "Copiado y renombrado: 19.jpg -> mandalay_1_1_019.jpg en NoHelmetNet/dataset/images/val\n",
            "Copiado y renombrado: 60.jpg -> mandalay_1_1_060.jpg en NoHelmetNet/dataset/images/val\n",
            "Copiado y renombrado: 50.jpg -> mandalay_1_1_050.jpg en NoHelmetNet/dataset/images/val\n",
            "Copiado y renombrado: 98.jpg -> mandalay_1_1_098.jpg en NoHelmetNet/dataset/images/val\n",
            "Copiado y renombrado: 44.jpg -> mandalay_1_1_044.jpg en NoHelmetNet/dataset/images/val\n",
            "Copiado y renombrado: 04.jpg -> mandalay_1_1_004.jpg en NoHelmetNet/dataset/images/val\n",
            "Copiado y renombrado: 34.jpg -> mandalay_1_1_034.jpg en NoHelmetNet/dataset/images/val\n",
            "Copiado y renombrado: 16.jpg -> mandalay_1_1_016.jpg en NoHelmetNet/dataset/images/val\n",
            "Copiado y renombrado: 13.jpg -> mandalay_1_1_013.jpg en NoHelmetNet/dataset/images/val\n",
            "Copiado y renombrado: 68.jpg -> mandalay_1_1_068.jpg en NoHelmetNet/dataset/images/val\n",
            "Copiado y renombrado: 24.jpg -> mandalay_1_1_024.jpg en NoHelmetNet/dataset/images/val\n",
            "Copiado y renombrado: 61.jpg -> mandalay_1_1_061.jpg en NoHelmetNet/dataset/images/val\n",
            "Copiado y renombrado: 11.jpg -> mandalay_1_1_011.jpg en NoHelmetNet/dataset/images/val\n",
            "Copiado y renombrado: 03.jpg -> mandalay_1_1_003.jpg en NoHelmetNet/dataset/images/val\n",
            "Copiado y renombrado: 07.jpg -> mandalay_1_1_007.jpg en NoHelmetNet/dataset/images/val\n",
            "Copiado y renombrado: 45.jpg -> mandalay_1_1_045.jpg en NoHelmetNet/dataset/images/val\n",
            "Copiado y renombrado: 92.jpg -> mandalay_1_1_092.jpg en NoHelmetNet/dataset/images/val\n",
            "Copiado y renombrado: 32.jpg -> mandalay_1_1_032.jpg en NoHelmetNet/dataset/images/val\n",
            "Copiado y renombrado: 17.jpg -> mandalay_1_1_017.jpg en NoHelmetNet/dataset/images/val\n",
            "Copiado y renombrado: 37.jpg -> mandalay_1_1_037.jpg en NoHelmetNet/dataset/images/val\n",
            "Copiado y renombrado: 15.jpg -> mandalay_1_1_015.jpg en NoHelmetNet/dataset/images/val\n",
            "Copiado y renombrado: 81.jpg -> mandalay_1_1_081.jpg en NoHelmetNet/dataset/images/val\n",
            "Copiado y renombrado: 87.jpg -> mandalay_1_1_087.jpg en NoHelmetNet/dataset/images/val\n",
            "Copiado y renombrado: 22.jpg -> mandalay_1_1_022.jpg en NoHelmetNet/dataset/images/val\n",
            "Copiado y renombrado: 39.jpg -> mandalay_1_1_039.jpg en NoHelmetNet/dataset/images/val\n",
            "Copiado y renombrado: 14.jpg -> mandalay_1_1_014.jpg en NoHelmetNet/dataset/images/val\n",
            "Copiado y renombrado: 12.jpg -> mandalay_1_1_012.jpg en NoHelmetNet/dataset/images/val\n",
            "Copiado y renombrado: 82.jpg -> mandalay_1_1_082.jpg en NoHelmetNet/dataset/images/val\n",
            "Copiado y renombrado: 55.jpg -> mandalay_1_1_055.jpg en NoHelmetNet/dataset/images/val\n",
            "Copiado y renombrado: 41.jpg -> mandalay_1_1_041.jpg en NoHelmetNet/dataset/images/val\n",
            "Copiado y renombrado: 59.jpg -> mandalay_1_1_059.jpg en NoHelmetNet/dataset/images/val\n",
            "Copiado y renombrado: 48.jpg -> mandalay_1_1_048.jpg en NoHelmetNet/dataset/images/val\n",
            "Copiado y renombrado: 25.jpg -> mandalay_1_1_025.jpg en NoHelmetNet/dataset/images/val\n",
            "Copiado y renombrado: 38.jpg -> mandalay_1_1_038.jpg en NoHelmetNet/dataset/images/val\n",
            "Copiado y renombrado: 100.jpg -> mandalay_1_1_100.jpg en NoHelmetNet/dataset/images/val\n"
          ]
        }
      ]
    },
    {
      "cell_type": "code",
      "source": [
        "ruta_origen_anotaciones = 'NoHelmetNet/raw/Mandalay_1_1.csv'\n",
        "ruta_destino_anotaciones = 'NoHelmetNet/dataset/labels/val'\n",
        "image_width = 1920\n",
        "image_height = 1080\n",
        "prefijo = 'mandalay_1_1'\n",
        "csv_to_yolov8_txt(ruta_origen_anotaciones, ruta_destino_anotaciones, prefijo,image_width,image_height)"
      ],
      "metadata": {
        "colab": {
          "base_uri": "https://localhost:8080/"
        },
        "id": "WBSsnqwU28Qx",
        "outputId": "3826fd47-8922-4c60-c99f-21af6def2d45"
      },
      "execution_count": 19,
      "outputs": [
        {
          "output_type": "stream",
          "name": "stdout",
          "text": [
            "Annotaciones YOLOv8 generadas en NoHelmetNet/dataset/labels/val\n"
          ]
        }
      ]
    },
    {
      "cell_type": "code",
      "source": [
        "!git config --global user.email \"eiglesiasr@eafit.edu.co\""
      ],
      "metadata": {
        "id": "dT65MqXI3lP9"
      },
      "execution_count": 23,
      "outputs": []
    },
    {
      "cell_type": "code",
      "source": [
        "!cd /content/NoHelmetNet && git add -A && git commit -m \"add img & lbl yolo format\""
      ],
      "metadata": {
        "colab": {
          "base_uri": "https://localhost:8080/"
        },
        "id": "GEsM6OC03NLB",
        "outputId": "9236c6e8-7555-4c08-ae45-eff8bfc5d6c2"
      },
      "execution_count": 24,
      "outputs": [
        {
          "output_type": "stream",
          "name": "stdout",
          "text": [
            "[main a0aa281] add img & lbl yolo format\n",
            " 402 files changed, 857 insertions(+)\n",
            " create mode 100644 dataset/images/train/bago_highway_1_001.jpg\n",
            " create mode 100644 dataset/images/train/bago_highway_1_002.jpg\n",
            " create mode 100644 dataset/images/train/bago_highway_1_003.jpg\n",
            " create mode 100644 dataset/images/train/bago_highway_1_004.jpg\n",
            " create mode 100644 dataset/images/train/bago_highway_1_005.jpg\n",
            " create mode 100644 dataset/images/train/bago_highway_1_006.jpg\n",
            " create mode 100644 dataset/images/train/bago_highway_1_007.jpg\n",
            " create mode 100644 dataset/images/train/bago_highway_1_008.jpg\n",
            " create mode 100644 dataset/images/train/bago_highway_1_009.jpg\n",
            " create mode 100644 dataset/images/train/bago_highway_1_010.jpg\n",
            " create mode 100644 dataset/images/train/bago_highway_1_011.jpg\n",
            " create mode 100644 dataset/images/train/bago_highway_1_012.jpg\n",
            " create mode 100644 dataset/images/train/bago_highway_1_013.jpg\n",
            " create mode 100644 dataset/images/train/bago_highway_1_014.jpg\n",
            " create mode 100644 dataset/images/train/bago_highway_1_015.jpg\n",
            " create mode 100644 dataset/images/train/bago_highway_1_016.jpg\n",
            " create mode 100644 dataset/images/train/bago_highway_1_017.jpg\n",
            " create mode 100644 dataset/images/train/bago_highway_1_018.jpg\n",
            " create mode 100644 dataset/images/train/bago_highway_1_019.jpg\n",
            " create mode 100644 dataset/images/train/bago_highway_1_020.jpg\n",
            " create mode 100644 dataset/images/train/bago_highway_1_021.jpg\n",
            " create mode 100644 dataset/images/train/bago_highway_1_022.jpg\n",
            " create mode 100644 dataset/images/train/bago_highway_1_023.jpg\n",
            " create mode 100644 dataset/images/train/bago_highway_1_024.jpg\n",
            " create mode 100644 dataset/images/train/bago_highway_1_025.jpg\n",
            " create mode 100644 dataset/images/train/bago_highway_1_026.jpg\n",
            " create mode 100644 dataset/images/train/bago_highway_1_027.jpg\n",
            " create mode 100644 dataset/images/train/bago_highway_1_028.jpg\n",
            " create mode 100644 dataset/images/train/bago_highway_1_029.jpg\n",
            " create mode 100644 dataset/images/train/bago_highway_1_030.jpg\n",
            " create mode 100644 dataset/images/train/bago_highway_1_031.jpg\n",
            " create mode 100644 dataset/images/train/bago_highway_1_032.jpg\n",
            " create mode 100644 dataset/images/train/bago_highway_1_033.jpg\n",
            " create mode 100644 dataset/images/train/bago_highway_1_034.jpg\n",
            " create mode 100644 dataset/images/train/bago_highway_1_035.jpg\n",
            " create mode 100644 dataset/images/train/bago_highway_1_036.jpg\n",
            " create mode 100644 dataset/images/train/bago_highway_1_037.jpg\n",
            " create mode 100644 dataset/images/train/bago_highway_1_038.jpg\n",
            " create mode 100644 dataset/images/train/bago_highway_1_039.jpg\n",
            " create mode 100644 dataset/images/train/bago_highway_1_040.jpg\n",
            " create mode 100644 dataset/images/train/bago_highway_1_041.jpg\n",
            " create mode 100644 dataset/images/train/bago_highway_1_042.jpg\n",
            " create mode 100644 dataset/images/train/bago_highway_1_043.jpg\n",
            " create mode 100644 dataset/images/train/bago_highway_1_044.jpg\n",
            " create mode 100644 dataset/images/train/bago_highway_1_045.jpg\n",
            " create mode 100644 dataset/images/train/bago_highway_1_046.jpg\n",
            " create mode 100644 dataset/images/train/bago_highway_1_047.jpg\n",
            " create mode 100644 dataset/images/train/bago_highway_1_048.jpg\n",
            " create mode 100644 dataset/images/train/bago_highway_1_049.jpg\n",
            " create mode 100644 dataset/images/train/bago_highway_1_050.jpg\n",
            " create mode 100644 dataset/images/train/bago_highway_1_051.jpg\n",
            " create mode 100644 dataset/images/train/bago_highway_1_052.jpg\n",
            " create mode 100644 dataset/images/train/bago_highway_1_053.jpg\n",
            " create mode 100644 dataset/images/train/bago_highway_1_054.jpg\n",
            " create mode 100644 dataset/images/train/bago_highway_1_055.jpg\n",
            " create mode 100644 dataset/images/train/bago_highway_1_056.jpg\n",
            " create mode 100644 dataset/images/train/bago_highway_1_057.jpg\n",
            " create mode 100644 dataset/images/train/bago_highway_1_058.jpg\n",
            " create mode 100644 dataset/images/train/bago_highway_1_059.jpg\n",
            " create mode 100644 dataset/images/train/bago_highway_1_060.jpg\n",
            " create mode 100644 dataset/images/train/bago_highway_1_061.jpg\n",
            " create mode 100644 dataset/images/train/bago_highway_1_062.jpg\n",
            " create mode 100644 dataset/images/train/bago_highway_1_063.jpg\n",
            " create mode 100644 dataset/images/train/bago_highway_1_064.jpg\n",
            " create mode 100644 dataset/images/train/bago_highway_1_065.jpg\n",
            " create mode 100644 dataset/images/train/bago_highway_1_066.jpg\n",
            " create mode 100644 dataset/images/train/bago_highway_1_067.jpg\n",
            " create mode 100644 dataset/images/train/bago_highway_1_068.jpg\n",
            " create mode 100644 dataset/images/train/bago_highway_1_069.jpg\n",
            " create mode 100644 dataset/images/train/bago_highway_1_070.jpg\n",
            " create mode 100644 dataset/images/train/bago_highway_1_071.jpg\n",
            " create mode 100644 dataset/images/train/bago_highway_1_072.jpg\n",
            " create mode 100644 dataset/images/train/bago_highway_1_073.jpg\n",
            " create mode 100644 dataset/images/train/bago_highway_1_074.jpg\n",
            " create mode 100644 dataset/images/train/bago_highway_1_075.jpg\n",
            " create mode 100644 dataset/images/train/bago_highway_1_076.jpg\n",
            " create mode 100644 dataset/images/train/bago_highway_1_077.jpg\n",
            " create mode 100644 dataset/images/train/bago_highway_1_078.jpg\n",
            " create mode 100644 dataset/images/train/bago_highway_1_079.jpg\n",
            " create mode 100644 dataset/images/train/bago_highway_1_080.jpg\n",
            " create mode 100644 dataset/images/train/bago_highway_1_081.jpg\n",
            " create mode 100644 dataset/images/train/bago_highway_1_082.jpg\n",
            " create mode 100644 dataset/images/train/bago_highway_1_083.jpg\n",
            " create mode 100644 dataset/images/train/bago_highway_1_084.jpg\n",
            " create mode 100644 dataset/images/train/bago_highway_1_085.jpg\n",
            " create mode 100644 dataset/images/train/bago_highway_1_086.jpg\n",
            " create mode 100644 dataset/images/train/bago_highway_1_087.jpg\n",
            " create mode 100644 dataset/images/train/bago_highway_1_088.jpg\n",
            " create mode 100644 dataset/images/train/bago_highway_1_089.jpg\n",
            " create mode 100644 dataset/images/train/bago_highway_1_090.jpg\n",
            " create mode 100644 dataset/images/train/bago_highway_1_091.jpg\n",
            " create mode 100644 dataset/images/train/bago_highway_1_092.jpg\n",
            " create mode 100644 dataset/images/train/bago_highway_1_093.jpg\n",
            " create mode 100644 dataset/images/train/bago_highway_1_094.jpg\n",
            " create mode 100644 dataset/images/train/bago_highway_1_095.jpg\n",
            " create mode 100644 dataset/images/train/bago_highway_1_096.jpg\n",
            " create mode 100644 dataset/images/train/bago_highway_1_097.jpg\n",
            " create mode 100644 dataset/images/train/bago_highway_1_098.jpg\n",
            " create mode 100644 dataset/images/train/bago_highway_1_099.jpg\n",
            " create mode 100644 dataset/images/train/bago_highway_1_100.jpg\n",
            " create mode 100644 dataset/images/val/mandalay_1_1_001.jpg\n",
            " create mode 100644 dataset/images/val/mandalay_1_1_002.jpg\n",
            " create mode 100644 dataset/images/val/mandalay_1_1_003.jpg\n",
            " create mode 100644 dataset/images/val/mandalay_1_1_004.jpg\n",
            " create mode 100644 dataset/images/val/mandalay_1_1_005.jpg\n",
            " create mode 100644 dataset/images/val/mandalay_1_1_006.jpg\n",
            " create mode 100644 dataset/images/val/mandalay_1_1_007.jpg\n",
            " create mode 100644 dataset/images/val/mandalay_1_1_008.jpg\n",
            " create mode 100644 dataset/images/val/mandalay_1_1_009.jpg\n",
            " create mode 100644 dataset/images/val/mandalay_1_1_010.jpg\n",
            " create mode 100644 dataset/images/val/mandalay_1_1_011.jpg\n",
            " create mode 100644 dataset/images/val/mandalay_1_1_012.jpg\n",
            " create mode 100644 dataset/images/val/mandalay_1_1_013.jpg\n",
            " create mode 100644 dataset/images/val/mandalay_1_1_014.jpg\n",
            " create mode 100644 dataset/images/val/mandalay_1_1_015.jpg\n",
            " create mode 100644 dataset/images/val/mandalay_1_1_016.jpg\n",
            " create mode 100644 dataset/images/val/mandalay_1_1_017.jpg\n",
            " create mode 100644 dataset/images/val/mandalay_1_1_018.jpg\n",
            " create mode 100644 dataset/images/val/mandalay_1_1_019.jpg\n",
            " create mode 100644 dataset/images/val/mandalay_1_1_020.jpg\n",
            " create mode 100644 dataset/images/val/mandalay_1_1_021.jpg\n",
            " create mode 100644 dataset/images/val/mandalay_1_1_022.jpg\n",
            " create mode 100644 dataset/images/val/mandalay_1_1_023.jpg\n",
            " create mode 100644 dataset/images/val/mandalay_1_1_024.jpg\n",
            " create mode 100644 dataset/images/val/mandalay_1_1_025.jpg\n",
            " create mode 100644 dataset/images/val/mandalay_1_1_026.jpg\n",
            " create mode 100644 dataset/images/val/mandalay_1_1_027.jpg\n",
            " create mode 100644 dataset/images/val/mandalay_1_1_028.jpg\n",
            " create mode 100644 dataset/images/val/mandalay_1_1_029.jpg\n",
            " create mode 100644 dataset/images/val/mandalay_1_1_030.jpg\n",
            " create mode 100644 dataset/images/val/mandalay_1_1_031.jpg\n",
            " create mode 100644 dataset/images/val/mandalay_1_1_032.jpg\n",
            " create mode 100644 dataset/images/val/mandalay_1_1_033.jpg\n",
            " create mode 100644 dataset/images/val/mandalay_1_1_034.jpg\n",
            " create mode 100644 dataset/images/val/mandalay_1_1_035.jpg\n",
            " create mode 100644 dataset/images/val/mandalay_1_1_036.jpg\n",
            " create mode 100644 dataset/images/val/mandalay_1_1_037.jpg\n",
            " create mode 100644 dataset/images/val/mandalay_1_1_038.jpg\n",
            " create mode 100644 dataset/images/val/mandalay_1_1_039.jpg\n",
            " create mode 100644 dataset/images/val/mandalay_1_1_040.jpg\n",
            " create mode 100644 dataset/images/val/mandalay_1_1_041.jpg\n",
            " create mode 100644 dataset/images/val/mandalay_1_1_042.jpg\n",
            " create mode 100644 dataset/images/val/mandalay_1_1_043.jpg\n",
            " create mode 100644 dataset/images/val/mandalay_1_1_044.jpg\n",
            " create mode 100644 dataset/images/val/mandalay_1_1_045.jpg\n",
            " create mode 100644 dataset/images/val/mandalay_1_1_046.jpg\n",
            " create mode 100644 dataset/images/val/mandalay_1_1_047.jpg\n",
            " create mode 100644 dataset/images/val/mandalay_1_1_048.jpg\n",
            " create mode 100644 dataset/images/val/mandalay_1_1_049.jpg\n",
            " create mode 100644 dataset/images/val/mandalay_1_1_050.jpg\n",
            " create mode 100644 dataset/images/val/mandalay_1_1_051.jpg\n",
            " create mode 100644 dataset/images/val/mandalay_1_1_052.jpg\n",
            " create mode 100644 dataset/images/val/mandalay_1_1_053.jpg\n",
            " create mode 100644 dataset/images/val/mandalay_1_1_054.jpg\n",
            " create mode 100644 dataset/images/val/mandalay_1_1_055.jpg\n",
            " create mode 100644 dataset/images/val/mandalay_1_1_056.jpg\n",
            " create mode 100644 dataset/images/val/mandalay_1_1_057.jpg\n",
            " create mode 100644 dataset/images/val/mandalay_1_1_058.jpg\n",
            " create mode 100644 dataset/images/val/mandalay_1_1_059.jpg\n",
            " create mode 100644 dataset/images/val/mandalay_1_1_060.jpg\n",
            " create mode 100644 dataset/images/val/mandalay_1_1_061.jpg\n",
            " create mode 100644 dataset/images/val/mandalay_1_1_062.jpg\n",
            " create mode 100644 dataset/images/val/mandalay_1_1_063.jpg\n",
            " create mode 100644 dataset/images/val/mandalay_1_1_064.jpg\n",
            " create mode 100644 dataset/images/val/mandalay_1_1_065.jpg\n",
            " create mode 100644 dataset/images/val/mandalay_1_1_066.jpg\n",
            " create mode 100644 dataset/images/val/mandalay_1_1_067.jpg\n",
            " create mode 100644 dataset/images/val/mandalay_1_1_068.jpg\n",
            " create mode 100644 dataset/images/val/mandalay_1_1_069.jpg\n",
            " create mode 100644 dataset/images/val/mandalay_1_1_070.jpg\n",
            " create mode 100644 dataset/images/val/mandalay_1_1_071.jpg\n",
            " create mode 100644 dataset/images/val/mandalay_1_1_072.jpg\n",
            " create mode 100644 dataset/images/val/mandalay_1_1_073.jpg\n",
            " create mode 100644 dataset/images/val/mandalay_1_1_074.jpg\n",
            " create mode 100644 dataset/images/val/mandalay_1_1_075.jpg\n",
            " create mode 100644 dataset/images/val/mandalay_1_1_076.jpg\n",
            " create mode 100644 dataset/images/val/mandalay_1_1_077.jpg\n",
            " create mode 100644 dataset/images/val/mandalay_1_1_078.jpg\n",
            " create mode 100644 dataset/images/val/mandalay_1_1_079.jpg\n",
            " create mode 100644 dataset/images/val/mandalay_1_1_080.jpg\n",
            " create mode 100644 dataset/images/val/mandalay_1_1_081.jpg\n",
            " create mode 100644 dataset/images/val/mandalay_1_1_082.jpg\n",
            " create mode 100644 dataset/images/val/mandalay_1_1_083.jpg\n",
            " create mode 100644 dataset/images/val/mandalay_1_1_084.jpg\n",
            " create mode 100644 dataset/images/val/mandalay_1_1_085.jpg\n",
            " create mode 100644 dataset/images/val/mandalay_1_1_086.jpg\n",
            " create mode 100644 dataset/images/val/mandalay_1_1_087.jpg\n",
            " create mode 100644 dataset/images/val/mandalay_1_1_088.jpg\n",
            " create mode 100644 dataset/images/val/mandalay_1_1_089.jpg\n",
            " create mode 100644 dataset/images/val/mandalay_1_1_090.jpg\n",
            " create mode 100644 dataset/images/val/mandalay_1_1_091.jpg\n",
            " create mode 100644 dataset/images/val/mandalay_1_1_092.jpg\n",
            " create mode 100644 dataset/images/val/mandalay_1_1_093.jpg\n",
            " create mode 100644 dataset/images/val/mandalay_1_1_094.jpg\n",
            " create mode 100644 dataset/images/val/mandalay_1_1_095.jpg\n",
            " create mode 100644 dataset/images/val/mandalay_1_1_096.jpg\n",
            " create mode 100644 dataset/images/val/mandalay_1_1_097.jpg\n",
            " create mode 100644 dataset/images/val/mandalay_1_1_098.jpg\n",
            " create mode 100644 dataset/images/val/mandalay_1_1_099.jpg\n",
            " create mode 100644 dataset/images/val/mandalay_1_1_100.jpg\n",
            " create mode 100644 dataset/labels/train/bago_highway_1_001.txt\n",
            " create mode 100644 dataset/labels/train/bago_highway_1_002.txt\n",
            " create mode 100644 dataset/labels/train/bago_highway_1_003.txt\n",
            " create mode 100644 dataset/labels/train/bago_highway_1_004.txt\n",
            " create mode 100644 dataset/labels/train/bago_highway_1_005.txt\n",
            " create mode 100644 dataset/labels/train/bago_highway_1_006.txt\n",
            " create mode 100644 dataset/labels/train/bago_highway_1_007.txt\n",
            " create mode 100644 dataset/labels/train/bago_highway_1_008.txt\n",
            " create mode 100644 dataset/labels/train/bago_highway_1_009.txt\n",
            " create mode 100644 dataset/labels/train/bago_highway_1_010.txt\n",
            " create mode 100644 dataset/labels/train/bago_highway_1_011.txt\n",
            " create mode 100644 dataset/labels/train/bago_highway_1_012.txt\n",
            " create mode 100644 dataset/labels/train/bago_highway_1_013.txt\n",
            " create mode 100644 dataset/labels/train/bago_highway_1_014.txt\n",
            " create mode 100644 dataset/labels/train/bago_highway_1_015.txt\n",
            " create mode 100644 dataset/labels/train/bago_highway_1_016.txt\n",
            " create mode 100644 dataset/labels/train/bago_highway_1_017.txt\n",
            " create mode 100644 dataset/labels/train/bago_highway_1_018.txt\n",
            " create mode 100644 dataset/labels/train/bago_highway_1_019.txt\n",
            " create mode 100644 dataset/labels/train/bago_highway_1_020.txt\n",
            " create mode 100644 dataset/labels/train/bago_highway_1_021.txt\n",
            " create mode 100644 dataset/labels/train/bago_highway_1_022.txt\n",
            " create mode 100644 dataset/labels/train/bago_highway_1_023.txt\n",
            " create mode 100644 dataset/labels/train/bago_highway_1_024.txt\n",
            " create mode 100644 dataset/labels/train/bago_highway_1_025.txt\n",
            " create mode 100644 dataset/labels/train/bago_highway_1_026.txt\n",
            " create mode 100644 dataset/labels/train/bago_highway_1_027.txt\n",
            " create mode 100644 dataset/labels/train/bago_highway_1_028.txt\n",
            " create mode 100644 dataset/labels/train/bago_highway_1_029.txt\n",
            " create mode 100644 dataset/labels/train/bago_highway_1_030.txt\n",
            " create mode 100644 dataset/labels/train/bago_highway_1_031.txt\n",
            " create mode 100644 dataset/labels/train/bago_highway_1_032.txt\n",
            " create mode 100644 dataset/labels/train/bago_highway_1_033.txt\n",
            " create mode 100644 dataset/labels/train/bago_highway_1_034.txt\n",
            " create mode 100644 dataset/labels/train/bago_highway_1_035.txt\n",
            " create mode 100644 dataset/labels/train/bago_highway_1_036.txt\n",
            " create mode 100644 dataset/labels/train/bago_highway_1_037.txt\n",
            " create mode 100644 dataset/labels/train/bago_highway_1_038.txt\n",
            " create mode 100644 dataset/labels/train/bago_highway_1_039.txt\n",
            " create mode 100644 dataset/labels/train/bago_highway_1_040.txt\n",
            " create mode 100644 dataset/labels/train/bago_highway_1_041.txt\n",
            " create mode 100644 dataset/labels/train/bago_highway_1_042.txt\n",
            " create mode 100644 dataset/labels/train/bago_highway_1_043.txt\n",
            " create mode 100644 dataset/labels/train/bago_highway_1_044.txt\n",
            " create mode 100644 dataset/labels/train/bago_highway_1_045.txt\n",
            " create mode 100644 dataset/labels/train/bago_highway_1_046.txt\n",
            " create mode 100644 dataset/labels/train/bago_highway_1_047.txt\n",
            " create mode 100644 dataset/labels/train/bago_highway_1_048.txt\n",
            " create mode 100644 dataset/labels/train/bago_highway_1_049.txt\n",
            " create mode 100644 dataset/labels/train/bago_highway_1_050.txt\n",
            " create mode 100644 dataset/labels/train/bago_highway_1_051.txt\n",
            " create mode 100644 dataset/labels/train/bago_highway_1_052.txt\n",
            " create mode 100644 dataset/labels/train/bago_highway_1_053.txt\n",
            " create mode 100644 dataset/labels/train/bago_highway_1_054.txt\n",
            " create mode 100644 dataset/labels/train/bago_highway_1_055.txt\n",
            " create mode 100644 dataset/labels/train/bago_highway_1_056.txt\n",
            " create mode 100644 dataset/labels/train/bago_highway_1_057.txt\n",
            " create mode 100644 dataset/labels/train/bago_highway_1_058.txt\n",
            " create mode 100644 dataset/labels/train/bago_highway_1_059.txt\n",
            " create mode 100644 dataset/labels/train/bago_highway_1_060.txt\n",
            " create mode 100644 dataset/labels/train/bago_highway_1_061.txt\n",
            " create mode 100644 dataset/labels/train/bago_highway_1_062.txt\n",
            " create mode 100644 dataset/labels/train/bago_highway_1_063.txt\n",
            " create mode 100644 dataset/labels/train/bago_highway_1_064.txt\n",
            " create mode 100644 dataset/labels/train/bago_highway_1_065.txt\n",
            " create mode 100644 dataset/labels/train/bago_highway_1_066.txt\n",
            " create mode 100644 dataset/labels/train/bago_highway_1_067.txt\n",
            " create mode 100644 dataset/labels/train/bago_highway_1_068.txt\n",
            " create mode 100644 dataset/labels/train/bago_highway_1_069.txt\n",
            " create mode 100644 dataset/labels/train/bago_highway_1_070.txt\n",
            " create mode 100644 dataset/labels/train/bago_highway_1_071.txt\n",
            " create mode 100644 dataset/labels/train/bago_highway_1_072.txt\n",
            " create mode 100644 dataset/labels/train/bago_highway_1_073.txt\n",
            " create mode 100644 dataset/labels/train/bago_highway_1_074.txt\n",
            " create mode 100644 dataset/labels/train/bago_highway_1_075.txt\n",
            " create mode 100644 dataset/labels/train/bago_highway_1_076.txt\n",
            " create mode 100644 dataset/labels/train/bago_highway_1_077.txt\n",
            " create mode 100644 dataset/labels/train/bago_highway_1_078.txt\n",
            " create mode 100644 dataset/labels/train/bago_highway_1_079.txt\n",
            " create mode 100644 dataset/labels/train/bago_highway_1_080.txt\n",
            " create mode 100644 dataset/labels/train/bago_highway_1_081.txt\n",
            " create mode 100644 dataset/labels/train/bago_highway_1_082.txt\n",
            " create mode 100644 dataset/labels/train/bago_highway_1_083.txt\n",
            " create mode 100644 dataset/labels/train/bago_highway_1_084.txt\n",
            " create mode 100644 dataset/labels/train/bago_highway_1_085.txt\n",
            " create mode 100644 dataset/labels/train/bago_highway_1_086.txt\n",
            " create mode 100644 dataset/labels/train/bago_highway_1_087.txt\n",
            " create mode 100644 dataset/labels/train/bago_highway_1_088.txt\n",
            " create mode 100644 dataset/labels/train/bago_highway_1_089.txt\n",
            " create mode 100644 dataset/labels/train/bago_highway_1_090.txt\n",
            " create mode 100644 dataset/labels/train/bago_highway_1_091.txt\n",
            " create mode 100644 dataset/labels/train/bago_highway_1_092.txt\n",
            " create mode 100644 dataset/labels/train/bago_highway_1_093.txt\n",
            " create mode 100644 dataset/labels/train/bago_highway_1_094.txt\n",
            " create mode 100644 dataset/labels/train/bago_highway_1_095.txt\n",
            " create mode 100644 dataset/labels/train/bago_highway_1_096.txt\n",
            " create mode 100644 dataset/labels/train/bago_highway_1_097.txt\n",
            " create mode 100644 dataset/labels/train/bago_highway_1_098.txt\n",
            " create mode 100644 dataset/labels/train/bago_highway_1_099.txt\n",
            " create mode 100644 dataset/labels/train/bago_highway_1_100.txt\n",
            " create mode 100644 dataset/labels/val/mandalay_1_1_001.txt\n",
            " create mode 100644 dataset/labels/val/mandalay_1_1_002.txt\n",
            " create mode 100644 dataset/labels/val/mandalay_1_1_003.txt\n",
            " create mode 100644 dataset/labels/val/mandalay_1_1_004.txt\n",
            " create mode 100644 dataset/labels/val/mandalay_1_1_005.txt\n",
            " create mode 100644 dataset/labels/val/mandalay_1_1_006.txt\n",
            " create mode 100644 dataset/labels/val/mandalay_1_1_007.txt\n",
            " create mode 100644 dataset/labels/val/mandalay_1_1_008.txt\n",
            " create mode 100644 dataset/labels/val/mandalay_1_1_009.txt\n",
            " create mode 100644 dataset/labels/val/mandalay_1_1_010.txt\n",
            " create mode 100644 dataset/labels/val/mandalay_1_1_011.txt\n",
            " create mode 100644 dataset/labels/val/mandalay_1_1_012.txt\n",
            " create mode 100644 dataset/labels/val/mandalay_1_1_013.txt\n",
            " create mode 100644 dataset/labels/val/mandalay_1_1_014.txt\n",
            " create mode 100644 dataset/labels/val/mandalay_1_1_015.txt\n",
            " create mode 100644 dataset/labels/val/mandalay_1_1_016.txt\n",
            " create mode 100644 dataset/labels/val/mandalay_1_1_017.txt\n",
            " create mode 100644 dataset/labels/val/mandalay_1_1_018.txt\n",
            " create mode 100644 dataset/labels/val/mandalay_1_1_019.txt\n",
            " create mode 100644 dataset/labels/val/mandalay_1_1_020.txt\n",
            " create mode 100644 dataset/labels/val/mandalay_1_1_021.txt\n",
            " create mode 100644 dataset/labels/val/mandalay_1_1_022.txt\n",
            " create mode 100644 dataset/labels/val/mandalay_1_1_023.txt\n",
            " create mode 100644 dataset/labels/val/mandalay_1_1_024.txt\n",
            " create mode 100644 dataset/labels/val/mandalay_1_1_025.txt\n",
            " create mode 100644 dataset/labels/val/mandalay_1_1_026.txt\n",
            " create mode 100644 dataset/labels/val/mandalay_1_1_027.txt\n",
            " create mode 100644 dataset/labels/val/mandalay_1_1_028.txt\n",
            " create mode 100644 dataset/labels/val/mandalay_1_1_029.txt\n",
            " create mode 100644 dataset/labels/val/mandalay_1_1_030.txt\n",
            " create mode 100644 dataset/labels/val/mandalay_1_1_031.txt\n",
            " create mode 100644 dataset/labels/val/mandalay_1_1_032.txt\n",
            " create mode 100644 dataset/labels/val/mandalay_1_1_033.txt\n",
            " create mode 100644 dataset/labels/val/mandalay_1_1_034.txt\n",
            " create mode 100644 dataset/labels/val/mandalay_1_1_035.txt\n",
            " create mode 100644 dataset/labels/val/mandalay_1_1_036.txt\n",
            " create mode 100644 dataset/labels/val/mandalay_1_1_037.txt\n",
            " create mode 100644 dataset/labels/val/mandalay_1_1_038.txt\n",
            " create mode 100644 dataset/labels/val/mandalay_1_1_039.txt\n",
            " create mode 100644 dataset/labels/val/mandalay_1_1_040.txt\n",
            " create mode 100644 dataset/labels/val/mandalay_1_1_041.txt\n",
            " create mode 100644 dataset/labels/val/mandalay_1_1_042.txt\n",
            " create mode 100644 dataset/labels/val/mandalay_1_1_043.txt\n",
            " create mode 100644 dataset/labels/val/mandalay_1_1_044.txt\n",
            " create mode 100644 dataset/labels/val/mandalay_1_1_045.txt\n",
            " create mode 100644 dataset/labels/val/mandalay_1_1_046.txt\n",
            " create mode 100644 dataset/labels/val/mandalay_1_1_047.txt\n",
            " create mode 100644 dataset/labels/val/mandalay_1_1_048.txt\n",
            " create mode 100644 dataset/labels/val/mandalay_1_1_049.txt\n",
            " create mode 100644 dataset/labels/val/mandalay_1_1_050.txt\n",
            " create mode 100644 dataset/labels/val/mandalay_1_1_051.txt\n",
            " create mode 100644 dataset/labels/val/mandalay_1_1_052.txt\n",
            " create mode 100644 dataset/labels/val/mandalay_1_1_053.txt\n",
            " create mode 100644 dataset/labels/val/mandalay_1_1_054.txt\n",
            " create mode 100644 dataset/labels/val/mandalay_1_1_055.txt\n",
            " create mode 100644 dataset/labels/val/mandalay_1_1_056.txt\n",
            " create mode 100644 dataset/labels/val/mandalay_1_1_057.txt\n",
            " create mode 100644 dataset/labels/val/mandalay_1_1_058.txt\n",
            " create mode 100644 dataset/labels/val/mandalay_1_1_059.txt\n",
            " create mode 100644 dataset/labels/val/mandalay_1_1_060.txt\n",
            " create mode 100644 dataset/labels/val/mandalay_1_1_061.txt\n",
            " create mode 100644 dataset/labels/val/mandalay_1_1_062.txt\n",
            " create mode 100644 dataset/labels/val/mandalay_1_1_063.txt\n",
            " create mode 100644 dataset/labels/val/mandalay_1_1_064.txt\n",
            " create mode 100644 dataset/labels/val/mandalay_1_1_065.txt\n",
            " create mode 100644 dataset/labels/val/mandalay_1_1_066.txt\n",
            " create mode 100644 dataset/labels/val/mandalay_1_1_067.txt\n",
            " create mode 100644 dataset/labels/val/mandalay_1_1_068.txt\n",
            " create mode 100644 dataset/labels/val/mandalay_1_1_069.txt\n",
            " create mode 100644 dataset/labels/val/mandalay_1_1_070.txt\n",
            " create mode 100644 dataset/labels/val/mandalay_1_1_071.txt\n",
            " create mode 100644 dataset/labels/val/mandalay_1_1_072.txt\n",
            " create mode 100644 dataset/labels/val/mandalay_1_1_073.txt\n",
            " create mode 100644 dataset/labels/val/mandalay_1_1_074.txt\n",
            " create mode 100644 dataset/labels/val/mandalay_1_1_075.txt\n",
            " create mode 100644 dataset/labels/val/mandalay_1_1_076.txt\n",
            " create mode 100644 dataset/labels/val/mandalay_1_1_077.txt\n",
            " create mode 100644 dataset/labels/val/mandalay_1_1_078.txt\n",
            " create mode 100644 dataset/labels/val/mandalay_1_1_079.txt\n",
            " create mode 100644 dataset/labels/val/mandalay_1_1_080.txt\n",
            " create mode 100644 dataset/labels/val/mandalay_1_1_081.txt\n",
            " create mode 100644 dataset/labels/val/mandalay_1_1_082.txt\n",
            " create mode 100644 dataset/labels/val/mandalay_1_1_083.txt\n",
            " create mode 100644 dataset/labels/val/mandalay_1_1_084.txt\n",
            " create mode 100644 dataset/labels/val/mandalay_1_1_085.txt\n",
            " create mode 100644 dataset/labels/val/mandalay_1_1_086.txt\n",
            " create mode 100644 dataset/labels/val/mandalay_1_1_087.txt\n",
            " create mode 100644 dataset/labels/val/mandalay_1_1_088.txt\n",
            " create mode 100644 dataset/labels/val/mandalay_1_1_089.txt\n",
            " create mode 100644 dataset/labels/val/mandalay_1_1_090.txt\n",
            " create mode 100644 dataset/labels/val/mandalay_1_1_091.txt\n",
            " create mode 100644 dataset/labels/val/mandalay_1_1_092.txt\n",
            " create mode 100644 dataset/labels/val/mandalay_1_1_093.txt\n",
            " create mode 100644 dataset/labels/val/mandalay_1_1_094.txt\n",
            " create mode 100644 dataset/labels/val/mandalay_1_1_095.txt\n",
            " create mode 100644 dataset/labels/val/mandalay_1_1_096.txt\n",
            " create mode 100644 dataset/labels/val/mandalay_1_1_097.txt\n",
            " create mode 100644 dataset/labels/val/mandalay_1_1_098.txt\n",
            " create mode 100644 dataset/labels/val/mandalay_1_1_099.txt\n",
            " create mode 100644 dataset/labels/val/mandalay_1_1_100.txt\n",
            " create mode 100644 src/.txt\n",
            " create mode 100644 src/1.txt\n"
          ]
        }
      ]
    },
    {
      "cell_type": "code",
      "source": [
        "!cd /content/NoHelmetNet && git status"
      ],
      "metadata": {
        "colab": {
          "base_uri": "https://localhost:8080/"
        },
        "id": "BPfP30B83nlk",
        "outputId": "f0249f92-9cc9-4c2c-853b-85a265e21340"
      },
      "execution_count": 25,
      "outputs": [
        {
          "output_type": "stream",
          "name": "stdout",
          "text": [
            "On branch main\n",
            "Your branch is ahead of 'origin/main' by 1 commit.\n",
            "  (use \"git push\" to publish your local commits)\n",
            "\n",
            "nothing to commit, working tree clean\n"
          ]
        }
      ]
    },
    {
      "cell_type": "code",
      "source": [
        "!cd /content/NoHelmetNet && git push https://token@github.com/eiglesiasr/NoHelmetNet.git"
      ],
      "metadata": {
        "colab": {
          "base_uri": "https://localhost:8080/"
        },
        "id": "hAunhRtA3qiU",
        "outputId": "765e3dad-52eb-4ee0-a403-9aa95a617c63"
      },
      "execution_count": 26,
      "outputs": [
        {
          "output_type": "stream",
          "name": "stdout",
          "text": [
            "Enumerating objects: 412, done.\n",
            "Counting objects:   0% (1/412)\rCounting objects:   1% (5/412)\rCounting objects:   2% (9/412)\rCounting objects:   3% (13/412)\rCounting objects:   4% (17/412)\rCounting objects:   5% (21/412)\rCounting objects:   6% (25/412)\rCounting objects:   7% (29/412)\rCounting objects:   8% (33/412)\rCounting objects:   9% (38/412)\rCounting objects:  10% (42/412)\rCounting objects:  11% (46/412)\rCounting objects:  12% (50/412)\rCounting objects:  13% (54/412)\rCounting objects:  14% (58/412)\rCounting objects:  15% (62/412)\rCounting objects:  16% (66/412)\rCounting objects:  17% (71/412)\rCounting objects:  18% (75/412)\rCounting objects:  19% (79/412)\rCounting objects:  20% (83/412)\rCounting objects:  21% (87/412)\rCounting objects:  22% (91/412)\rCounting objects:  23% (95/412)\rCounting objects:  24% (99/412)\rCounting objects:  25% (103/412)\rCounting objects:  26% (108/412)\rCounting objects:  27% (112/412)\rCounting objects:  28% (116/412)\rCounting objects:  29% (120/412)\rCounting objects:  30% (124/412)\rCounting objects:  31% (128/412)\rCounting objects:  32% (132/412)\rCounting objects:  33% (136/412)\rCounting objects:  34% (141/412)\rCounting objects:  35% (145/412)\rCounting objects:  36% (149/412)\rCounting objects:  37% (153/412)\rCounting objects:  38% (157/412)\rCounting objects:  39% (161/412)\rCounting objects:  40% (165/412)\rCounting objects:  41% (169/412)\rCounting objects:  42% (174/412)\rCounting objects:  43% (178/412)\rCounting objects:  44% (182/412)\rCounting objects:  45% (186/412)\rCounting objects:  46% (190/412)\rCounting objects:  47% (194/412)\rCounting objects:  48% (198/412)\rCounting objects:  49% (202/412)\rCounting objects:  50% (206/412)\rCounting objects:  51% (211/412)\rCounting objects:  52% (215/412)\rCounting objects:  53% (219/412)\rCounting objects:  54% (223/412)\rCounting objects:  55% (227/412)\rCounting objects:  56% (231/412)\rCounting objects:  57% (235/412)\rCounting objects:  58% (239/412)\rCounting objects:  59% (244/412)\rCounting objects:  60% (248/412)\rCounting objects:  61% (252/412)\rCounting objects:  62% (256/412)\rCounting objects:  63% (260/412)\rCounting objects:  64% (264/412)\rCounting objects:  65% (268/412)\rCounting objects:  66% (272/412)\rCounting objects:  67% (277/412)\rCounting objects:  68% (281/412)\rCounting objects:  69% (285/412)\rCounting objects:  70% (289/412)\rCounting objects:  71% (293/412)\rCounting objects:  72% (297/412)\rCounting objects:  73% (301/412)\rCounting objects:  74% (305/412)\rCounting objects:  75% (309/412)\rCounting objects:  76% (314/412)\rCounting objects:  77% (318/412)\rCounting objects:  78% (322/412)\rCounting objects:  79% (326/412)\rCounting objects:  80% (330/412)\rCounting objects:  81% (334/412)\rCounting objects:  82% (338/412)\rCounting objects:  83% (342/412)\rCounting objects:  84% (347/412)\rCounting objects:  85% (351/412)\rCounting objects:  86% (355/412)\rCounting objects:  87% (359/412)\rCounting objects:  88% (363/412)\rCounting objects:  89% (367/412)\rCounting objects:  90% (371/412)\rCounting objects:  91% (375/412)\rCounting objects:  92% (380/412)\rCounting objects:  93% (384/412)\rCounting objects:  94% (388/412)\rCounting objects:  95% (392/412)\rCounting objects:  96% (396/412)\rCounting objects:  97% (400/412)\rCounting objects:  98% (404/412)\rCounting objects:  99% (408/412)\rCounting objects: 100% (412/412)\rCounting objects: 100% (412/412), done.\n",
            "Delta compression using up to 2 threads\n",
            "Compressing objects: 100% (406/406), done.\n",
            "Writing objects: 100% (410/410), 57.17 MiB | 28.71 MiB/s, done.\n",
            "Total 410 (delta 0), reused 200 (delta 0), pack-reused 0\n",
            "To https://github.com/eiglesiasr/NoHelmetNet.git\n",
            "   bd20ef1..a0aa281  main -> main\n"
          ]
        }
      ]
    }
  ]
}