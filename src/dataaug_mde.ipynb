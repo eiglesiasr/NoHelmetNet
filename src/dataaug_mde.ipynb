{
 "cells": [
  {
   "cell_type": "code",
   "execution_count": 1,
   "id": "16b4258f",
   "metadata": {},
   "outputs": [
    {
     "name": "stdout",
     "output_type": "stream",
     "text": [
      "Collecting albumentations\n",
      "  Downloading albumentations-2.0.8-py3-none-any.whl.metadata (43 kB)\n",
      "Requirement already satisfied: opencv-python in c:\\users\\123\\anaconda3\\envs\\ema\\lib\\site-packages (4.11.0.86)\n",
      "Requirement already satisfied: numpy>=1.24.4 in c:\\users\\123\\anaconda3\\envs\\ema\\lib\\site-packages (from albumentations) (1.26.4)\n",
      "Requirement already satisfied: scipy>=1.10.0 in c:\\users\\123\\anaconda3\\envs\\ema\\lib\\site-packages (from albumentations) (1.13.1)\n",
      "Requirement already satisfied: PyYAML in c:\\users\\123\\anaconda3\\envs\\ema\\lib\\site-packages (from albumentations) (6.0.2)\n",
      "Requirement already satisfied: typing-extensions>=4.9.0 in c:\\users\\123\\anaconda3\\envs\\ema\\lib\\site-packages (from albumentations) (4.12.2)\n",
      "Requirement already satisfied: pydantic>=2.9.2 in c:\\users\\123\\anaconda3\\envs\\ema\\lib\\site-packages (from albumentations) (2.11.5)\n",
      "Collecting albucore==0.0.24 (from albumentations)\n",
      "  Downloading albucore-0.0.24-py3-none-any.whl.metadata (5.3 kB)\n",
      "Collecting eval-type-backport (from albumentations)\n",
      "  Downloading eval_type_backport-0.2.2-py3-none-any.whl.metadata (2.2 kB)\n",
      "Collecting opencv-python-headless>=4.9.0.80 (from albumentations)\n",
      "  Downloading opencv_python_headless-4.11.0.86-cp37-abi3-win_amd64.whl.metadata (20 kB)\n",
      "Collecting stringzilla>=3.10.4 (from albucore==0.0.24->albumentations)\n",
      "  Downloading stringzilla-3.12.5-cp39-cp39-win_amd64.whl.metadata (81 kB)\n",
      "Collecting simsimd>=5.9.2 (from albucore==0.0.24->albumentations)\n",
      "  Downloading simsimd-6.2.1-cp39-cp39-win_amd64.whl.metadata (67 kB)\n",
      "Requirement already satisfied: annotated-types>=0.6.0 in c:\\users\\123\\anaconda3\\envs\\ema\\lib\\site-packages (from pydantic>=2.9.2->albumentations) (0.7.0)\n",
      "Requirement already satisfied: pydantic-core==2.33.2 in c:\\users\\123\\anaconda3\\envs\\ema\\lib\\site-packages (from pydantic>=2.9.2->albumentations) (2.33.2)\n",
      "Requirement already satisfied: typing-inspection>=0.4.0 in c:\\users\\123\\anaconda3\\envs\\ema\\lib\\site-packages (from pydantic>=2.9.2->albumentations) (0.4.1)\n",
      "Downloading albumentations-2.0.8-py3-none-any.whl (369 kB)\n",
      "Downloading albucore-0.0.24-py3-none-any.whl (15 kB)\n",
      "Downloading opencv_python_headless-4.11.0.86-cp37-abi3-win_amd64.whl (39.4 MB)\n",
      "   ---------------------------------------- 0.0/39.4 MB ? eta -:--:--\n",
      "   -- ------------------------------------- 2.4/39.4 MB 11.2 MB/s eta 0:00:04\n",
      "   ----------- ---------------------------- 11.8/39.4 MB 29.5 MB/s eta 0:00:01\n",
      "   ------------- -------------------------- 13.6/39.4 MB 23.8 MB/s eta 0:00:02\n",
      "   --------------- ------------------------ 15.7/39.4 MB 19.4 MB/s eta 0:00:02\n",
      "   ------------------ --------------------- 18.1/39.4 MB 17.3 MB/s eta 0:00:02\n",
      "   -------------------- ------------------- 20.4/39.4 MB 16.1 MB/s eta 0:00:02\n",
      "   ---------------------- ----------------- 22.5/39.4 MB 15.3 MB/s eta 0:00:02\n",
      "   ------------------------ --------------- 24.4/39.4 MB 14.8 MB/s eta 0:00:02\n",
      "   ------------------------------ --------- 30.4/39.4 MB 16.2 MB/s eta 0:00:01\n",
      "   ---------------------------------- ----- 34.3/39.4 MB 16.4 MB/s eta 0:00:01\n",
      "   -------------------------------------- - 37.7/39.4 MB 16.3 MB/s eta 0:00:01\n",
      "   ---------------------------------------  39.3/39.4 MB 16.7 MB/s eta 0:00:01\n",
      "   ---------------------------------------- 39.4/39.4 MB 14.6 MB/s eta 0:00:00\n",
      "Downloading eval_type_backport-0.2.2-py3-none-any.whl (5.8 kB)\n",
      "Downloading simsimd-6.2.1-cp39-cp39-win_amd64.whl (86 kB)\n",
      "Downloading stringzilla-3.12.5-cp39-cp39-win_amd64.whl (80 kB)\n",
      "Installing collected packages: stringzilla, simsimd, opencv-python-headless, eval-type-backport, albucore, albumentations\n",
      "Successfully installed albucore-0.0.24 albumentations-2.0.8 eval-type-backport-0.2.2 opencv-python-headless-4.11.0.86 simsimd-6.2.1 stringzilla-3.12.5\n"
     ]
    }
   ],
   "source": [
    "!pip install albumentations opencv-python"
   ]
  },
  {
   "cell_type": "code",
   "execution_count": 3,
   "id": "94a53c27",
   "metadata": {},
   "outputs": [],
   "source": [
    "import os\n",
    "import cv2\n",
    "import albumentations as A\n",
    "from tqdm import tqdm\n",
    "\n",
    "# Paths\n",
    "image_dir = \"../dataset/images/test\"\n",
    "label_dir = \"../dataset/labels/test\"\n",
    "aug_img_dir = \"../dataset/images/aug_medellin\"\n",
    "aug_lbl_dir = \"../dataset/labels/aug_medellin\"\n",
    "\n",
    "transform = A.Compose([\n",
    "    A.RandomBrightnessContrast(p=0.7),\n",
    "    A.MotionBlur(blur_limit=3, p=0.4),\n",
    "    A.Rotate(limit=15, p=0.5),\n",
    "    A.RandomScale(scale_limit=0.3, p=0.5),\n",
    "    A.Perspective(scale=(0.05, 0.1), p=0.4),\n",
    "    A.HorizontalFlip(p=0.5),\n",
    "    A.RandomSizedBBoxSafeCrop(height=640, width=640, p=0.3),\n",
    "    A.ColorJitter(p=0.3)\n",
    "], bbox_params=A.BboxParams(format='yolo', label_fields=['class_labels']))\n",
    "\n",
    "# Número de augmentations por imagen\n",
    "N = 30"
   ]
  },
  {
   "cell_type": "code",
   "execution_count": 4,
   "id": "7c8fac29",
   "metadata": {},
   "outputs": [
    {
     "name": "stderr",
     "output_type": "stream",
     "text": [
      "100%|██████████| 22/22 [00:13<00:00,  1.62it/s]\n"
     ]
    }
   ],
   "source": [
    "for filename in tqdm(os.listdir(image_dir)):\n",
    "    if not filename.endswith(\".jpg\"):\n",
    "        continue\n",
    "\n",
    "    base_name = os.path.splitext(filename)[0]\n",
    "    img_path = os.path.join(image_dir, filename)\n",
    "    label_path = os.path.join(label_dir, base_name + \".txt\")\n",
    "\n",
    "    # Leer imagen\n",
    "    image = cv2.imread(img_path)\n",
    "    h, w = image.shape[:2]\n",
    "\n",
    "    # Leer anotaciones en formato YOLO\n",
    "    bboxes = []\n",
    "    class_labels = []\n",
    "    with open(label_path, \"r\") as f:\n",
    "        for line in f:\n",
    "            parts = line.strip().split()\n",
    "            cls = int(parts[0])\n",
    "            x, y, bw, bh = map(float, parts[1:])\n",
    "            bboxes.append([x, y, bw, bh])\n",
    "            class_labels.append(cls)\n",
    "\n",
    "    for i in range(N):\n",
    "        transformed = transform(image=image, bboxes=bboxes, class_labels=class_labels)\n",
    "\n",
    "        aug_img = transformed[\"image\"]\n",
    "        aug_bboxes = transformed[\"bboxes\"]\n",
    "        aug_labels = transformed[\"class_labels\"]\n",
    "\n",
    "        # Guardar imagen\n",
    "        out_img_name = f\"{base_name}_aug_{i}.jpg\"\n",
    "        out_img_path = os.path.join(aug_img_dir, out_img_name)\n",
    "        cv2.imwrite(out_img_path, aug_img)\n",
    "\n",
    "        # Guardar anotaciones\n",
    "        out_lbl_path = os.path.join(aug_lbl_dir, f\"{base_name}_aug_{i}.txt\")\n",
    "        with open(out_lbl_path, \"w\") as f:\n",
    "            for box, cls in zip(aug_bboxes, aug_labels):\n",
    "                f.write(f\"{cls} {' '.join(f'{coord:.6f}' for coord in box)}\\n\")"
   ]
  }
 ],
 "metadata": {
  "kernelspec": {
   "display_name": "yolotest",
   "language": "python",
   "name": "python3"
  },
  "language_info": {
   "codemirror_mode": {
    "name": "ipython",
    "version": 3
   },
   "file_extension": ".py",
   "mimetype": "text/x-python",
   "name": "python",
   "nbconvert_exporter": "python",
   "pygments_lexer": "ipython3",
   "version": "3.10.16"
  }
 },
 "nbformat": 4,
 "nbformat_minor": 5
}
